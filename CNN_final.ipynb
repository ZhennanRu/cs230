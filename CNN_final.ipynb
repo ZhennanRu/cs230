{
 "cells": [
  {
   "cell_type": "code",
   "execution_count": 1,
   "id": "0e866cc9",
   "metadata": {},
   "outputs": [],
   "source": [
    "import os\n",
    "import numpy as np\n",
    "import pandas as pd\n",
    "from matplotlib import pyplot as plt\n",
    "import random\n",
    "import tensorflow as tf\n",
    "from tensorflow import keras\n",
    "import keras.layers as tfl\n",
    "import seaborn as sn\n",
    "import dataset"
   ]
  },
  {
   "cell_type": "markdown",
   "id": "43ef85e4",
   "metadata": {},
   "source": [
    "Integrated part for dataset preprocessing and splitting"
   ]
  },
  {
   "cell_type": "code",
   "execution_count": 2,
   "id": "01e6b2a2",
   "metadata": {},
   "outputs": [
    {
     "name": "stderr",
     "output_type": "stream",
     "text": [
      "f:\\Shitford\\Lectures\\22fall\\CS230\\cs230\\dataset.py:49: RuntimeWarning: invalid value encountered in true_divide\n",
      "  X_train_norm = (X_train - X_train_miu)/X_train_std\n",
      "f:\\Shitford\\Lectures\\22fall\\CS230\\cs230\\dataset.py:50: RuntimeWarning: invalid value encountered in true_divide\n",
      "  X_valid_norm = (X_valid - X_valid_miu)/X_valid_std\n",
      "f:\\Shitford\\Lectures\\22fall\\CS230\\cs230\\dataset.py:51: RuntimeWarning: invalid value encountered in true_divide\n",
      "  X_test_norm = (X_test - X_test_miu)/X_test_std\n"
     ]
    }
   ],
   "source": [
    "# interfacce function to get splited dataset\n",
    "# resize all audio to (19, 1841) matrix\n",
    "dataset_collection = dataset.getMFCCDataset(train_size = 0.6, valid_size = 0.2, test_size = 0.2, cut = False, max_len = 1841)\n",
    "\n",
    "X_train = dataset_collection['X_train']\n",
    "Y_train = dataset_collection['Y_train']\n",
    "X_valid = dataset_collection['X_valid']\n",
    "Y_valid = dataset_collection['Y_valid']\n",
    "X_test = dataset_collection['X_test']\n",
    "Y_test = dataset_collection['Y_test']\n",
    "\n",
    "X_train_norm = dataset_collection['X_train_norm']\n",
    "X_valid_norm = dataset_collection['X_valid_norm']\n",
    "X_test_norm = dataset_collection['X_test_norm']"
   ]
  },
  {
   "cell_type": "code",
   "execution_count": 3,
   "id": "200a9022",
   "metadata": {},
   "outputs": [],
   "source": [
    "# convert array to tensor\n",
    "X_train_norm = tf.convert_to_tensor(X_train_norm)\n",
    "X_valid_norm = tf.convert_to_tensor(X_valid_norm)\n",
    "X_test_norm = tf.convert_to_tensor(X_test_norm)\n",
    "Y_train = tf.convert_to_tensor(Y_train)\n",
    "Y_valid = tf.convert_to_tensor(Y_valid)\n",
    "Y_test = tf.convert_to_tensor(Y_test)\n",
    "\n",
    "X_train = tf.convert_to_tensor(X_train)\n",
    "X_valid = tf.convert_to_tensor(X_valid)\n",
    "X_test = tf.convert_to_tensor(X_test)"
   ]
  },
  {
   "cell_type": "code",
   "execution_count": 4,
   "id": "1ec83fbd",
   "metadata": {},
   "outputs": [],
   "source": [
    "# flatten the shape\n",
    "#X_train_norm_flat = tf.reshape(X_train_norm, [540, -1])\n",
    "#X_valid_norm_flat = tf.reshape(X_valid_norm, [180, -1])\n",
    "#X_test_norm_flat = tf.reshape(X_test_norm, [180, -1])"
   ]
  },
  {
   "cell_type": "code",
   "execution_count": 5,
   "id": "809898c3",
   "metadata": {},
   "outputs": [],
   "source": [
    "def convolutional_model(input_shape):\n",
    "    \"\"\"\n",
    "    Implements the forward propagation for the model:\n",
    "    CONV2D -> RELU -> MAXPOOL -> CONV2D -> Softmax -> MAXPOOL -> FLATTEN -> DENSE\n",
    "    \n",
    "    Arguments:\n",
    "    input_mfcc -- input dataset, of shape (input_shape)\n",
    "\n",
    "    Returns:\n",
    "    model -- TF Keras model (object containing the information for the entire training process) \n",
    "    \"\"\"\n",
    "\n",
    "    input_mfcc = tf.keras.Input(shape=input_shape)\n",
    "    ## CONV1D: 4 filters 8, stride of 1, padding 'SAME'\n",
    "    Z1 = tfl.Conv1D(filters = 4, kernel_size = 8, strides = 2, padding='same', kernel_initializer = 'he_normal', kernel_regularizer = 'L1')(input_mfcc)\n",
    "    ## RELU\n",
    "    A1 = tfl.ReLU()(Z1)\n",
    "    ## MAXPOOL: window 8, stride 4, padding 'SAME'\n",
    "    P1 = tfl.MaxPool1D(pool_size = 8, strides = 4, padding='same')(A1)\n",
    "    \n",
    "    ## CONV1D: 2 filters 4, stride 1, padding 'SAME'\n",
    "    Z2 = tfl.Conv1D(filters = 4, kernel_size = 4, strides = 2, padding='same', kernel_initializer = 'he_normal', kernel_regularizer = 'L1')(P1)\n",
    "    ## RELU\n",
    "    A2 = tfl.Softmax()(Z2)\n",
    "    ## MAXPOOL: window 4, stride 2, padding 'SAME'\n",
    "    P2 = tfl.MaxPool1D(pool_size = 4, strides = 2, padding='same')(A2)\n",
    "    ## FLATTEN\n",
    "    F = tfl.Flatten()(P2)\n",
    "    ## Dense layer\n",
    "    ## 6 neurons in output layer. Hint: one of the arguments should be \"activation='softmax'\" \n",
    "    outputs = tfl.Dense(3, activation='softmax')(F)\n",
    "    \n",
    "    model = tf.keras.Model(inputs=input_mfcc, outputs=outputs)\n",
    "    return model"
   ]
  },
  {
   "cell_type": "code",
   "execution_count": 6,
   "id": "4104090c",
   "metadata": {},
   "outputs": [
    {
     "name": "stdout",
     "output_type": "stream",
     "text": [
      "Model: \"model\"\n",
      "_________________________________________________________________\n",
      " Layer (type)                Output Shape              Param #   \n",
      "=================================================================\n",
      " input_1 (InputLayer)        [(None, 19, 1841)]        0         \n",
      "                                                                 \n",
      " conv1d (Conv1D)             (None, 10, 4)             58916     \n",
      "                                                                 \n",
      " re_lu (ReLU)                (None, 10, 4)             0         \n",
      "                                                                 \n",
      " max_pooling1d (MaxPooling1D  (None, 3, 4)             0         \n",
      " )                                                               \n",
      "                                                                 \n",
      " conv1d_1 (Conv1D)           (None, 2, 4)              68        \n",
      "                                                                 \n",
      " softmax (Softmax)           (None, 2, 4)              0         \n",
      "                                                                 \n",
      " max_pooling1d_1 (MaxPooling  (None, 1, 4)             0         \n",
      " 1D)                                                             \n",
      "                                                                 \n",
      " flatten (Flatten)           (None, 4)                 0         \n",
      "                                                                 \n",
      " dense (Dense)               (None, 3)                 15        \n",
      "                                                                 \n",
      "=================================================================\n",
      "Total params: 58,999\n",
      "Trainable params: 58,999\n",
      "Non-trainable params: 0\n",
      "_________________________________________________________________\n"
     ]
    }
   ],
   "source": [
    "conv_model = convolutional_model((19, 1841))\n",
    "conv_model.compile(optimizer='adam',\n",
    "                  loss='categorical_crossentropy',\n",
    "                  metrics=['accuracy'])\n",
    "conv_model.summary()"
   ]
  },
  {
   "cell_type": "code",
   "execution_count": 7,
   "id": "acd088d5",
   "metadata": {},
   "outputs": [
    {
     "name": "stdout",
     "output_type": "stream",
     "text": [
      "Epoch 1/100\n",
      "17/17 [==============================] - 4s 57ms/step - loss: 4.4527 - accuracy: 0.6185 - val_loss: 2.7372 - val_accuracy: 0.7389\n",
      "Epoch 2/100\n",
      "17/17 [==============================] - 1s 30ms/step - loss: 2.1298 - accuracy: 0.8111 - val_loss: 1.7380 - val_accuracy: 0.7444\n",
      "Epoch 3/100\n",
      "17/17 [==============================] - 0s 28ms/step - loss: 1.5329 - accuracy: 0.8333 - val_loss: 1.4658 - val_accuracy: 0.7778\n",
      "Epoch 4/100\n",
      "17/17 [==============================] - 0s 27ms/step - loss: 1.3860 - accuracy: 0.8574 - val_loss: 1.4560 - val_accuracy: 0.7944\n",
      "Epoch 5/100\n",
      "17/17 [==============================] - 0s 26ms/step - loss: 1.3711 - accuracy: 0.8593 - val_loss: 1.3724 - val_accuracy: 0.7556\n",
      "Epoch 6/100\n",
      "17/17 [==============================] - 0s 25ms/step - loss: 1.3034 - accuracy: 0.8722 - val_loss: 1.3669 - val_accuracy: 0.7611\n",
      "Epoch 7/100\n",
      "17/17 [==============================] - 0s 28ms/step - loss: 1.2696 - accuracy: 0.8741 - val_loss: 1.3180 - val_accuracy: 0.7611\n",
      "Epoch 8/100\n",
      "17/17 [==============================] - 0s 24ms/step - loss: 1.2746 - accuracy: 0.8741 - val_loss: 1.3511 - val_accuracy: 0.7778\n",
      "Epoch 9/100\n",
      "17/17 [==============================] - 0s 24ms/step - loss: 1.2225 - accuracy: 0.8963 - val_loss: 1.2983 - val_accuracy: 0.7833\n",
      "Epoch 10/100\n",
      "17/17 [==============================] - 0s 24ms/step - loss: 1.2084 - accuracy: 0.8907 - val_loss: 1.2748 - val_accuracy: 0.7722\n",
      "Epoch 11/100\n",
      "17/17 [==============================] - 0s 26ms/step - loss: 1.1887 - accuracy: 0.8907 - val_loss: 1.2964 - val_accuracy: 0.7667\n",
      "Epoch 12/100\n",
      "17/17 [==============================] - 0s 24ms/step - loss: 1.1522 - accuracy: 0.8963 - val_loss: 1.2705 - val_accuracy: 0.7667\n",
      "Epoch 13/100\n",
      "17/17 [==============================] - 0s 25ms/step - loss: 1.1863 - accuracy: 0.8981 - val_loss: 1.3239 - val_accuracy: 0.7500\n",
      "Epoch 14/100\n",
      "17/17 [==============================] - 0s 24ms/step - loss: 1.1703 - accuracy: 0.9222 - val_loss: 1.2248 - val_accuracy: 0.8000\n",
      "Epoch 15/100\n",
      "17/17 [==============================] - 0s 23ms/step - loss: 1.1946 - accuracy: 0.9000 - val_loss: 1.3258 - val_accuracy: 0.7944\n",
      "Epoch 16/100\n",
      "17/17 [==============================] - 0s 25ms/step - loss: 1.2174 - accuracy: 0.9037 - val_loss: 1.2973 - val_accuracy: 0.8167\n",
      "Epoch 17/100\n",
      "17/17 [==============================] - 0s 24ms/step - loss: 1.1590 - accuracy: 0.9130 - val_loss: 1.3325 - val_accuracy: 0.7389\n",
      "Epoch 18/100\n",
      "17/17 [==============================] - 0s 25ms/step - loss: 1.1273 - accuracy: 0.9222 - val_loss: 1.2911 - val_accuracy: 0.7833\n",
      "Epoch 19/100\n",
      "17/17 [==============================] - 0s 25ms/step - loss: 1.2407 - accuracy: 0.9185 - val_loss: 1.5061 - val_accuracy: 0.7444\n",
      "Epoch 20/100\n",
      "17/17 [==============================] - 0s 24ms/step - loss: 1.2304 - accuracy: 0.9241 - val_loss: 1.3671 - val_accuracy: 0.7667\n",
      "Epoch 21/100\n",
      "17/17 [==============================] - 0s 24ms/step - loss: 1.1835 - accuracy: 0.9352 - val_loss: 1.3221 - val_accuracy: 0.8222\n",
      "Epoch 22/100\n",
      "17/17 [==============================] - 0s 24ms/step - loss: 1.2857 - accuracy: 0.9056 - val_loss: 1.4647 - val_accuracy: 0.7778\n",
      "Epoch 23/100\n",
      "17/17 [==============================] - 0s 25ms/step - loss: 1.3010 - accuracy: 0.9278 - val_loss: 1.3873 - val_accuracy: 0.8056\n",
      "Epoch 24/100\n",
      "17/17 [==============================] - 0s 24ms/step - loss: 1.2029 - accuracy: 0.9352 - val_loss: 1.3490 - val_accuracy: 0.7778\n",
      "Epoch 25/100\n",
      "17/17 [==============================] - 0s 24ms/step - loss: 1.1053 - accuracy: 0.9389 - val_loss: 1.2634 - val_accuracy: 0.7556\n",
      "Epoch 26/100\n",
      "17/17 [==============================] - 0s 25ms/step - loss: 1.0456 - accuracy: 0.9352 - val_loss: 1.3023 - val_accuracy: 0.7944\n",
      "Epoch 27/100\n",
      "17/17 [==============================] - 0s 23ms/step - loss: 1.1863 - accuracy: 0.9315 - val_loss: 1.4203 - val_accuracy: 0.7889\n",
      "Epoch 28/100\n",
      "17/17 [==============================] - 0s 25ms/step - loss: 1.0926 - accuracy: 0.9556 - val_loss: 1.2135 - val_accuracy: 0.7944\n",
      "Epoch 29/100\n",
      "17/17 [==============================] - 0s 24ms/step - loss: 1.0190 - accuracy: 0.9519 - val_loss: 1.3273 - val_accuracy: 0.7833\n",
      "Epoch 30/100\n",
      "17/17 [==============================] - 0s 24ms/step - loss: 1.1294 - accuracy: 0.9519 - val_loss: 1.2862 - val_accuracy: 0.8222\n",
      "Epoch 31/100\n",
      "17/17 [==============================] - 0s 25ms/step - loss: 1.1978 - accuracy: 0.9407 - val_loss: 1.4682 - val_accuracy: 0.7722\n",
      "Epoch 32/100\n",
      "17/17 [==============================] - 0s 26ms/step - loss: 1.1783 - accuracy: 0.9630 - val_loss: 1.3367 - val_accuracy: 0.8167\n",
      "Epoch 33/100\n",
      "17/17 [==============================] - 0s 26ms/step - loss: 1.0704 - accuracy: 0.9519 - val_loss: 1.2733 - val_accuracy: 0.7778\n",
      "Epoch 34/100\n",
      "17/17 [==============================] - 0s 24ms/step - loss: 1.0193 - accuracy: 0.9500 - val_loss: 1.2034 - val_accuracy: 0.8056\n",
      "Epoch 35/100\n",
      "17/17 [==============================] - 0s 26ms/step - loss: 1.1249 - accuracy: 0.9556 - val_loss: 1.4942 - val_accuracy: 0.7833\n",
      "Epoch 36/100\n",
      "17/17 [==============================] - 0s 24ms/step - loss: 1.2522 - accuracy: 0.9630 - val_loss: 1.4428 - val_accuracy: 0.7944\n",
      "Epoch 37/100\n",
      "17/17 [==============================] - 0s 24ms/step - loss: 1.1183 - accuracy: 0.9593 - val_loss: 1.2895 - val_accuracy: 0.7889\n",
      "Epoch 38/100\n",
      "17/17 [==============================] - 0s 24ms/step - loss: 0.9980 - accuracy: 0.9593 - val_loss: 1.1833 - val_accuracy: 0.8167\n",
      "Epoch 39/100\n",
      "17/17 [==============================] - 0s 23ms/step - loss: 1.0889 - accuracy: 0.9593 - val_loss: 1.4013 - val_accuracy: 0.8111\n",
      "Epoch 40/100\n",
      "17/17 [==============================] - 0s 25ms/step - loss: 1.1022 - accuracy: 0.9611 - val_loss: 1.2630 - val_accuracy: 0.7778\n",
      "Epoch 41/100\n",
      "17/17 [==============================] - 0s 24ms/step - loss: 0.9485 - accuracy: 0.9556 - val_loss: 1.3239 - val_accuracy: 0.7889\n",
      "Epoch 42/100\n",
      "17/17 [==============================] - 0s 25ms/step - loss: 1.1055 - accuracy: 0.9648 - val_loss: 1.3000 - val_accuracy: 0.8167\n",
      "Epoch 43/100\n",
      "17/17 [==============================] - 0s 25ms/step - loss: 1.0283 - accuracy: 0.9630 - val_loss: 1.4217 - val_accuracy: 0.8000\n",
      "Epoch 44/100\n",
      "17/17 [==============================] - 0s 24ms/step - loss: 1.2788 - accuracy: 0.9556 - val_loss: 1.6137 - val_accuracy: 0.7556\n",
      "Epoch 45/100\n",
      "17/17 [==============================] - 0s 26ms/step - loss: 1.2242 - accuracy: 0.9722 - val_loss: 1.4658 - val_accuracy: 0.7833\n",
      "Epoch 46/100\n",
      "17/17 [==============================] - 0s 25ms/step - loss: 1.0475 - accuracy: 0.9704 - val_loss: 1.1973 - val_accuracy: 0.7722\n",
      "Epoch 47/100\n",
      "17/17 [==============================] - 0s 26ms/step - loss: 1.0397 - accuracy: 0.9593 - val_loss: 1.4445 - val_accuracy: 0.7722\n",
      "Epoch 48/100\n",
      "17/17 [==============================] - 0s 25ms/step - loss: 1.0660 - accuracy: 0.9741 - val_loss: 1.3240 - val_accuracy: 0.7778\n",
      "Epoch 49/100\n",
      "17/17 [==============================] - 0s 26ms/step - loss: 1.0941 - accuracy: 0.9556 - val_loss: 1.4464 - val_accuracy: 0.7778\n",
      "Epoch 50/100\n",
      "17/17 [==============================] - 0s 25ms/step - loss: 1.0221 - accuracy: 0.9722 - val_loss: 1.2127 - val_accuracy: 0.8000\n",
      "Epoch 51/100\n",
      "17/17 [==============================] - 0s 25ms/step - loss: 0.9375 - accuracy: 0.9741 - val_loss: 1.4203 - val_accuracy: 0.7500\n",
      "Epoch 52/100\n",
      "17/17 [==============================] - 0s 25ms/step - loss: 1.1016 - accuracy: 0.9667 - val_loss: 1.3617 - val_accuracy: 0.7889\n",
      "Epoch 53/100\n",
      "17/17 [==============================] - 0s 26ms/step - loss: 0.9892 - accuracy: 0.9778 - val_loss: 1.2297 - val_accuracy: 0.8111\n",
      "Epoch 54/100\n",
      "17/17 [==============================] - 0s 27ms/step - loss: 1.0012 - accuracy: 0.9778 - val_loss: 1.2749 - val_accuracy: 0.7778\n",
      "Epoch 55/100\n",
      "17/17 [==============================] - 0s 26ms/step - loss: 0.9569 - accuracy: 0.9722 - val_loss: 1.3924 - val_accuracy: 0.7833\n",
      "Epoch 56/100\n",
      "17/17 [==============================] - 0s 24ms/step - loss: 1.0847 - accuracy: 0.9667 - val_loss: 1.4814 - val_accuracy: 0.8111\n",
      "Epoch 57/100\n",
      "17/17 [==============================] - 0s 23ms/step - loss: 1.2528 - accuracy: 0.9556 - val_loss: 1.5806 - val_accuracy: 0.7722\n",
      "Epoch 58/100\n",
      "17/17 [==============================] - 0s 25ms/step - loss: 1.0750 - accuracy: 0.9778 - val_loss: 1.3626 - val_accuracy: 0.7500\n",
      "Epoch 59/100\n",
      "17/17 [==============================] - 0s 25ms/step - loss: 1.0174 - accuracy: 0.9722 - val_loss: 1.2890 - val_accuracy: 0.7944\n",
      "Epoch 60/100\n",
      "17/17 [==============================] - 0s 23ms/step - loss: 0.9838 - accuracy: 0.9741 - val_loss: 1.3431 - val_accuracy: 0.7944\n",
      "Epoch 61/100\n",
      "17/17 [==============================] - 0s 25ms/step - loss: 1.0001 - accuracy: 0.9759 - val_loss: 1.3019 - val_accuracy: 0.7778\n",
      "Epoch 62/100\n",
      "17/17 [==============================] - 0s 28ms/step - loss: 0.9821 - accuracy: 0.9722 - val_loss: 1.5256 - val_accuracy: 0.7778\n",
      "Epoch 63/100\n",
      "17/17 [==============================] - 0s 26ms/step - loss: 1.1403 - accuracy: 0.9722 - val_loss: 1.5043 - val_accuracy: 0.7778\n",
      "Epoch 64/100\n",
      "17/17 [==============================] - 0s 24ms/step - loss: 1.1208 - accuracy: 0.9537 - val_loss: 1.3070 - val_accuracy: 0.8278\n",
      "Epoch 65/100\n",
      "17/17 [==============================] - 0s 24ms/step - loss: 1.0093 - accuracy: 0.9778 - val_loss: 1.4530 - val_accuracy: 0.7833\n",
      "Epoch 66/100\n",
      "17/17 [==============================] - 0s 25ms/step - loss: 1.2658 - accuracy: 0.9444 - val_loss: 1.8026 - val_accuracy: 0.7778\n",
      "Epoch 67/100\n",
      "17/17 [==============================] - 0s 23ms/step - loss: 1.4733 - accuracy: 0.9648 - val_loss: 1.8102 - val_accuracy: 0.7722\n",
      "Epoch 68/100\n",
      "17/17 [==============================] - 0s 25ms/step - loss: 1.3061 - accuracy: 0.9741 - val_loss: 1.5808 - val_accuracy: 0.7944\n",
      "Epoch 69/100\n",
      "17/17 [==============================] - 0s 24ms/step - loss: 1.2145 - accuracy: 0.9778 - val_loss: 1.4341 - val_accuracy: 0.7833\n",
      "Epoch 70/100\n",
      "17/17 [==============================] - 0s 25ms/step - loss: 1.0347 - accuracy: 0.9685 - val_loss: 1.4221 - val_accuracy: 0.7500\n",
      "Epoch 71/100\n",
      "17/17 [==============================] - 0s 26ms/step - loss: 1.0395 - accuracy: 0.9778 - val_loss: 1.6685 - val_accuracy: 0.7167\n",
      "Epoch 72/100\n",
      "17/17 [==============================] - 0s 24ms/step - loss: 1.3248 - accuracy: 0.9537 - val_loss: 1.6836 - val_accuracy: 0.7722\n",
      "Epoch 73/100\n",
      "17/17 [==============================] - 0s 24ms/step - loss: 1.1282 - accuracy: 0.9796 - val_loss: 1.4361 - val_accuracy: 0.7611\n",
      "Epoch 74/100\n",
      "17/17 [==============================] - 0s 23ms/step - loss: 0.9496 - accuracy: 0.9759 - val_loss: 1.3404 - val_accuracy: 0.7611\n",
      "Epoch 75/100\n",
      "17/17 [==============================] - 0s 25ms/step - loss: 0.9883 - accuracy: 0.9778 - val_loss: 1.3805 - val_accuracy: 0.7889\n",
      "Epoch 76/100\n",
      "17/17 [==============================] - 0s 25ms/step - loss: 1.1315 - accuracy: 0.9667 - val_loss: 1.7605 - val_accuracy: 0.7500\n",
      "Epoch 77/100\n",
      "17/17 [==============================] - 0s 23ms/step - loss: 1.2518 - accuracy: 0.9704 - val_loss: 1.4946 - val_accuracy: 0.7722\n",
      "Epoch 78/100\n",
      "17/17 [==============================] - 0s 25ms/step - loss: 0.8990 - accuracy: 0.9907 - val_loss: 1.1451 - val_accuracy: 0.7889\n",
      "Epoch 79/100\n",
      "17/17 [==============================] - 0s 23ms/step - loss: 0.6686 - accuracy: 0.9944 - val_loss: 0.9931 - val_accuracy: 0.7944\n",
      "Epoch 80/100\n",
      "17/17 [==============================] - 0s 25ms/step - loss: 0.7310 - accuracy: 0.9852 - val_loss: 1.3135 - val_accuracy: 0.7778\n",
      "Epoch 81/100\n",
      "17/17 [==============================] - 0s 24ms/step - loss: 1.0165 - accuracy: 0.9667 - val_loss: 1.4314 - val_accuracy: 0.7444\n",
      "Epoch 82/100\n",
      "17/17 [==============================] - 0s 24ms/step - loss: 1.0002 - accuracy: 0.9667 - val_loss: 1.3432 - val_accuracy: 0.7833\n",
      "Epoch 83/100\n",
      "17/17 [==============================] - 0s 26ms/step - loss: 0.9505 - accuracy: 0.9574 - val_loss: 1.4371 - val_accuracy: 0.7833\n",
      "Epoch 84/100\n",
      "17/17 [==============================] - 0s 24ms/step - loss: 1.1607 - accuracy: 0.9704 - val_loss: 1.4869 - val_accuracy: 0.7722\n",
      "Epoch 85/100\n",
      "17/17 [==============================] - 0s 27ms/step - loss: 1.0755 - accuracy: 0.9759 - val_loss: 1.4738 - val_accuracy: 0.7722\n",
      "Epoch 86/100\n",
      "17/17 [==============================] - 0s 24ms/step - loss: 1.0506 - accuracy: 0.9704 - val_loss: 1.5115 - val_accuracy: 0.8167\n",
      "Epoch 87/100\n",
      "17/17 [==============================] - 0s 25ms/step - loss: 1.0984 - accuracy: 0.9667 - val_loss: 1.4432 - val_accuracy: 0.7833\n",
      "Epoch 88/100\n",
      "17/17 [==============================] - 0s 24ms/step - loss: 1.0642 - accuracy: 0.9778 - val_loss: 1.3821 - val_accuracy: 0.7889\n",
      "Epoch 89/100\n",
      "17/17 [==============================] - 0s 24ms/step - loss: 0.9605 - accuracy: 0.9759 - val_loss: 1.3544 - val_accuracy: 0.7667\n",
      "Epoch 90/100\n",
      "17/17 [==============================] - 0s 25ms/step - loss: 0.8846 - accuracy: 0.9815 - val_loss: 1.2948 - val_accuracy: 0.7944\n",
      "Epoch 91/100\n",
      "17/17 [==============================] - 0s 24ms/step - loss: 0.8772 - accuracy: 0.9704 - val_loss: 1.2929 - val_accuracy: 0.7667\n",
      "Epoch 92/100\n",
      "17/17 [==============================] - 0s 25ms/step - loss: 0.9842 - accuracy: 0.9574 - val_loss: 1.6481 - val_accuracy: 0.7444\n",
      "Epoch 93/100\n",
      "17/17 [==============================] - 0s 24ms/step - loss: 1.4608 - accuracy: 0.9500 - val_loss: 2.0091 - val_accuracy: 0.7611\n",
      "Epoch 94/100\n",
      "17/17 [==============================] - 0s 24ms/step - loss: 1.4544 - accuracy: 0.9667 - val_loss: 1.6254 - val_accuracy: 0.7556\n",
      "Epoch 95/100\n",
      "17/17 [==============================] - 0s 25ms/step - loss: 1.0100 - accuracy: 0.9778 - val_loss: 1.1971 - val_accuracy: 0.8222\n",
      "Epoch 96/100\n",
      "17/17 [==============================] - 0s 25ms/step - loss: 0.8010 - accuracy: 0.9963 - val_loss: 1.2356 - val_accuracy: 0.8111\n",
      "Epoch 97/100\n",
      "17/17 [==============================] - 0s 27ms/step - loss: 0.8408 - accuracy: 0.9852 - val_loss: 1.2566 - val_accuracy: 0.7833\n",
      "Epoch 98/100\n",
      "17/17 [==============================] - 0s 24ms/step - loss: 0.9203 - accuracy: 0.9796 - val_loss: 1.3848 - val_accuracy: 0.7722\n",
      "Epoch 99/100\n",
      "17/17 [==============================] - 0s 27ms/step - loss: 0.8632 - accuracy: 0.9889 - val_loss: 1.4762 - val_accuracy: 0.7500\n",
      "Epoch 100/100\n",
      "17/17 [==============================] - 0s 24ms/step - loss: 1.3003 - accuracy: 0.9352 - val_loss: 1.8078 - val_accuracy: 0.7611\n"
     ]
    }
   ],
   "source": [
    "history = conv_model.fit(X_train_norm, Y_train, epochs=100, validation_data=(X_valid_norm, Y_valid))\n",
    "# history2 = conv_model.fit(X_train, Y_train, epochs=100, validation_data=(X_valid, Y_valid))"
   ]
  },
  {
   "cell_type": "code",
   "execution_count": 8,
   "id": "c2a4bb06",
   "metadata": {},
   "outputs": [
    {
     "name": "stderr",
     "output_type": "stream",
     "text": [
      "E:\\Anaconda3\\lib\\site-packages\\pandas\\core\\frame.py:5039: SettingWithCopyWarning: \n",
      "A value is trying to be set on a copy of a slice from a DataFrame\n",
      "\n",
      "See the caveats in the documentation: https://pandas.pydata.org/pandas-docs/stable/user_guide/indexing.html#returning-a-view-versus-a-copy\n",
      "  return super().rename(\n"
     ]
    },
    {
     "data": {
      "text/plain": [
       "[Text(0.5, 0, 'Epoch'), Text(0, 0.5, 'Accuracy')]"
      ]
     },
     "execution_count": 8,
     "metadata": {},
     "output_type": "execute_result"
    },
    {
     "data": {
      "image/png": "[encoded data removed]",
      "text/plain": [
       "<Figure size 432x288 with 1 Axes>"
      ]
     },
     "metadata": {
      "needs_background": "light"
     },
     "output_type": "display_data"
    },
    {
     "data": {
      "image/png": "[encoded data removed]",
      "text/plain": [
       "<Figure size 432x288 with 1 Axes>"
      ]
     },
     "metadata": {
      "needs_background": "light"
     },
     "output_type": "display_data"
    }
   ],
   "source": [
    "df_loss_acc = pd.DataFrame(history.history)\n",
    "df_loss= df_loss_acc[['loss','val_loss']]\n",
    "df_loss.rename(columns={'loss':'train','val_loss':'validation'},inplace=True)\n",
    "df_acc= df_loss_acc[['accuracy','val_accuracy']]\n",
    "df_acc.rename(columns={'accuracy':'train','val_accuracy':'validation'},inplace=True)\n",
    "df_loss.plot(title='Model loss',figsize=(6,4)).set(xlabel='Epoch',ylabel='Loss')\n",
    "df_acc.plot(title='Model Accuracy',figsize=(6,4)).set(xlabel='Epoch',ylabel='Accuracy')"
   ]
  },
  {
   "cell_type": "markdown",
   "id": "d6e2a30f",
   "metadata": {},
   "source": [
    "Display the confusion matrix"
   ]
  },
  {
   "cell_type": "code",
   "execution_count": 9,
   "id": "f926a8e9",
   "metadata": {},
   "outputs": [
    {
     "name": "stdout",
     "output_type": "stream",
     "text": [
      "6/6 [==============================] - 0s 5ms/step\n"
     ]
    },
    {
     "data": {
      "text/plain": [
       "[Text(0.5, 15.0, 'prediction'), Text(33.0, 0.5, 'actual')]"
      ]
     },
     "execution_count": 9,
     "metadata": {},
     "output_type": "execute_result"
    },
    {
     "data": {
      "image/png": "[encoded data removed]",
      "text/plain": [
       "<Figure size 432x288 with 2 Axes>"
      ]
     },
     "metadata": {
      "needs_background": "light"
     },
     "output_type": "display_data"
    }
   ],
   "source": [
    "Y_pred = conv_model.predict(X_test)\n",
    "Y_test_numpy = Y_test.numpy()\n",
    "emotion_pred = []\n",
    "emotion_test = []\n",
    "for i in range(len(Y_pred)):\n",
    "    if (Y_pred[i][0] > 0.5):\n",
    "        emotion_pred.append(0) # angry\n",
    "    elif (Y_pred[i][1] > 0.5):\n",
    "        emotion_pred.append(1) # happy\n",
    "    elif (Y_pred[i][2] > 0.5):\n",
    "        emotion_pred.append(2) # normal\n",
    "    else:\n",
    "        emotion_pred.append(3) # not decided\n",
    "\n",
    "    if (Y_test_numpy[i][0] > 0.5):\n",
    "        emotion_test.append(0)\n",
    "    elif (Y_test_numpy[i][1] > 0.5):\n",
    "        emotion_test.append(1)\n",
    "    elif (Y_test_numpy[i][2] > 0.5):\n",
    "        emotion_test.append(2)\n",
    "\n",
    "emotion_test = tf.convert_to_tensor(emotion_test)\n",
    "emotion_pred = tf.convert_to_tensor(emotion_pred)\n",
    "\n",
    "confusion = tf.math.confusion_matrix(emotion_test, emotion_pred, num_classes = 4)\n",
    "\n",
    "df=pd.DataFrame(confusion.numpy(),index=['angry', 'happy', 'normal', 'not sure'],columns=['angry', 'happy', 'normal', 'not sure'])\n",
    "confusiton_map = sn.heatmap(df,annot=True, cmap='crest')\n",
    "confusiton_map.set(xlabel=\"prediction\", ylabel=\"actual\")"
   ]
  },
  {
   "cell_type": "code",
   "execution_count": null,
   "id": "cd1d2da8",
   "metadata": {},
   "outputs": [],
   "source": []
  }
 ],
 "metadata": {
  "kernelspec": {
   "display_name": "Python 3 (ipykernel)",
   "language": "python",
   "name": "python3"
  },
  "language_info": {
   "codemirror_mode": {
    "name": "ipython",
    "version": 3
   },
   "file_extension": ".py",
   "mimetype": "text/x-python",
   "name": "python",
   "nbconvert_exporter": "python",
   "pygments_lexer": "ipython3",
   "version": "3.9.7"
  }
 },
 "nbformat": 4,
 "nbformat_minor": 5
}
