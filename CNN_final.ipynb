{
 "cells": [
  {
   "cell_type": "code",
   "execution_count": 2,
   "id": "0e866cc9",
   "metadata": {},
   "outputs": [],
   "source": [
    "import os\n",
    "import numpy as np\n",
    "import pandas as pd\n",
    "from matplotlib import pyplot as plt\n",
    "import random\n",
    "import tensorflow as tf\n",
    "from tensorflow import keras\n",
    "import keras.layers as tfl\n",
    "import seaborn as sn\n",
    "import dataset"
   ]
  },
  {
   "cell_type": "markdown",
   "id": "43ef85e4",
   "metadata": {},
   "source": [
    "Integrated part for dataset preprocessing and splitting"
   ]
  },
  {
   "cell_type": "code",
   "execution_count": 3,
   "id": "01e6b2a2",
   "metadata": {},
   "outputs": [
    {
     "name": "stderr",
     "output_type": "stream",
     "text": [
      "f:\\Shitford\\Lectures\\22fall\\CS230\\cs230\\dataset.py:54: RuntimeWarning: invalid value encountered in true_divide\n",
      "  X_train_norm = (X_train - X_train_miu)/X_train_std\n",
      "f:\\Shitford\\Lectures\\22fall\\CS230\\cs230\\dataset.py:55: RuntimeWarning: invalid value encountered in true_divide\n",
      "  X_valid_norm = (X_valid - X_valid_miu)/X_valid_std\n",
      "f:\\Shitford\\Lectures\\22fall\\CS230\\cs230\\dataset.py:56: RuntimeWarning: invalid value encountered in true_divide\n",
      "  X_test_norm = (X_test - X_test_miu)/X_test_std\n"
     ]
    }
   ],
   "source": [
    "# interfacce function to get splited dataset\n",
    "# resize all audio to (1841,19) matrix\n",
    "dataset_collection = dataset.getMFCCDataset(train_size = 0.6, valid_size = 0.2, test_size = 0.2, cut = False, max_len = 1841)\n",
    "\n",
    "X_train = dataset_collection['X_train']\n",
    "Y_train = dataset_collection['Y_train']\n",
    "X_valid = dataset_collection['X_valid']\n",
    "Y_valid = dataset_collection['Y_valid']\n",
    "X_test = dataset_collection['X_test']\n",
    "Y_test = dataset_collection['Y_test']\n",
    "\n",
    "X_train_norm = dataset_collection['X_train_norm']\n",
    "X_valid_norm = dataset_collection['X_valid_norm']\n",
    "X_test_norm = dataset_collection['X_test_norm']"
   ]
  },
  {
   "cell_type": "code",
   "execution_count": 4,
   "id": "200a9022",
   "metadata": {},
   "outputs": [],
   "source": [
    "# convert array to tensor\n",
    "X_train_norm = tf.convert_to_tensor(X_train_norm)\n",
    "X_valid_norm = tf.convert_to_tensor(X_valid_norm)\n",
    "X_test_norm = tf.convert_to_tensor(X_test_norm)\n",
    "Y_train = tf.convert_to_tensor(Y_train)\n",
    "Y_valid = tf.convert_to_tensor(Y_valid)\n",
    "Y_test = tf.convert_to_tensor(Y_test)\n",
    "\n",
    "X_train = tf.convert_to_tensor(X_train)\n",
    "X_valid = tf.convert_to_tensor(X_valid)\n",
    "X_test = tf.convert_to_tensor(X_test)"
   ]
  },
  {
   "cell_type": "code",
   "execution_count": 5,
   "id": "d925ca09",
   "metadata": {},
   "outputs": [
    {
     "name": "stdout",
     "output_type": "stream",
     "text": [
      "(540, 1841, 19)\n"
     ]
    }
   ],
   "source": [
    "print(X_train.shape)"
   ]
  },
  {
   "cell_type": "markdown",
   "id": "b0e3cd03",
   "metadata": {},
   "source": [
    "Build CNN model on Japanese dataset"
   ]
  },
  {
   "cell_type": "code",
   "execution_count": 6,
   "id": "809898c3",
   "metadata": {},
   "outputs": [],
   "source": [
    "def convolutional_model(input_shape):\n",
    "    \"\"\"\n",
    "    Implements the forward propagation for the model:\n",
    "    CONV2D -> RELU -> MAXPOOL -> CONV2D -> Softmax -> MAXPOOL -> FLATTEN -> DENSE\n",
    "    \n",
    "    Arguments:\n",
    "    input_mfcc -- input dataset, of shape (input_shape)\n",
    "\n",
    "    Returns:\n",
    "    model -- TF Keras model (object containing the information for the entire training process) \n",
    "    \"\"\"\n",
    "\n",
    "    input_mfcc = tf.keras.Input(shape=input_shape)\n",
    "    ## CONV1D: 4 filters 8, stride of 1, padding 'SAME'\n",
    "    Z1 = tfl.Conv1D(filters = 4, kernel_size = 8, strides = 2, padding='same', kernel_initializer = 'he_normal', kernel_regularizer = 'L1')(input_mfcc)\n",
    "    ## RELU\n",
    "    A1 = tfl.ReLU()(Z1)\n",
    "    ## MAXPOOL: window 8, stride 4, padding 'SAME'\n",
    "    P1 = tfl.MaxPool1D(pool_size = 8, strides = 4, padding='same')(A1)\n",
    "    \n",
    "    ## CONV1D: 2 filters 4, stride 1, padding 'SAME'\n",
    "    Z2 = tfl.Conv1D(filters = 4, kernel_size = 4, strides = 2, padding='same', kernel_initializer = 'he_normal', kernel_regularizer = 'L1')(P1)\n",
    "    ## RELU\n",
    "    A2 = tfl.ReLU()(Z2)\n",
    "    ## MAXPOOL: window 4, stride 2, padding 'SAME'\n",
    "    P2 = tfl.MaxPool1D(pool_size = 4, strides = 2, padding='same')(A2)\n",
    "    ## FLATTEN\n",
    "    F = tfl.Flatten()(P2)\n",
    "    ## Dense layer\n",
    "    ## 6 neurons in output layer. Hint: one of the arguments should be \"activation='softmax'\" \n",
    "    outputs = tfl.Dense(3, activation='softmax')(F)\n",
    "    \n",
    "    model = tf.keras.Model(inputs=input_mfcc, outputs=outputs)\n",
    "    return model"
   ]
  },
  {
   "cell_type": "code",
   "execution_count": 7,
   "id": "4104090c",
   "metadata": {},
   "outputs": [
    {
     "name": "stdout",
     "output_type": "stream",
     "text": [
      "Model: \"model\"\n",
      "_________________________________________________________________\n",
      " Layer (type)                Output Shape              Param #   \n",
      "=================================================================\n",
      " input_1 (InputLayer)        [(None, 1841, 19)]        0         \n",
      "                                                                 \n",
      " conv1d (Conv1D)             (None, 921, 4)            612       \n",
      "                                                                 \n",
      " re_lu (ReLU)                (None, 921, 4)            0         \n",
      "                                                                 \n",
      " max_pooling1d (MaxPooling1D  (None, 231, 4)           0         \n",
      " )                                                               \n",
      "                                                                 \n",
      " conv1d_1 (Conv1D)           (None, 116, 4)            68        \n",
      "                                                                 \n",
      " re_lu_1 (ReLU)              (None, 116, 4)            0         \n",
      "                                                                 \n",
      " max_pooling1d_1 (MaxPooling  (None, 58, 4)            0         \n",
      " 1D)                                                             \n",
      "                                                                 \n",
      " flatten (Flatten)           (None, 232)               0         \n",
      "                                                                 \n",
      " dense (Dense)               (None, 3)                 699       \n",
      "                                                                 \n",
      "=================================================================\n",
      "Total params: 1,379\n",
      "Trainable params: 1,379\n",
      "Non-trainable params: 0\n",
      "_________________________________________________________________\n"
     ]
    }
   ],
   "source": [
    "conv_model = convolutional_model((1841, 19))\n",
    "conv_model.compile(optimizer='adam',\n",
    "                  loss='categorical_crossentropy',\n",
    "                  metrics=['accuracy'])\n",
    "conv_model.summary()"
   ]
  },
  {
   "cell_type": "code",
   "execution_count": 8,
   "id": "acd088d5",
   "metadata": {},
   "outputs": [
    {
     "name": "stdout",
     "output_type": "stream",
     "text": [
      "Epoch 1/100\n",
      "17/17 [==============================] - 4s 58ms/step - loss: 2.9533 - accuracy: 0.3167 - val_loss: 2.5078 - val_accuracy: 0.3667\n",
      "Epoch 2/100\n",
      "17/17 [==============================] - 1s 31ms/step - loss: 2.0589 - accuracy: 0.4519 - val_loss: 2.0120 - val_accuracy: 0.4833\n",
      "Epoch 3/100\n",
      "17/17 [==============================] - 1s 32ms/step - loss: 1.7526 - accuracy: 0.5593 - val_loss: 1.7257 - val_accuracy: 0.5778\n",
      "Epoch 4/100\n",
      "17/17 [==============================] - 0s 29ms/step - loss: 1.5428 - accuracy: 0.6741 - val_loss: 1.5773 - val_accuracy: 0.6556\n",
      "Epoch 5/100\n",
      "17/17 [==============================] - 0s 29ms/step - loss: 1.4149 - accuracy: 0.7241 - val_loss: 1.4884 - val_accuracy: 0.7000\n",
      "Epoch 6/100\n",
      "17/17 [==============================] - 1s 32ms/step - loss: 1.3122 - accuracy: 0.7889 - val_loss: 1.4057 - val_accuracy: 0.7389\n",
      "Epoch 7/100\n",
      "17/17 [==============================] - 1s 30ms/step - loss: 1.2285 - accuracy: 0.8093 - val_loss: 1.3294 - val_accuracy: 0.7778\n",
      "Epoch 8/100\n",
      "17/17 [==============================] - 0s 29ms/step - loss: 1.1547 - accuracy: 0.8278 - val_loss: 1.2685 - val_accuracy: 0.7778\n",
      "Epoch 9/100\n",
      "17/17 [==============================] - 1s 30ms/step - loss: 1.0942 - accuracy: 0.8519 - val_loss: 1.2061 - val_accuracy: 0.7944\n",
      "Epoch 10/100\n",
      "17/17 [==============================] - 1s 30ms/step - loss: 1.0414 - accuracy: 0.8611 - val_loss: 1.1578 - val_accuracy: 0.8056\n",
      "Epoch 11/100\n",
      "17/17 [==============================] - 1s 32ms/step - loss: 0.9976 - accuracy: 0.8648 - val_loss: 1.1069 - val_accuracy: 0.8278\n",
      "Epoch 12/100\n",
      "17/17 [==============================] - 1s 37ms/step - loss: 0.9608 - accuracy: 0.8778 - val_loss: 1.0658 - val_accuracy: 0.8278\n",
      "Epoch 13/100\n",
      "17/17 [==============================] - 1s 34ms/step - loss: 0.9263 - accuracy: 0.8926 - val_loss: 1.0277 - val_accuracy: 0.8444\n",
      "Epoch 14/100\n",
      "17/17 [==============================] - 1s 39ms/step - loss: 0.8941 - accuracy: 0.9074 - val_loss: 0.9925 - val_accuracy: 0.8611\n",
      "Epoch 15/100\n",
      "17/17 [==============================] - 0s 29ms/step - loss: 0.8632 - accuracy: 0.9167 - val_loss: 0.9473 - val_accuracy: 0.8889\n",
      "Epoch 16/100\n",
      "17/17 [==============================] - 1s 36ms/step - loss: 0.8328 - accuracy: 0.9278 - val_loss: 0.9107 - val_accuracy: 0.8944\n",
      "Epoch 17/100\n",
      "17/17 [==============================] - 0s 28ms/step - loss: 0.8043 - accuracy: 0.9407 - val_loss: 0.8768 - val_accuracy: 0.8944\n",
      "Epoch 18/100\n",
      "17/17 [==============================] - 1s 30ms/step - loss: 0.7791 - accuracy: 0.9407 - val_loss: 0.8478 - val_accuracy: 0.9111\n",
      "Epoch 19/100\n",
      "17/17 [==============================] - 0s 28ms/step - loss: 0.7532 - accuracy: 0.9463 - val_loss: 0.8200 - val_accuracy: 0.9222\n",
      "Epoch 20/100\n",
      "17/17 [==============================] - 1s 30ms/step - loss: 0.7299 - accuracy: 0.9537 - val_loss: 0.7960 - val_accuracy: 0.9333\n",
      "Epoch 21/100\n",
      "17/17 [==============================] - 0s 29ms/step - loss: 0.7070 - accuracy: 0.9593 - val_loss: 0.7747 - val_accuracy: 0.9222\n",
      "Epoch 22/100\n",
      "17/17 [==============================] - 0s 29ms/step - loss: 0.6849 - accuracy: 0.9667 - val_loss: 0.7455 - val_accuracy: 0.9444\n",
      "Epoch 23/100\n",
      "17/17 [==============================] - 0s 29ms/step - loss: 0.6645 - accuracy: 0.9759 - val_loss: 0.7252 - val_accuracy: 0.9444\n",
      "Epoch 24/100\n",
      "17/17 [==============================] - 1s 31ms/step - loss: 0.6466 - accuracy: 0.9741 - val_loss: 0.7052 - val_accuracy: 0.9667\n",
      "Epoch 25/100\n",
      "17/17 [==============================] - 1s 33ms/step - loss: 0.6292 - accuracy: 0.9796 - val_loss: 0.6934 - val_accuracy: 0.9611\n",
      "Epoch 26/100\n",
      "17/17 [==============================] - 1s 35ms/step - loss: 0.6140 - accuracy: 0.9815 - val_loss: 0.6737 - val_accuracy: 0.9722\n",
      "Epoch 27/100\n",
      "17/17 [==============================] - 1s 32ms/step - loss: 0.5971 - accuracy: 0.9852 - val_loss: 0.6584 - val_accuracy: 0.9667\n",
      "Epoch 28/100\n",
      "17/17 [==============================] - 1s 33ms/step - loss: 0.5848 - accuracy: 0.9870 - val_loss: 0.6562 - val_accuracy: 0.9611\n",
      "Epoch 29/100\n",
      "17/17 [==============================] - 1s 36ms/step - loss: 0.5700 - accuracy: 0.9870 - val_loss: 0.6307 - val_accuracy: 0.9778\n",
      "Epoch 30/100\n",
      "17/17 [==============================] - 1s 33ms/step - loss: 0.5575 - accuracy: 0.9926 - val_loss: 0.6117 - val_accuracy: 0.9722\n",
      "Epoch 31/100\n",
      "17/17 [==============================] - 1s 31ms/step - loss: 0.5407 - accuracy: 0.9944 - val_loss: 0.6004 - val_accuracy: 0.9667\n",
      "Epoch 32/100\n",
      "17/17 [==============================] - 0s 29ms/step - loss: 0.5281 - accuracy: 0.9907 - val_loss: 0.5901 - val_accuracy: 0.9722\n",
      "Epoch 33/100\n",
      "17/17 [==============================] - 1s 31ms/step - loss: 0.5148 - accuracy: 0.9944 - val_loss: 0.5708 - val_accuracy: 0.9667\n",
      "Epoch 34/100\n",
      "17/17 [==============================] - 1s 34ms/step - loss: 0.5035 - accuracy: 0.9926 - val_loss: 0.5593 - val_accuracy: 0.9667\n",
      "Epoch 35/100\n",
      "17/17 [==============================] - 1s 34ms/step - loss: 0.4927 - accuracy: 0.9926 - val_loss: 0.5656 - val_accuracy: 0.9667\n",
      "Epoch 36/100\n",
      "17/17 [==============================] - 1s 33ms/step - loss: 0.4810 - accuracy: 0.9981 - val_loss: 0.5363 - val_accuracy: 0.9722\n",
      "Epoch 37/100\n",
      "17/17 [==============================] - 1s 36ms/step - loss: 0.4673 - accuracy: 0.9926 - val_loss: 0.5212 - val_accuracy: 0.9667\n",
      "Epoch 38/100\n",
      "17/17 [==============================] - 1s 35ms/step - loss: 0.4581 - accuracy: 0.9926 - val_loss: 0.5118 - val_accuracy: 0.9722\n",
      "Epoch 39/100\n",
      "17/17 [==============================] - 1s 45ms/step - loss: 0.4494 - accuracy: 0.9944 - val_loss: 0.4980 - val_accuracy: 0.9722\n",
      "Epoch 40/100\n",
      "17/17 [==============================] - 1s 40ms/step - loss: 0.4365 - accuracy: 0.9981 - val_loss: 0.4899 - val_accuracy: 0.9722\n",
      "Epoch 41/100\n",
      "17/17 [==============================] - 1s 38ms/step - loss: 0.4269 - accuracy: 0.9981 - val_loss: 0.4788 - val_accuracy: 0.9667\n",
      "Epoch 42/100\n",
      "17/17 [==============================] - 1s 39ms/step - loss: 0.4184 - accuracy: 0.9981 - val_loss: 0.4734 - val_accuracy: 0.9667\n",
      "Epoch 43/100\n",
      "17/17 [==============================] - 1s 35ms/step - loss: 0.4109 - accuracy: 0.9963 - val_loss: 0.4575 - val_accuracy: 0.9722\n",
      "Epoch 44/100\n",
      "17/17 [==============================] - 1s 30ms/step - loss: 0.3995 - accuracy: 0.9963 - val_loss: 0.4462 - val_accuracy: 0.9667\n",
      "Epoch 45/100\n",
      "17/17 [==============================] - 1s 37ms/step - loss: 0.3895 - accuracy: 0.9981 - val_loss: 0.4429 - val_accuracy: 0.9722\n",
      "Epoch 46/100\n",
      "17/17 [==============================] - 1s 30ms/step - loss: 0.3812 - accuracy: 1.0000 - val_loss: 0.4301 - val_accuracy: 0.9667\n",
      "Epoch 47/100\n",
      "17/17 [==============================] - 1s 32ms/step - loss: 0.3742 - accuracy: 1.0000 - val_loss: 0.4294 - val_accuracy: 0.9667\n",
      "Epoch 48/100\n",
      "17/17 [==============================] - 0s 29ms/step - loss: 0.3681 - accuracy: 0.9963 - val_loss: 0.4140 - val_accuracy: 0.9667\n",
      "Epoch 49/100\n",
      "17/17 [==============================] - 0s 29ms/step - loss: 0.3605 - accuracy: 0.9963 - val_loss: 0.4179 - val_accuracy: 0.9556\n",
      "Epoch 50/100\n",
      "17/17 [==============================] - 1s 30ms/step - loss: 0.3535 - accuracy: 0.9981 - val_loss: 0.4003 - val_accuracy: 0.9667\n",
      "Epoch 51/100\n",
      "17/17 [==============================] - 0s 28ms/step - loss: 0.3450 - accuracy: 0.9963 - val_loss: 0.3951 - val_accuracy: 0.9667\n",
      "Epoch 52/100\n",
      "17/17 [==============================] - 0s 29ms/step - loss: 0.3386 - accuracy: 0.9981 - val_loss: 0.3870 - val_accuracy: 0.9667\n",
      "Epoch 53/100\n",
      "17/17 [==============================] - 0s 29ms/step - loss: 0.3310 - accuracy: 0.9981 - val_loss: 0.3860 - val_accuracy: 0.9667\n",
      "Epoch 54/100\n",
      "17/17 [==============================] - 0s 29ms/step - loss: 0.3277 - accuracy: 0.9981 - val_loss: 0.3726 - val_accuracy: 0.9722\n",
      "Epoch 55/100\n",
      "17/17 [==============================] - 0s 29ms/step - loss: 0.3237 - accuracy: 0.9963 - val_loss: 0.3819 - val_accuracy: 0.9722\n",
      "Epoch 56/100\n",
      "17/17 [==============================] - 0s 28ms/step - loss: 0.3186 - accuracy: 0.9981 - val_loss: 0.3564 - val_accuracy: 0.9667\n",
      "Epoch 57/100\n",
      "17/17 [==============================] - 1s 30ms/step - loss: 0.3092 - accuracy: 1.0000 - val_loss: 0.3524 - val_accuracy: 0.9722\n",
      "Epoch 58/100\n",
      "17/17 [==============================] - 0s 29ms/step - loss: 0.3028 - accuracy: 1.0000 - val_loss: 0.3476 - val_accuracy: 0.9722\n",
      "Epoch 59/100\n",
      "17/17 [==============================] - 0s 29ms/step - loss: 0.3011 - accuracy: 0.9981 - val_loss: 0.3425 - val_accuracy: 0.9722\n",
      "Epoch 60/100\n",
      "17/17 [==============================] - 1s 30ms/step - loss: 0.2957 - accuracy: 0.9981 - val_loss: 0.3358 - val_accuracy: 0.9722\n",
      "Epoch 61/100\n",
      "17/17 [==============================] - 0s 30ms/step - loss: 0.2901 - accuracy: 1.0000 - val_loss: 0.3308 - val_accuracy: 0.9667\n",
      "Epoch 62/100\n",
      "17/17 [==============================] - 1s 31ms/step - loss: 0.2840 - accuracy: 0.9981 - val_loss: 0.3250 - val_accuracy: 0.9722\n",
      "Epoch 63/100\n",
      "17/17 [==============================] - 1s 30ms/step - loss: 0.2803 - accuracy: 1.0000 - val_loss: 0.3192 - val_accuracy: 0.9722\n",
      "Epoch 64/100\n",
      "17/17 [==============================] - 1s 30ms/step - loss: 0.2771 - accuracy: 0.9981 - val_loss: 0.3161 - val_accuracy: 0.9778\n",
      "Epoch 65/100\n",
      "17/17 [==============================] - 1s 30ms/step - loss: 0.2730 - accuracy: 0.9981 - val_loss: 0.3106 - val_accuracy: 0.9778\n",
      "Epoch 66/100\n",
      "17/17 [==============================] - 1s 32ms/step - loss: 0.2684 - accuracy: 1.0000 - val_loss: 0.3071 - val_accuracy: 0.9722\n",
      "Epoch 67/100\n",
      "17/17 [==============================] - 1s 39ms/step - loss: 0.2667 - accuracy: 1.0000 - val_loss: 0.3027 - val_accuracy: 0.9778\n",
      "Epoch 68/100\n",
      "17/17 [==============================] - 1s 33ms/step - loss: 0.2634 - accuracy: 1.0000 - val_loss: 0.2975 - val_accuracy: 0.9722\n",
      "Epoch 69/100\n",
      "17/17 [==============================] - 1s 32ms/step - loss: 0.2652 - accuracy: 0.9944 - val_loss: 0.3303 - val_accuracy: 0.9722\n",
      "Epoch 70/100\n",
      "17/17 [==============================] - 1s 35ms/step - loss: 0.2722 - accuracy: 0.9963 - val_loss: 0.3052 - val_accuracy: 0.9778\n",
      "Epoch 71/100\n",
      "17/17 [==============================] - 1s 33ms/step - loss: 0.2612 - accuracy: 0.9981 - val_loss: 0.2975 - val_accuracy: 0.9889\n",
      "Epoch 72/100\n",
      "17/17 [==============================] - 1s 31ms/step - loss: 0.2525 - accuracy: 1.0000 - val_loss: 0.2858 - val_accuracy: 0.9778\n",
      "Epoch 73/100\n",
      "17/17 [==============================] - 1s 31ms/step - loss: 0.2506 - accuracy: 0.9981 - val_loss: 0.2832 - val_accuracy: 0.9833\n",
      "Epoch 74/100\n",
      "17/17 [==============================] - 1s 35ms/step - loss: 0.2461 - accuracy: 1.0000 - val_loss: 0.2821 - val_accuracy: 0.9778\n",
      "Epoch 75/100\n",
      "17/17 [==============================] - 1s 36ms/step - loss: 0.2447 - accuracy: 0.9981 - val_loss: 0.2761 - val_accuracy: 0.9778\n",
      "Epoch 76/100\n",
      "17/17 [==============================] - 1s 35ms/step - loss: 0.2408 - accuracy: 1.0000 - val_loss: 0.2748 - val_accuracy: 0.9778\n",
      "Epoch 77/100\n",
      "17/17 [==============================] - 1s 47ms/step - loss: 0.2389 - accuracy: 1.0000 - val_loss: 0.2699 - val_accuracy: 0.9833\n",
      "Epoch 78/100\n",
      "17/17 [==============================] - 1s 41ms/step - loss: 0.2377 - accuracy: 1.0000 - val_loss: 0.2740 - val_accuracy: 0.9889\n",
      "Epoch 79/100\n",
      "17/17 [==============================] - 1s 34ms/step - loss: 0.2366 - accuracy: 1.0000 - val_loss: 0.2673 - val_accuracy: 0.9833\n",
      "Epoch 80/100\n",
      "17/17 [==============================] - 1s 30ms/step - loss: 0.2377 - accuracy: 0.9981 - val_loss: 0.2718 - val_accuracy: 0.9833\n",
      "Epoch 81/100\n",
      "17/17 [==============================] - 1s 31ms/step - loss: 0.2345 - accuracy: 0.9981 - val_loss: 0.2672 - val_accuracy: 0.9722\n",
      "Epoch 82/100\n",
      "17/17 [==============================] - 1s 31ms/step - loss: 0.2313 - accuracy: 1.0000 - val_loss: 0.2702 - val_accuracy: 0.9778\n",
      "Epoch 83/100\n",
      "17/17 [==============================] - 1s 31ms/step - loss: 0.2310 - accuracy: 0.9981 - val_loss: 0.2607 - val_accuracy: 0.9944\n",
      "Epoch 84/100\n",
      "17/17 [==============================] - 1s 31ms/step - loss: 0.2291 - accuracy: 1.0000 - val_loss: 0.2628 - val_accuracy: 0.9778\n",
      "Epoch 85/100\n",
      "17/17 [==============================] - 1s 31ms/step - loss: 0.2238 - accuracy: 1.0000 - val_loss: 0.2538 - val_accuracy: 0.9778\n",
      "Epoch 86/100\n",
      "17/17 [==============================] - 1s 32ms/step - loss: 0.2217 - accuracy: 1.0000 - val_loss: 0.2527 - val_accuracy: 0.9778\n",
      "Epoch 87/100\n",
      "17/17 [==============================] - 1s 33ms/step - loss: 0.2206 - accuracy: 1.0000 - val_loss: 0.2508 - val_accuracy: 0.9833\n",
      "Epoch 88/100\n",
      "17/17 [==============================] - 1s 31ms/step - loss: 0.2179 - accuracy: 1.0000 - val_loss: 0.2492 - val_accuracy: 0.9833\n",
      "Epoch 89/100\n",
      "17/17 [==============================] - 1s 34ms/step - loss: 0.2152 - accuracy: 1.0000 - val_loss: 0.2466 - val_accuracy: 0.9833\n",
      "Epoch 90/100\n",
      "17/17 [==============================] - 1s 36ms/step - loss: 0.2151 - accuracy: 1.0000 - val_loss: 0.2456 - val_accuracy: 0.9778\n",
      "Epoch 91/100\n",
      "17/17 [==============================] - 1s 38ms/step - loss: 0.2121 - accuracy: 1.0000 - val_loss: 0.2426 - val_accuracy: 0.9778\n",
      "Epoch 92/100\n",
      "17/17 [==============================] - 1s 40ms/step - loss: 0.2112 - accuracy: 1.0000 - val_loss: 0.2486 - val_accuracy: 0.9722\n",
      "Epoch 93/100\n",
      "17/17 [==============================] - 1s 33ms/step - loss: 0.2135 - accuracy: 1.0000 - val_loss: 0.2488 - val_accuracy: 0.9944\n",
      "Epoch 94/100\n",
      "17/17 [==============================] - 1s 30ms/step - loss: 0.2139 - accuracy: 1.0000 - val_loss: 0.2386 - val_accuracy: 0.9778\n",
      "Epoch 95/100\n",
      "17/17 [==============================] - 1s 36ms/step - loss: 0.2076 - accuracy: 1.0000 - val_loss: 0.2347 - val_accuracy: 0.9778\n",
      "Epoch 96/100\n",
      "17/17 [==============================] - 1s 35ms/step - loss: 0.2044 - accuracy: 1.0000 - val_loss: 0.2330 - val_accuracy: 0.9778\n",
      "Epoch 97/100\n",
      "17/17 [==============================] - 1s 35ms/step - loss: 0.2026 - accuracy: 1.0000 - val_loss: 0.2327 - val_accuracy: 0.9778\n",
      "Epoch 98/100\n",
      "17/17 [==============================] - 1s 31ms/step - loss: 0.2024 - accuracy: 0.9981 - val_loss: 0.2330 - val_accuracy: 0.9722\n",
      "Epoch 99/100\n",
      "17/17 [==============================] - 1s 31ms/step - loss: 0.2009 - accuracy: 1.0000 - val_loss: 0.2348 - val_accuracy: 0.9889\n",
      "Epoch 100/100\n",
      "17/17 [==============================] - 1s 35ms/step - loss: 0.2006 - accuracy: 1.0000 - val_loss: 0.2277 - val_accuracy: 0.9778\n"
     ]
    }
   ],
   "source": [
    "history = conv_model.fit(X_train_norm, Y_train, epochs=100, validation_data=(X_valid_norm, Y_valid))\n",
    "# history2 = conv_model.fit(X_train, Y_train, epochs=100, validation_data=(X_valid, Y_valid))"
   ]
  },
  {
   "cell_type": "code",
   "execution_count": 9,
   "id": "c2a4bb06",
   "metadata": {},
   "outputs": [
    {
     "name": "stderr",
     "output_type": "stream",
     "text": [
      "E:\\Anaconda3\\lib\\site-packages\\pandas\\core\\frame.py:5039: SettingWithCopyWarning: \n",
      "A value is trying to be set on a copy of a slice from a DataFrame\n",
      "\n",
      "See the caveats in the documentation: https://pandas.pydata.org/pandas-docs/stable/user_guide/indexing.html#returning-a-view-versus-a-copy\n",
      "  return super().rename(\n"
     ]
    },
    {
     "data": {
      "text/plain": [
       "[Text(0.5, 0, 'Epoch'), Text(0, 0.5, 'Accuracy')]"
      ]
     },
     "execution_count": 9,
     "metadata": {},
     "output_type": "execute_result"
    },
    {
     "data": {
      "image/png": "[encoded data removed]",
      "text/plain": [
       "<Figure size 432x288 with 1 Axes>"
      ]
     },
     "metadata": {
      "needs_background": "light"
     },
     "output_type": "display_data"
    },
    {
     "data": {
      "image/png": "[encoded data removed]",
      "text/plain": [
       "<Figure size 432x288 with 1 Axes>"
      ]
     },
     "metadata": {
      "needs_background": "light"
     },
     "output_type": "display_data"
    }
   ],
   "source": [
    "df_loss_acc = pd.DataFrame(history.history)\n",
    "df_loss= df_loss_acc[['loss','val_loss']]\n",
    "df_loss.rename(columns={'loss':'train','val_loss':'validation'},inplace=True)\n",
    "df_acc= df_loss_acc[['accuracy','val_accuracy']]\n",
    "df_acc.rename(columns={'accuracy':'train','val_accuracy':'validation'},inplace=True)\n",
    "df_loss.plot(title='Model loss',figsize=(6,4)).set(xlabel='Epoch',ylabel='Loss')\n",
    "df_acc.plot(title='Model Accuracy',figsize=(6,4)).set(xlabel='Epoch',ylabel='Accuracy')"
   ]
  },
  {
   "cell_type": "markdown",
   "id": "d6e2a30f",
   "metadata": {},
   "source": [
    "Display the confusion matrix"
   ]
  },
  {
   "cell_type": "code",
   "execution_count": 10,
   "id": "f926a8e9",
   "metadata": {},
   "outputs": [
    {
     "name": "stdout",
     "output_type": "stream",
     "text": [
      "6/6 [==============================] - 0s 9ms/step\n"
     ]
    },
    {
     "data": {
      "text/plain": [
       "[Text(0.5, 15.0, 'prediction'), Text(33.0, 0.5, 'actual')]"
      ]
     },
     "execution_count": 10,
     "metadata": {},
     "output_type": "execute_result"
    },
    {
     "data": {
      "image/png": "[encoded data removed]",
      "text/plain": [
       "<Figure size 432x288 with 2 Axes>"
      ]
     },
     "metadata": {
      "needs_background": "light"
     },
     "output_type": "display_data"
    }
   ],
   "source": [
    "Y_pred = conv_model.predict(X_test_norm)\n",
    "Y_test_numpy = Y_test.numpy()\n",
    "emotion_pred = []\n",
    "emotion_test = []\n",
    "for i in range(len(Y_pred)):\n",
    "    if (Y_pred[i][0] > 0.5):\n",
    "        emotion_pred.append(0) # angry\n",
    "    elif (Y_pred[i][1] > 0.5):\n",
    "        emotion_pred.append(1) # happy\n",
    "    elif (Y_pred[i][2] > 0.5):\n",
    "        emotion_pred.append(2) # normal\n",
    "    else:\n",
    "        emotion_pred.append(3) # not decided\n",
    "\n",
    "    if (Y_test_numpy[i][0] > 0.5):\n",
    "        emotion_test.append(0)\n",
    "    elif (Y_test_numpy[i][1] > 0.5):\n",
    "        emotion_test.append(1)\n",
    "    elif (Y_test_numpy[i][2] > 0.5):\n",
    "        emotion_test.append(2)\n",
    "\n",
    "emotion_test = tf.convert_to_tensor(emotion_test)\n",
    "emotion_pred = tf.convert_to_tensor(emotion_pred)\n",
    "\n",
    "confusion = tf.math.confusion_matrix(emotion_test, emotion_pred, num_classes = 4)\n",
    "\n",
    "df=pd.DataFrame(confusion.numpy(),index=['angry', 'happy', 'normal', 'not sure'],columns=['angry', 'happy', 'normal', 'not sure'])\n",
    "confusiton_map = sn.heatmap(df,annot=True, cmap='crest')\n",
    "confusiton_map.set(xlabel=\"prediction\", ylabel=\"actual\")"
   ]
  },
  {
   "cell_type": "code",
   "execution_count": null,
   "id": "cd1d2da8",
   "metadata": {},
   "outputs": [],
   "source": []
  }
 ],
 "metadata": {
  "kernelspec": {
   "display_name": "Python 3 (ipykernel)",
   "language": "python",
   "name": "python3"
  },
  "language_info": {
   "codemirror_mode": {
    "name": "ipython",
    "version": 3
   },
   "file_extension": ".py",
   "mimetype": "text/x-python",
   "name": "python",
   "nbconvert_exporter": "python",
   "pygments_lexer": "ipython3",
   "version": "3.9.7"
  }
 },
 "nbformat": 4,
 "nbformat_minor": 5
}
