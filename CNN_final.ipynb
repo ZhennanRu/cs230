{
 "cells": [
  {
   "cell_type": "code",
   "execution_count": 1,
   "id": "0e866cc9",
   "metadata": {},
   "outputs": [],
   "source": [
    "import os\n",
    "import numpy as np\n",
    "import pandas as pd\n",
    "from matplotlib import pyplot as plt\n",
    "import random\n",
    "import tensorflow as tf\n",
    "from tensorflow import keras\n",
    "import keras.layers as tfl\n",
    "import seaborn as sn\n",
    "import dataset"
   ]
  },
  {
   "cell_type": "markdown",
   "id": "43ef85e4",
   "metadata": {},
   "source": [
    "Integrated part for dataset preprocessing and splitting"
   ]
  },
  {
   "cell_type": "code",
   "execution_count": 2,
   "id": "01e6b2a2",
   "metadata": {},
   "outputs": [
    {
     "name": "stderr",
     "output_type": "stream",
     "text": [
      "f:\\Shitford\\Lectures\\22fall\\CS230\\cs230\\dataset.py:49: RuntimeWarning: invalid value encountered in true_divide\n",
      "  X_train_norm = (X_train - X_train_miu)/X_train_std\n",
      "f:\\Shitford\\Lectures\\22fall\\CS230\\cs230\\dataset.py:50: RuntimeWarning: invalid value encountered in true_divide\n",
      "  X_valid_norm = (X_valid - X_valid_miu)/X_valid_std\n",
      "f:\\Shitford\\Lectures\\22fall\\CS230\\cs230\\dataset.py:51: RuntimeWarning: invalid value encountered in true_divide\n",
      "  X_test_norm = (X_test - X_test_miu)/X_test_std\n"
     ]
    }
   ],
   "source": [
    "# interfacce function to get splited dataset\n",
    "# resize all audio to (19, 1841) matrix\n",
    "dataset_collection = dataset.getMFCCDataset(train_size = 0.6, valid_size = 0.2, test_size = 0.2, cut = False, max_len = 1841)\n",
    "\n",
    "X_train = dataset_collection['X_train']\n",
    "Y_train = dataset_collection['Y_train']\n",
    "X_valid = dataset_collection['X_valid']\n",
    "Y_valid = dataset_collection['Y_valid']\n",
    "X_test = dataset_collection['X_test']\n",
    "Y_test = dataset_collection['Y_test']\n",
    "\n",
    "X_train_norm = dataset_collection['X_train_norm']\n",
    "X_valid_norm = dataset_collection['X_valid_norm']\n",
    "X_test_norm = dataset_collection['X_test_norm']"
   ]
  },
  {
   "cell_type": "code",
   "execution_count": 3,
   "id": "200a9022",
   "metadata": {},
   "outputs": [],
   "source": [
    "# convert array to tensor\n",
    "X_train_norm = tf.convert_to_tensor(X_train_norm)\n",
    "X_valid_norm = tf.convert_to_tensor(X_valid_norm)\n",
    "X_test_norm = tf.convert_to_tensor(X_test_norm)\n",
    "Y_train = tf.convert_to_tensor(Y_train)\n",
    "Y_valid = tf.convert_to_tensor(Y_valid)\n",
    "Y_test = tf.convert_to_tensor(Y_test)\n",
    "\n",
    "X_train = tf.convert_to_tensor(X_train)\n",
    "X_valid = tf.convert_to_tensor(X_valid)\n",
    "X_test = tf.convert_to_tensor(X_test)"
   ]
  },
  {
   "cell_type": "code",
   "execution_count": 4,
   "id": "1ec83fbd",
   "metadata": {},
   "outputs": [],
   "source": [
    "# flatten the shape\n",
    "#X_train_norm_flat = tf.reshape(X_train_norm, [540, -1])\n",
    "#X_valid_norm_flat = tf.reshape(X_valid_norm, [180, -1])\n",
    "#X_test_norm_flat = tf.reshape(X_test_norm, [180, -1])"
   ]
  },
  {
   "cell_type": "code",
   "execution_count": 5,
   "id": "809898c3",
   "metadata": {},
   "outputs": [],
   "source": [
    "def convolutional_model(input_shape):\n",
    "    \"\"\"\n",
    "    Implements the forward propagation for the model:\n",
    "    CONV2D -> RELU -> MAXPOOL -> CONV2D -> Softmax -> MAXPOOL -> FLATTEN -> DENSE\n",
    "    \n",
    "    Arguments:\n",
    "    input_mfcc -- input dataset, of shape (input_shape)\n",
    "\n",
    "    Returns:\n",
    "    model -- TF Keras model (object containing the information for the entire training process) \n",
    "    \"\"\"\n",
    "\n",
    "    input_mfcc = tf.keras.Input(shape=input_shape)\n",
    "    ## CONV1D: 4 filters 8, stride of 1, padding 'SAME'\n",
    "    Z1 = tfl.Conv1D(filters = 4, kernel_size = 8, strides = 2, padding='same', kernel_initializer = 'he_normal', kernel_regularizer = 'L1')(input_mfcc)\n",
    "    ## RELU\n",
    "    A1 = tfl.ReLU()(Z1)\n",
    "    ## MAXPOOL: window 8, stride 4, padding 'SAME'\n",
    "    P1 = tfl.MaxPool1D(pool_size = 8, strides = 4, padding='same')(A1)\n",
    "    \n",
    "    ## CONV1D: 2 filters 4, stride 1, padding 'SAME'\n",
    "    Z2 = tfl.Conv1D(filters = 4, kernel_size = 4, strides = 2, padding='same', kernel_initializer = 'he_normal', kernel_regularizer = 'L1')(P1)\n",
    "    ## RELU\n",
    "    A2 = tfl.Softmax()(Z2)\n",
    "    ## MAXPOOL: window 4, stride 2, padding 'SAME'\n",
    "    P2 = tfl.MaxPool1D(pool_size = 4, strides = 2, padding='same')(A2)\n",
    "    ## FLATTEN\n",
    "    F = tfl.Flatten()(P2)\n",
    "    ## Dense layer\n",
    "    ## 6 neurons in output layer. Hint: one of the arguments should be \"activation='softmax'\" \n",
    "    outputs = tfl.Dense(3, activation='softmax')(F)\n",
    "    \n",
    "    model = tf.keras.Model(inputs=input_mfcc, outputs=outputs)\n",
    "    return model"
   ]
  },
  {
   "cell_type": "code",
   "execution_count": 6,
   "id": "4104090c",
   "metadata": {},
   "outputs": [
    {
     "name": "stdout",
     "output_type": "stream",
     "text": [
      "Model: \"model\"\n",
      "_________________________________________________________________\n",
      " Layer (type)                Output Shape              Param #   \n",
      "=================================================================\n",
      " input_1 (InputLayer)        [(None, 19, 1841)]        0         \n",
      "                                                                 \n",
      " conv1d (Conv1D)             (None, 10, 4)             58916     \n",
      "                                                                 \n",
      " re_lu (ReLU)                (None, 10, 4)             0         \n",
      "                                                                 \n",
      " max_pooling1d (MaxPooling1D  (None, 3, 4)             0         \n",
      " )                                                               \n",
      "                                                                 \n",
      " conv1d_1 (Conv1D)           (None, 2, 4)              68        \n",
      "                                                                 \n",
      " softmax (Softmax)           (None, 2, 4)              0         \n",
      "                                                                 \n",
      " max_pooling1d_1 (MaxPooling  (None, 1, 4)             0         \n",
      " 1D)                                                             \n",
      "                                                                 \n",
      " flatten (Flatten)           (None, 4)                 0         \n",
      "                                                                 \n",
      " dense (Dense)               (None, 3)                 15        \n",
      "                                                                 \n",
      "=================================================================\n",
      "Total params: 58,999\n",
      "Trainable params: 58,999\n",
      "Non-trainable params: 0\n",
      "_________________________________________________________________\n"
     ]
    }
   ],
   "source": [
    "conv_model = convolutional_model((19, 1841))\n",
    "conv_model.compile(optimizer='adam',\n",
    "                  loss='categorical_crossentropy',\n",
    "                  metrics=['accuracy'])\n",
    "conv_model.summary()"
   ]
  },
  {
   "cell_type": "code",
   "execution_count": 7,
   "id": "acd088d5",
   "metadata": {},
   "outputs": [
    {
     "name": "stdout",
     "output_type": "stream",
     "text": [
      "Epoch 1/100\n",
      "17/17 [==============================] - 3s 60ms/step - loss: 4.1966 - accuracy: 0.3407 - val_loss: 2.3699 - val_accuracy: 0.4000\n",
      "Epoch 2/100\n",
      "17/17 [==============================] - 0s 30ms/step - loss: 1.9238 - accuracy: 0.4944 - val_loss: 1.6488 - val_accuracy: 0.5389\n",
      "Epoch 3/100\n",
      "17/17 [==============================] - 1s 31ms/step - loss: 1.5387 - accuracy: 0.5944 - val_loss: 1.4658 - val_accuracy: 0.6333\n",
      "Epoch 4/100\n",
      "17/17 [==============================] - 1s 30ms/step - loss: 1.4547 - accuracy: 0.6204 - val_loss: 1.4431 - val_accuracy: 0.6333\n",
      "Epoch 5/100\n",
      "17/17 [==============================] - 0s 29ms/step - loss: 1.4153 - accuracy: 0.6259 - val_loss: 1.4016 - val_accuracy: 0.6333\n",
      "Epoch 6/100\n",
      "17/17 [==============================] - 1s 32ms/step - loss: 1.3885 - accuracy: 0.6259 - val_loss: 1.3989 - val_accuracy: 0.6222\n",
      "Epoch 7/100\n",
      "17/17 [==============================] - 1s 30ms/step - loss: 1.3825 - accuracy: 0.6333 - val_loss: 1.3846 - val_accuracy: 0.6167\n",
      "Epoch 8/100\n",
      "17/17 [==============================] - 1s 30ms/step - loss: 1.3656 - accuracy: 0.6537 - val_loss: 1.3834 - val_accuracy: 0.6444\n",
      "Epoch 9/100\n",
      "17/17 [==============================] - 1s 30ms/step - loss: 1.3648 - accuracy: 0.6926 - val_loss: 1.3599 - val_accuracy: 0.6500\n",
      "Epoch 10/100\n",
      "17/17 [==============================] - 1s 30ms/step - loss: 1.3394 - accuracy: 0.7037 - val_loss: 1.3521 - val_accuracy: 0.6500\n",
      "Epoch 11/100\n",
      "17/17 [==============================] - 1s 30ms/step - loss: 1.3026 - accuracy: 0.7222 - val_loss: 1.3024 - val_accuracy: 0.6944\n",
      "Epoch 12/100\n",
      "17/17 [==============================] - 1s 31ms/step - loss: 1.2700 - accuracy: 0.7444 - val_loss: 1.2760 - val_accuracy: 0.7056\n",
      "Epoch 13/100\n",
      "17/17 [==============================] - 1s 32ms/step - loss: 1.2250 - accuracy: 0.7741 - val_loss: 1.2498 - val_accuracy: 0.7222\n",
      "Epoch 14/100\n",
      "17/17 [==============================] - 1s 32ms/step - loss: 1.1981 - accuracy: 0.7852 - val_loss: 1.2085 - val_accuracy: 0.7444\n",
      "Epoch 15/100\n",
      "17/17 [==============================] - 1s 34ms/step - loss: 1.1754 - accuracy: 0.7907 - val_loss: 1.2159 - val_accuracy: 0.7444\n",
      "Epoch 16/100\n",
      "17/17 [==============================] - 1s 33ms/step - loss: 1.1847 - accuracy: 0.7815 - val_loss: 1.1963 - val_accuracy: 0.7056\n",
      "Epoch 17/100\n",
      "17/17 [==============================] - 1s 41ms/step - loss: 1.1374 - accuracy: 0.7870 - val_loss: 1.2000 - val_accuracy: 0.7056\n",
      "Epoch 18/100\n",
      "17/17 [==============================] - 1s 45ms/step - loss: 1.1402 - accuracy: 0.7944 - val_loss: 1.1819 - val_accuracy: 0.7000\n",
      "Epoch 19/100\n",
      "17/17 [==============================] - 1s 44ms/step - loss: 1.1236 - accuracy: 0.7778 - val_loss: 1.1666 - val_accuracy: 0.6889\n",
      "Epoch 20/100\n",
      "17/17 [==============================] - 1s 39ms/step - loss: 1.1025 - accuracy: 0.7741 - val_loss: 1.1663 - val_accuracy: 0.7167\n",
      "Epoch 21/100\n",
      "17/17 [==============================] - 1s 41ms/step - loss: 1.1053 - accuracy: 0.7722 - val_loss: 1.1362 - val_accuracy: 0.7111\n",
      "Epoch 22/100\n",
      "17/17 [==============================] - 1s 40ms/step - loss: 1.0932 - accuracy: 0.7796 - val_loss: 1.1495 - val_accuracy: 0.6944\n",
      "Epoch 23/100\n",
      "17/17 [==============================] - 1s 43ms/step - loss: 1.1216 - accuracy: 0.7630 - val_loss: 1.1675 - val_accuracy: 0.6944\n",
      "Epoch 24/100\n",
      "17/17 [==============================] - 1s 43ms/step - loss: 1.0770 - accuracy: 0.7741 - val_loss: 1.0897 - val_accuracy: 0.7111\n",
      "Epoch 25/100\n",
      "17/17 [==============================] - 1s 44ms/step - loss: 1.0625 - accuracy: 0.7815 - val_loss: 1.0936 - val_accuracy: 0.7222\n",
      "Epoch 26/100\n",
      "17/17 [==============================] - 1s 38ms/step - loss: 1.0222 - accuracy: 0.7759 - val_loss: 1.0575 - val_accuracy: 0.7222\n",
      "Epoch 27/100\n",
      "17/17 [==============================] - 1s 39ms/step - loss: 1.0112 - accuracy: 0.7759 - val_loss: 1.0618 - val_accuracy: 0.7278\n",
      "Epoch 28/100\n",
      "17/17 [==============================] - 1s 39ms/step - loss: 0.9831 - accuracy: 0.7685 - val_loss: 1.0385 - val_accuracy: 0.7056\n",
      "Epoch 29/100\n",
      "17/17 [==============================] - 1s 37ms/step - loss: 0.9804 - accuracy: 0.7778 - val_loss: 1.0125 - val_accuracy: 0.7222\n",
      "Epoch 30/100\n",
      "17/17 [==============================] - 1s 41ms/step - loss: 0.9677 - accuracy: 0.7796 - val_loss: 1.0134 - val_accuracy: 0.7111\n",
      "Epoch 31/100\n",
      "17/17 [==============================] - 1s 38ms/step - loss: 0.9667 - accuracy: 0.7741 - val_loss: 1.0309 - val_accuracy: 0.7278\n",
      "Epoch 32/100\n",
      "17/17 [==============================] - 1s 35ms/step - loss: 0.9851 - accuracy: 0.7722 - val_loss: 1.0342 - val_accuracy: 0.7000\n",
      "Epoch 33/100\n",
      "17/17 [==============================] - 1s 35ms/step - loss: 0.9716 - accuracy: 0.7759 - val_loss: 1.0289 - val_accuracy: 0.7167\n",
      "Epoch 34/100\n",
      "17/17 [==============================] - 1s 39ms/step - loss: 1.0082 - accuracy: 0.7778 - val_loss: 1.0966 - val_accuracy: 0.7278\n",
      "Epoch 35/100\n",
      "17/17 [==============================] - 1s 40ms/step - loss: 1.0326 - accuracy: 0.7685 - val_loss: 1.0250 - val_accuracy: 0.7222\n",
      "Epoch 36/100\n",
      "17/17 [==============================] - 1s 34ms/step - loss: 0.9948 - accuracy: 0.7741 - val_loss: 1.0636 - val_accuracy: 0.6944\n",
      "Epoch 37/100\n",
      "17/17 [==============================] - 1s 38ms/step - loss: 0.9986 - accuracy: 0.7833 - val_loss: 1.0059 - val_accuracy: 0.7222\n",
      "Epoch 38/100\n",
      "17/17 [==============================] - 1s 36ms/step - loss: 0.9344 - accuracy: 0.7963 - val_loss: 1.0266 - val_accuracy: 0.7167\n",
      "Epoch 39/100\n",
      "17/17 [==============================] - 1s 37ms/step - loss: 1.0411 - accuracy: 0.7796 - val_loss: 1.1055 - val_accuracy: 0.7111\n",
      "Epoch 40/100\n",
      "17/17 [==============================] - 1s 39ms/step - loss: 1.0101 - accuracy: 0.7907 - val_loss: 1.0486 - val_accuracy: 0.7056\n",
      "Epoch 41/100\n",
      "17/17 [==============================] - 1s 35ms/step - loss: 1.0571 - accuracy: 0.7648 - val_loss: 1.1166 - val_accuracy: 0.7111\n",
      "Epoch 42/100\n",
      "17/17 [==============================] - 1s 36ms/step - loss: 1.0349 - accuracy: 0.7759 - val_loss: 1.1044 - val_accuracy: 0.6944\n",
      "Epoch 43/100\n",
      "17/17 [==============================] - 1s 39ms/step - loss: 1.0025 - accuracy: 0.7907 - val_loss: 1.0231 - val_accuracy: 0.7056\n",
      "Epoch 44/100\n",
      "17/17 [==============================] - 1s 38ms/step - loss: 0.9720 - accuracy: 0.7870 - val_loss: 1.0317 - val_accuracy: 0.7167\n",
      "Epoch 45/100\n",
      "17/17 [==============================] - 1s 37ms/step - loss: 1.0138 - accuracy: 0.7796 - val_loss: 1.0495 - val_accuracy: 0.7000\n",
      "Epoch 46/100\n",
      "17/17 [==============================] - 1s 37ms/step - loss: 0.9381 - accuracy: 0.7944 - val_loss: 0.9668 - val_accuracy: 0.7000\n",
      "Epoch 47/100\n",
      "17/17 [==============================] - 1s 37ms/step - loss: 0.8944 - accuracy: 0.8000 - val_loss: 0.9437 - val_accuracy: 0.7222\n",
      "Epoch 48/100\n",
      "17/17 [==============================] - 1s 36ms/step - loss: 0.9780 - accuracy: 0.7741 - val_loss: 1.1075 - val_accuracy: 0.7111\n",
      "Epoch 49/100\n",
      "17/17 [==============================] - 1s 41ms/step - loss: 0.9926 - accuracy: 0.7815 - val_loss: 0.9797 - val_accuracy: 0.7111\n",
      "Epoch 50/100\n",
      "17/17 [==============================] - 1s 38ms/step - loss: 0.9069 - accuracy: 0.7833 - val_loss: 1.0098 - val_accuracy: 0.7167\n",
      "Epoch 51/100\n",
      "17/17 [==============================] - 1s 37ms/step - loss: 0.9684 - accuracy: 0.7870 - val_loss: 1.0159 - val_accuracy: 0.7167\n",
      "Epoch 52/100\n",
      "17/17 [==============================] - 1s 34ms/step - loss: 0.9523 - accuracy: 0.7889 - val_loss: 1.0174 - val_accuracy: 0.7056\n",
      "Epoch 53/100\n",
      "17/17 [==============================] - 1s 37ms/step - loss: 0.9353 - accuracy: 0.7870 - val_loss: 0.9710 - val_accuracy: 0.7111\n",
      "Epoch 54/100\n",
      "17/17 [==============================] - 1s 38ms/step - loss: 0.9022 - accuracy: 0.7926 - val_loss: 0.9238 - val_accuracy: 0.7167\n",
      "Epoch 55/100\n",
      "17/17 [==============================] - 1s 38ms/step - loss: 0.8787 - accuracy: 0.7889 - val_loss: 0.9400 - val_accuracy: 0.7167\n",
      "Epoch 56/100\n",
      "17/17 [==============================] - 1s 39ms/step - loss: 0.8474 - accuracy: 0.7889 - val_loss: 0.9159 - val_accuracy: 0.7222\n",
      "Epoch 57/100\n",
      "17/17 [==============================] - 1s 40ms/step - loss: 0.9113 - accuracy: 0.7944 - val_loss: 1.0006 - val_accuracy: 0.7111\n",
      "Epoch 58/100\n",
      "17/17 [==============================] - 1s 33ms/step - loss: 0.8934 - accuracy: 0.7981 - val_loss: 0.9365 - val_accuracy: 0.7167\n",
      "Epoch 59/100\n",
      "17/17 [==============================] - 1s 36ms/step - loss: 0.8416 - accuracy: 0.7870 - val_loss: 0.8927 - val_accuracy: 0.7333\n",
      "Epoch 60/100\n",
      "17/17 [==============================] - 1s 36ms/step - loss: 0.8968 - accuracy: 0.7981 - val_loss: 1.1208 - val_accuracy: 0.6833\n",
      "Epoch 61/100\n",
      "17/17 [==============================] - 1s 37ms/step - loss: 1.0878 - accuracy: 0.7685 - val_loss: 1.1410 - val_accuracy: 0.7000\n",
      "Epoch 62/100\n",
      "17/17 [==============================] - 1s 39ms/step - loss: 0.9878 - accuracy: 0.7963 - val_loss: 0.9949 - val_accuracy: 0.7278\n",
      "Epoch 63/100\n",
      "17/17 [==============================] - 1s 39ms/step - loss: 0.9667 - accuracy: 0.8019 - val_loss: 1.0273 - val_accuracy: 0.7000\n",
      "Epoch 64/100\n",
      "17/17 [==============================] - 1s 39ms/step - loss: 0.9452 - accuracy: 0.8056 - val_loss: 0.9892 - val_accuracy: 0.7222\n",
      "Epoch 65/100\n",
      "17/17 [==============================] - 1s 39ms/step - loss: 0.8972 - accuracy: 0.8074 - val_loss: 0.9376 - val_accuracy: 0.7111\n",
      "Epoch 66/100\n",
      "17/17 [==============================] - 1s 48ms/step - loss: 0.8625 - accuracy: 0.8056 - val_loss: 0.9250 - val_accuracy: 0.7389\n",
      "Epoch 67/100\n",
      "17/17 [==============================] - 1s 43ms/step - loss: 0.8625 - accuracy: 0.7963 - val_loss: 0.9077 - val_accuracy: 0.7389\n",
      "Epoch 68/100\n",
      "17/17 [==============================] - 1s 51ms/step - loss: 0.9556 - accuracy: 0.7926 - val_loss: 1.0961 - val_accuracy: 0.6944\n",
      "Epoch 69/100\n",
      "17/17 [==============================] - 1s 80ms/step - loss: 1.0231 - accuracy: 0.7796 - val_loss: 1.0624 - val_accuracy: 0.6889\n",
      "Epoch 70/100\n",
      "17/17 [==============================] - 1s 54ms/step - loss: 0.9328 - accuracy: 0.8185 - val_loss: 0.9551 - val_accuracy: 0.7278\n",
      "Epoch 71/100\n",
      "17/17 [==============================] - 1s 46ms/step - loss: 0.8935 - accuracy: 0.8167 - val_loss: 0.9796 - val_accuracy: 0.7278\n",
      "Epoch 72/100\n",
      "17/17 [==============================] - 1s 33ms/step - loss: 0.9662 - accuracy: 0.8056 - val_loss: 1.0351 - val_accuracy: 0.7611\n",
      "Epoch 73/100\n",
      "17/17 [==============================] - 1s 62ms/step - loss: 1.0047 - accuracy: 0.7963 - val_loss: 1.0574 - val_accuracy: 0.7000\n",
      "Epoch 74/100\n",
      "17/17 [==============================] - 1s 41ms/step - loss: 0.9181 - accuracy: 0.8167 - val_loss: 0.9415 - val_accuracy: 0.7444\n",
      "Epoch 75/100\n",
      "17/17 [==============================] - 1s 49ms/step - loss: 0.8657 - accuracy: 0.8352 - val_loss: 0.9001 - val_accuracy: 0.7444\n",
      "Epoch 76/100\n",
      "17/17 [==============================] - 1s 50ms/step - loss: 0.8300 - accuracy: 0.8222 - val_loss: 0.9188 - val_accuracy: 0.7389\n",
      "Epoch 77/100\n",
      "17/17 [==============================] - 1s 46ms/step - loss: 0.8466 - accuracy: 0.8241 - val_loss: 0.9445 - val_accuracy: 0.7333\n",
      "Epoch 78/100\n",
      "17/17 [==============================] - 1s 42ms/step - loss: 0.9392 - accuracy: 0.7963 - val_loss: 1.0704 - val_accuracy: 0.7278\n",
      "Epoch 79/100\n",
      "17/17 [==============================] - 1s 49ms/step - loss: 1.0627 - accuracy: 0.7889 - val_loss: 1.1389 - val_accuracy: 0.7444\n",
      "Epoch 80/100\n",
      "17/17 [==============================] - 1s 51ms/step - loss: 1.0150 - accuracy: 0.7981 - val_loss: 1.0505 - val_accuracy: 0.7278\n",
      "Epoch 81/100\n",
      "17/17 [==============================] - 1s 48ms/step - loss: 0.8968 - accuracy: 0.8315 - val_loss: 0.9046 - val_accuracy: 0.7833\n",
      "Epoch 82/100\n",
      "17/17 [==============================] - 1s 43ms/step - loss: 0.8462 - accuracy: 0.8333 - val_loss: 0.9161 - val_accuracy: 0.7278\n",
      "Epoch 83/100\n",
      "17/17 [==============================] - 1s 40ms/step - loss: 0.8222 - accuracy: 0.8407 - val_loss: 0.8783 - val_accuracy: 0.7611\n",
      "Epoch 84/100\n",
      "17/17 [==============================] - 1s 48ms/step - loss: 0.8449 - accuracy: 0.8389 - val_loss: 0.9852 - val_accuracy: 0.7722\n",
      "Epoch 85/100\n",
      "17/17 [==============================] - 1s 38ms/step - loss: 0.9468 - accuracy: 0.8370 - val_loss: 0.9922 - val_accuracy: 0.7556\n",
      "Epoch 86/100\n",
      "17/17 [==============================] - 1s 40ms/step - loss: 0.9200 - accuracy: 0.8444 - val_loss: 1.0041 - val_accuracy: 0.7444\n",
      "Epoch 87/100\n",
      "17/17 [==============================] - 1s 41ms/step - loss: 0.9323 - accuracy: 0.8370 - val_loss: 1.0105 - val_accuracy: 0.7389\n",
      "Epoch 88/100\n",
      "17/17 [==============================] - 1s 40ms/step - loss: 0.9673 - accuracy: 0.8222 - val_loss: 1.0339 - val_accuracy: 0.7611\n",
      "Epoch 89/100\n",
      "17/17 [==============================] - 1s 43ms/step - loss: 0.9356 - accuracy: 0.8444 - val_loss: 0.9381 - val_accuracy: 0.7500\n",
      "Epoch 90/100\n",
      "17/17 [==============================] - 1s 40ms/step - loss: 0.8497 - accuracy: 0.8426 - val_loss: 0.9289 - val_accuracy: 0.7333\n",
      "Epoch 91/100\n",
      "17/17 [==============================] - 1s 38ms/step - loss: 0.8531 - accuracy: 0.8574 - val_loss: 0.9195 - val_accuracy: 0.7611\n",
      "Epoch 92/100\n",
      "17/17 [==============================] - 1s 38ms/step - loss: 0.9050 - accuracy: 0.8296 - val_loss: 0.9643 - val_accuracy: 0.7500\n",
      "Epoch 93/100\n",
      "17/17 [==============================] - 1s 38ms/step - loss: 1.0044 - accuracy: 0.8296 - val_loss: 1.1022 - val_accuracy: 0.7500\n",
      "Epoch 94/100\n",
      "17/17 [==============================] - 1s 37ms/step - loss: 0.9632 - accuracy: 0.8444 - val_loss: 0.9727 - val_accuracy: 0.7500\n",
      "Epoch 95/100\n",
      "17/17 [==============================] - 1s 41ms/step - loss: 0.8472 - accuracy: 0.8519 - val_loss: 0.8987 - val_accuracy: 0.7667\n",
      "Epoch 96/100\n",
      "17/17 [==============================] - 1s 43ms/step - loss: 0.9055 - accuracy: 0.8556 - val_loss: 1.0518 - val_accuracy: 0.7500\n",
      "Epoch 97/100\n",
      "17/17 [==============================] - 1s 37ms/step - loss: 0.9259 - accuracy: 0.8519 - val_loss: 0.9559 - val_accuracy: 0.7556\n",
      "Epoch 98/100\n",
      "17/17 [==============================] - 1s 37ms/step - loss: 0.9366 - accuracy: 0.8481 - val_loss: 1.0893 - val_accuracy: 0.7778\n",
      "Epoch 99/100\n",
      "17/17 [==============================] - 1s 38ms/step - loss: 0.9846 - accuracy: 0.8556 - val_loss: 1.0179 - val_accuracy: 0.7389\n",
      "Epoch 100/100\n",
      "17/17 [==============================] - 1s 41ms/step - loss: 0.9203 - accuracy: 0.8481 - val_loss: 0.9868 - val_accuracy: 0.7333\n"
     ]
    }
   ],
   "source": [
    "history = conv_model.fit(X_train_norm, Y_train, epochs=100, validation_data=(X_valid_norm, Y_valid))\n",
    "# history2 = conv_model.fit(X_train, Y_train, epochs=100, validation_data=(X_valid, Y_valid))"
   ]
  },
  {
   "cell_type": "code",
   "execution_count": 8,
   "id": "c2a4bb06",
   "metadata": {},
   "outputs": [
    {
     "name": "stderr",
     "output_type": "stream",
     "text": [
      "E:\\Anaconda3\\lib\\site-packages\\pandas\\core\\frame.py:5039: SettingWithCopyWarning: \n",
      "A value is trying to be set on a copy of a slice from a DataFrame\n",
      "\n",
      "See the caveats in the documentation: https://pandas.pydata.org/pandas-docs/stable/user_guide/indexing.html#returning-a-view-versus-a-copy\n",
      "  return super().rename(\n"
     ]
    },
    {
     "data": {
      "text/plain": [
       "[Text(0.5, 0, 'Epoch'), Text(0, 0.5, 'Accuracy')]"
      ]
     },
     "execution_count": 8,
     "metadata": {},
     "output_type": "execute_result"
    },
    {
     "data": {
      "image/png": "[encoded data removed]",
      "text/plain": [
       "<Figure size 432x288 with 1 Axes>"
      ]
     },
     "metadata": {
      "needs_background": "light"
     },
     "output_type": "display_data"
    },
    {
     "data": {
      "image/png": "[encoded data removed]",
      "text/plain": [
       "<Figure size 432x288 with 1 Axes>"
      ]
     },
     "metadata": {
      "needs_background": "light"
     },
     "output_type": "display_data"
    }
   ],
   "source": [
    "df_loss_acc = pd.DataFrame(history.history)\n",
    "df_loss= df_loss_acc[['loss','val_loss']]\n",
    "df_loss.rename(columns={'loss':'train','val_loss':'validation'},inplace=True)\n",
    "df_acc= df_loss_acc[['accuracy','val_accuracy']]\n",
    "df_acc.rename(columns={'accuracy':'train','val_accuracy':'validation'},inplace=True)\n",
    "df_loss.plot(title='Model loss',figsize=(6,4)).set(xlabel='Epoch',ylabel='Loss')\n",
    "df_acc.plot(title='Model Accuracy',figsize=(6,4)).set(xlabel='Epoch',ylabel='Accuracy')"
   ]
  },
  {
   "cell_type": "markdown",
   "id": "d6e2a30f",
   "metadata": {},
   "source": [
    "Display the confusion matrix"
   ]
  },
  {
   "cell_type": "code",
   "execution_count": 9,
   "id": "f926a8e9",
   "metadata": {},
   "outputs": [
    {
     "name": "stdout",
     "output_type": "stream",
     "text": [
      "6/6 [==============================] - 0s 9ms/step\n"
     ]
    },
    {
     "data": {
      "text/plain": [
       "[Text(0.5, 15.0, 'prediction'), Text(33.0, 0.5, 'actual')]"
      ]
     },
     "execution_count": 9,
     "metadata": {},
     "output_type": "execute_result"
    },
    {
     "data": {
      "image/png": "[encoded data removed]",
      "text/plain": [
       "<Figure size 432x288 with 2 Axes>"
      ]
     },
     "metadata": {
      "needs_background": "light"
     },
     "output_type": "display_data"
    }
   ],
   "source": [
    "Y_pred = conv_model.predict(X_test)\n",
    "Y_test_numpy = Y_test.numpy()\n",
    "emotion_pred = []\n",
    "emotion_test = []\n",
    "for i in range(len(Y_pred)):\n",
    "    if (Y_pred[i][0] > 0.5):\n",
    "        emotion_pred.append(0) # angry\n",
    "    elif (Y_pred[i][1] > 0.5):\n",
    "        emotion_pred.append(1) # happy\n",
    "    elif (Y_pred[i][2] > 0.5):\n",
    "        emotion_pred.append(2) # normal\n",
    "    else:\n",
    "        emotion_pred.append(3) # not decided\n",
    "\n",
    "    if (Y_test_numpy[i][0] > 0.5):\n",
    "        emotion_test.append(0)\n",
    "    elif (Y_test_numpy[i][1] > 0.5):\n",
    "        emotion_test.append(1)\n",
    "    elif (Y_test_numpy[i][2] > 0.5):\n",
    "        emotion_test.append(2)\n",
    "\n",
    "emotion_test = tf.convert_to_tensor(emotion_test)\n",
    "emotion_pred = tf.convert_to_tensor(emotion_pred)\n",
    "\n",
    "confusion = tf.math.confusion_matrix(emotion_test, emotion_pred, num_classes = 4)\n",
    "\n",
    "df=pd.DataFrame(confusion.numpy(),index=['angry', 'happy', 'normal', 'not sure'],columns=['angry', 'happy', 'normal', 'not sure'])\n",
    "confusiton_map = sn.heatmap(df,annot=True, cmap='crest')\n",
    "confusiton_map.set(xlabel=\"prediction\", ylabel=\"actual\")"
   ]
  },
  {
   "cell_type": "code",
   "execution_count": null,
   "id": "cd1d2da8",
   "metadata": {},
   "outputs": [],
   "source": []
  }
 ],
 "metadata": {
  "kernelspec": {
   "display_name": "Python 3 (ipykernel)",
   "language": "python",
   "name": "python3"
  },
  "language_info": {
   "codemirror_mode": {
    "name": "ipython",
    "version": 3
   },
   "file_extension": ".py",
   "mimetype": "text/x-python",
   "name": "python",
   "nbconvert_exporter": "python",
   "pygments_lexer": "ipython3",
   "version": "3.9.7"
  }
 },
 "nbformat": 4,
 "nbformat_minor": 5
}
