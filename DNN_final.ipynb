{
 "cells": [
  {
   "cell_type": "code",
   "execution_count": 1,
   "id": "bfc4a234",
   "metadata": {},
   "outputs": [],
   "source": [
    "import numpy as np\n",
    "import pandas as pd\n",
    "import os\n",
    "from matplotlib import pyplot as plt\n",
    "import random\n",
    "import tensorflow as tf\n",
    "from tensorflow import keras\n",
    "import keras.layers as tfl\n",
    "from keras.models import Sequential\n",
    "from tensorflow import keras\n",
    "import seaborn as sn"
   ]
  },
  {
   "cell_type": "code",
   "execution_count": 2,
   "id": "45ee0a1a",
   "metadata": {},
   "outputs": [],
   "source": [
    "# All mfcc data are contained in numpy_datas, which is a list. \n",
    "# The each entry of the list is another list consistes of [mfccs, file name]\n",
    "MFCCs_DATA = \"MFCCsData\"\n",
    "numpy_datas = []\n",
    "\n",
    "dirlist = os.listdir(MFCCs_DATA)\n",
    "for d in dirlist:\n",
    "    d = os.path.join(MFCCs_DATA, d)\n",
    "    datalist = os.listdir(d)\n",
    "    datalist = [[np.load(os.path.join(d,x)), os.path.join(d,x)] for x in datalist]\n",
    "    numpy_datas.extend(datalist)"
   ]
  },
  {
   "cell_type": "markdown",
   "id": "9dfd6e11",
   "metadata": {},
   "source": [
    "Get dataset"
   ]
  },
  {
   "cell_type": "code",
   "execution_count": 3,
   "id": "75cdeba6",
   "metadata": {},
   "outputs": [
    {
     "data": {
      "text/plain": [
       "1117"
      ]
     },
     "execution_count": 3,
     "metadata": {},
     "output_type": "execute_result"
    }
   ],
   "source": [
    "# find the max size of mfcc and use it to reshape all mfccs into the same shape\n",
    "mfcc_size = []\n",
    "for i in range(len(numpy_datas)):\n",
    "    mfcc_size.append(numpy_datas[i][0].shape[1])\n",
    "max(mfcc_size)"
   ]
  },
  {
   "cell_type": "code",
   "execution_count": 4,
   "id": "cd92db82",
   "metadata": {},
   "outputs": [],
   "source": [
    "# resize into (19,1841) and flatten into (19*1841,1)\n",
    "for i in range(len(numpy_datas)):\n",
    "    numpy_datas[i][0] = np.resize(np.resize(numpy_datas[i][0], (19,1841)), (19*1841,1))"
   ]
  },
  {
   "cell_type": "code",
   "execution_count": 5,
   "id": "29acc793",
   "metadata": {},
   "outputs": [
    {
     "data": {
      "text/plain": [
       "(34979, 1)"
      ]
     },
     "execution_count": 5,
     "metadata": {},
     "output_type": "execute_result"
    }
   ],
   "source": [
    "numpy_datas[i][0].shape"
   ]
  },
  {
   "cell_type": "code",
   "execution_count": 6,
   "id": "1154914e",
   "metadata": {},
   "outputs": [],
   "source": [
    "# change file name to correct label\n",
    "angry = []\n",
    "happy = []\n",
    "normal = []\n",
    "\n",
    "for i in range(len(numpy_datas)):\n",
    "    file_name = numpy_datas[i][1]\n",
    "    if \"angry\" in file_name:\n",
    "        numpy_datas[i][1] = np.array([1,0,0])\n",
    "        angry.append(numpy_datas[i])\n",
    "    elif \"happy\" in file_name:\n",
    "        numpy_datas[i][1] = np.array([0,1,0])\n",
    "        happy.append(numpy_datas[i])\n",
    "    else:\n",
    "        numpy_datas[i][1] = np.array([0,0,1])\n",
    "        normal.append(numpy_datas[i])"
   ]
  },
  {
   "cell_type": "code",
   "execution_count": 7,
   "id": "19ce2f3e",
   "metadata": {},
   "outputs": [],
   "source": [
    "# first shuffle the list of each emotion\n",
    "random.shuffle(angry)\n",
    "random.shuffle(happy)\n",
    "random.shuffle(normal)"
   ]
  },
  {
   "cell_type": "code",
   "execution_count": 8,
   "id": "7f2570b5",
   "metadata": {},
   "outputs": [],
   "source": [
    "# then select the first 180 in each emotion as train data, first 60 in each emotion as valid data, and first 60 in each emotion as test data\n",
    "train_data = angry[:int(len(angry)*0.6)] + happy[:int(len(happy)*0.6)] + normal[:int(len(normal)*0.6)]\n",
    "valid_data = angry[int(len(angry)*0.6):int(len(angry)*(0.6+0.2))] + happy[int(len(happy)*0.6):int(len(happy)*(0.6+0.2))] + normal[int(len(normal)*0.6):int(len(normal)*(0.6+0.2))]\n",
    "test_data = angry[int(len(angry)*(0.6+0.2)):] + happy[int(len(happy)*(0.6+0.2)):] + normal[int(len(normal)*(0.6+0.2)):]\n",
    "random.shuffle(train_data)\n",
    "random.shuffle(valid_data)\n",
    "random.shuffle(test_data)"
   ]
  },
  {
   "cell_type": "code",
   "execution_count": 9,
   "id": "11d53a19",
   "metadata": {},
   "outputs": [],
   "source": [
    "# train, valid, test data are all in list consistes of [mfccs, file name]\n",
    "# want to change the list to two outputs:\n",
    "# X: vector of mfccs\n",
    "# Y: vector of labels\n",
    "def data2vector(data):\n",
    "    X = []\n",
    "    Y = []\n",
    "    for i in range(len(data)):\n",
    "        X.append(data[i][0])\n",
    "        Y.append(data[i][1])\n",
    "    X = np.array(X)\n",
    "    Y = np.array(Y)\n",
    "    return X,Y"
   ]
  },
  {
   "cell_type": "code",
   "execution_count": 10,
   "id": "0af35c31",
   "metadata": {},
   "outputs": [],
   "source": [
    "X_train, Y_train = data2vector(train_data)\n",
    "X_valid, Y_valid = data2vector(valid_data)\n",
    "X_test, Y_test = data2vector(test_data)\n",
    "\n",
    "# calcualte mean and standard deviation\n",
    "X_train_miu = np.average(X_train, axis=0)\n",
    "X_train_std = np.std(X_train, axis=0)\n",
    "\n",
    "# normalization\n",
    "X_train_norm = (X_train - X_train_miu)/X_train_std\n",
    "X_valid_norm = (X_valid - X_train_miu)/X_train_std\n",
    "X_test_norm = (X_test - X_train_miu)/X_train_std"
   ]
  },
  {
   "cell_type": "code",
   "execution_count": 11,
   "id": "65604023",
   "metadata": {},
   "outputs": [],
   "source": [
    "# convert array to tensor\n",
    "X_train_norm = tf.convert_to_tensor(X_train_norm)\n",
    "X_valid_norm = tf.convert_to_tensor(X_valid_norm)\n",
    "X_test_norm = tf.convert_to_tensor(X_test_norm)\n",
    "Y_train = tf.convert_to_tensor(Y_train)\n",
    "Y_valid = tf.convert_to_tensor(Y_valid)\n",
    "Y_test = tf.convert_to_tensor(Y_test)"
   ]
  },
  {
   "cell_type": "markdown",
   "id": "e02d7b2f",
   "metadata": {},
   "source": [
    "Now we build a 3 layer neuronetwork: linear -> relu -> linear -> relu -> linear -> softmax"
   ]
  },
  {
   "cell_type": "code",
   "execution_count": 12,
   "id": "5843650f",
   "metadata": {},
   "outputs": [],
   "source": [
    "dnn_model = Sequential()\n",
    "dnn_model.add(tfl.Dense(16, input_shape=(1841*19,), activation='sigmoid',\n",
    "                        kernel_initializer='glorot_normal', bias_initializer='zeros', \n",
    "                        activity_regularizer=tf.keras.regularizers.L2(0.4)\n",
    "                       )\n",
    "             )\n",
    "dnn_model.add(tfl.ReLU())\n",
    "dnn_model.add(tfl.BatchNormalization())\n",
    "dnn_model.add(tfl.Dense(8, activation='sigmoid',\n",
    "                        kernel_initializer='glorot_normal', bias_initializer='zeros', \n",
    "                        activity_regularizer=tf.keras.regularizers.L2(0.4)\n",
    "                       )\n",
    "             )\n",
    "dnn_model.add(tfl.ReLU())\n",
    "dnn_model.add(tfl.BatchNormalization())\n",
    "dnn_model.add(tfl.Dense(3,\n",
    "                        kernel_initializer='glorot_normal', bias_initializer='zeros',\n",
    "                        activity_regularizer=tf.keras.regularizers.L2(0.4)\n",
    "                       )\n",
    "             )"
   ]
  },
  {
   "cell_type": "code",
   "execution_count": 13,
   "id": "3a2bacbf",
   "metadata": {},
   "outputs": [
    {
     "name": "stdout",
     "output_type": "stream",
     "text": [
      "Model: \"sequential\"\n",
      "_________________________________________________________________\n",
      " Layer (type)                Output Shape              Param #   \n",
      "=================================================================\n",
      " dense (Dense)               (None, 16)                559680    \n",
      "                                                                 \n",
      " re_lu (ReLU)                (None, 16)                0         \n",
      "                                                                 \n",
      " batch_normalization (BatchN  (None, 16)               64        \n",
      " ormalization)                                                   \n",
      "                                                                 \n",
      " dense_1 (Dense)             (None, 8)                 136       \n",
      "                                                                 \n",
      " re_lu_1 (ReLU)              (None, 8)                 0         \n",
      "                                                                 \n",
      " batch_normalization_1 (Batc  (None, 8)                32        \n",
      " hNormalization)                                                 \n",
      "                                                                 \n",
      " dense_2 (Dense)             (None, 3)                 27        \n",
      "                                                                 \n",
      "=================================================================\n",
      "Total params: 559,939\n",
      "Trainable params: 559,891\n",
      "Non-trainable params: 48\n",
      "_________________________________________________________________\n"
     ]
    }
   ],
   "source": [
    "opt = keras.optimizers.Adam(learning_rate=0.00001)\n",
    "dnn_model.compile(optimizer=opt,\n",
    "                  loss='categorical_crossentropy',\n",
    "                  metrics=['accuracy'])\n",
    "dnn_model.summary()"
   ]
  },
  {
   "cell_type": "code",
   "execution_count": 14,
   "id": "08aab98e",
   "metadata": {},
   "outputs": [
    {
     "name": "stdout",
     "output_type": "stream",
     "text": [
      "Epoch 1/100\n",
      "17/17 [==============================] - 8s 48ms/step - loss: 9.6146 - accuracy: 0.3093 - val_loss: 9.9178 - val_accuracy: 0.3333\n",
      "Epoch 2/100\n",
      "17/17 [==============================] - 0s 14ms/step - loss: 9.4638 - accuracy: 0.3111 - val_loss: 9.5565 - val_accuracy: 0.3333\n",
      "Epoch 3/100\n",
      "17/17 [==============================] - 0s 17ms/step - loss: 9.3031 - accuracy: 0.3056 - val_loss: 9.2596 - val_accuracy: 0.3222\n",
      "Epoch 4/100\n",
      "17/17 [==============================] - 0s 21ms/step - loss: 9.6619 - accuracy: 0.3000 - val_loss: 8.9457 - val_accuracy: 0.3333\n",
      "Epoch 5/100\n",
      "17/17 [==============================] - 0s 13ms/step - loss: 9.4978 - accuracy: 0.2963 - val_loss: 8.7338 - val_accuracy: 0.3500\n",
      "Epoch 6/100\n",
      "17/17 [==============================] - 0s 15ms/step - loss: 9.5514 - accuracy: 0.2944 - val_loss: 8.4117 - val_accuracy: 0.3500\n",
      "Epoch 7/100\n",
      "17/17 [==============================] - 0s 28ms/step - loss: 9.4546 - accuracy: 0.3000 - val_loss: 8.3024 - val_accuracy: 0.3500\n",
      "Epoch 8/100\n",
      "17/17 [==============================] - 0s 15ms/step - loss: 9.1616 - accuracy: 0.3056 - val_loss: 8.0914 - val_accuracy: 0.3500\n",
      "Epoch 9/100\n",
      "17/17 [==============================] - 0s 15ms/step - loss: 9.1632 - accuracy: 0.3130 - val_loss: 7.7242 - val_accuracy: 0.3278\n",
      "Epoch 10/100\n",
      "17/17 [==============================] - 0s 17ms/step - loss: 9.4288 - accuracy: 0.3222 - val_loss: 8.1223 - val_accuracy: 0.3111\n",
      "Epoch 11/100\n",
      "17/17 [==============================] - 0s 17ms/step - loss: 9.1191 - accuracy: 0.3019 - val_loss: 8.4010 - val_accuracy: 0.3056\n",
      "Epoch 12/100\n",
      "17/17 [==============================] - 0s 17ms/step - loss: 9.6052 - accuracy: 0.3037 - val_loss: 8.5570 - val_accuracy: 0.2944\n",
      "Epoch 13/100\n",
      "17/17 [==============================] - 0s 18ms/step - loss: 9.8154 - accuracy: 0.2963 - val_loss: 8.6196 - val_accuracy: 0.2778\n",
      "Epoch 14/100\n",
      "17/17 [==============================] - 0s 15ms/step - loss: 9.5817 - accuracy: 0.2944 - val_loss: 8.3836 - val_accuracy: 0.2778\n",
      "Epoch 15/100\n",
      "17/17 [==============================] - 0s 13ms/step - loss: 9.3128 - accuracy: 0.3167 - val_loss: 8.3224 - val_accuracy: 0.2722\n",
      "Epoch 16/100\n",
      "17/17 [==============================] - 0s 16ms/step - loss: 9.2940 - accuracy: 0.3056 - val_loss: 8.6928 - val_accuracy: 0.2611\n",
      "Epoch 17/100\n",
      "17/17 [==============================] - 0s 19ms/step - loss: 8.9925 - accuracy: 0.3000 - val_loss: 8.8404 - val_accuracy: 0.2611\n",
      "Epoch 18/100\n",
      "17/17 [==============================] - 0s 18ms/step - loss: 9.0963 - accuracy: 0.2907 - val_loss: 9.2192 - val_accuracy: 0.2611\n",
      "Epoch 19/100\n",
      "17/17 [==============================] - 0s 18ms/step - loss: 8.9942 - accuracy: 0.3000 - val_loss: 9.6785 - val_accuracy: 0.2611\n",
      "Epoch 20/100\n",
      "17/17 [==============================] - 0s 19ms/step - loss: 9.0432 - accuracy: 0.3000 - val_loss: 9.6577 - val_accuracy: 0.2611\n",
      "Epoch 21/100\n",
      "17/17 [==============================] - 0s 15ms/step - loss: 8.9983 - accuracy: 0.3056 - val_loss: 9.8492 - val_accuracy: 0.2722\n",
      "Epoch 22/100\n",
      "17/17 [==============================] - 0s 22ms/step - loss: 9.0777 - accuracy: 0.2963 - val_loss: 9.7290 - val_accuracy: 0.2778\n",
      "Epoch 23/100\n",
      "17/17 [==============================] - 0s 16ms/step - loss: 9.0764 - accuracy: 0.2963 - val_loss: 9.9464 - val_accuracy: 0.2722\n",
      "Epoch 24/100\n",
      "17/17 [==============================] - 0s 18ms/step - loss: 9.1847 - accuracy: 0.2981 - val_loss: 10.0393 - val_accuracy: 0.2722\n",
      "Epoch 25/100\n",
      "17/17 [==============================] - 0s 16ms/step - loss: 9.2063 - accuracy: 0.3204 - val_loss: 9.9941 - val_accuracy: 0.2778\n",
      "Epoch 26/100\n",
      "17/17 [==============================] - 0s 17ms/step - loss: 9.0359 - accuracy: 0.3111 - val_loss: 9.8053 - val_accuracy: 0.2833\n",
      "Epoch 27/100\n",
      "17/17 [==============================] - 0s 16ms/step - loss: 9.2935 - accuracy: 0.3130 - val_loss: 9.7953 - val_accuracy: 0.2889\n",
      "Epoch 28/100\n",
      "17/17 [==============================] - 0s 17ms/step - loss: 8.8849 - accuracy: 0.2944 - val_loss: 9.7514 - val_accuracy: 0.2889\n",
      "Epoch 29/100\n",
      "17/17 [==============================] - 0s 18ms/step - loss: 8.8857 - accuracy: 0.2907 - val_loss: 9.8067 - val_accuracy: 0.2889\n",
      "Epoch 30/100\n",
      "17/17 [==============================] - 0s 17ms/step - loss: 9.0567 - accuracy: 0.3000 - val_loss: 9.7511 - val_accuracy: 0.2889\n",
      "Epoch 31/100\n",
      "17/17 [==============================] - 2s 15ms/step - loss: 9.0774 - accuracy: 0.2963 - val_loss: 9.5410 - val_accuracy: 0.2889\n",
      "Epoch 32/100\n",
      "17/17 [==============================] - 0s 16ms/step - loss: 9.0251 - accuracy: 0.3222 - val_loss: 9.7241 - val_accuracy: 0.2889\n",
      "Epoch 33/100\n",
      "17/17 [==============================] - 0s 14ms/step - loss: 9.0614 - accuracy: 0.3185 - val_loss: 9.8156 - val_accuracy: 0.2889\n",
      "Epoch 34/100\n",
      "17/17 [==============================] - 0s 14ms/step - loss: 8.9439 - accuracy: 0.2963 - val_loss: 9.7708 - val_accuracy: 0.2889\n",
      "Epoch 35/100\n",
      "17/17 [==============================] - 0s 15ms/step - loss: 9.1392 - accuracy: 0.3222 - val_loss: 9.7808 - val_accuracy: 0.2889\n",
      "Epoch 36/100\n",
      "17/17 [==============================] - 0s 13ms/step - loss: 8.8799 - accuracy: 0.3093 - val_loss: 9.7562 - val_accuracy: 0.2889\n",
      "Epoch 37/100\n",
      "17/17 [==============================] - 0s 14ms/step - loss: 8.7577 - accuracy: 0.3056 - val_loss: 9.7365 - val_accuracy: 0.2889\n",
      "Epoch 38/100\n",
      "17/17 [==============================] - 0s 13ms/step - loss: 8.7397 - accuracy: 0.3074 - val_loss: 9.7369 - val_accuracy: 0.2889\n",
      "Epoch 39/100\n",
      "17/17 [==============================] - 0s 14ms/step - loss: 8.6568 - accuracy: 0.3185 - val_loss: 9.8440 - val_accuracy: 0.2889\n",
      "Epoch 40/100\n",
      "17/17 [==============================] - 0s 14ms/step - loss: 9.1032 - accuracy: 0.3167 - val_loss: 9.7798 - val_accuracy: 0.2889\n",
      "Epoch 41/100\n",
      "17/17 [==============================] - 0s 15ms/step - loss: 8.9156 - accuracy: 0.3148 - val_loss: 9.7690 - val_accuracy: 0.2889\n",
      "Epoch 42/100\n",
      "17/17 [==============================] - 0s 17ms/step - loss: 8.4474 - accuracy: 0.3093 - val_loss: 9.7727 - val_accuracy: 0.2889\n",
      "Epoch 43/100\n",
      "17/17 [==============================] - 0s 19ms/step - loss: 8.8339 - accuracy: 0.3167 - val_loss: 9.8613 - val_accuracy: 0.2944\n",
      "Epoch 44/100\n",
      "17/17 [==============================] - 0s 21ms/step - loss: 8.5415 - accuracy: 0.3056 - val_loss: 9.8564 - val_accuracy: 0.3000\n",
      "Epoch 45/100\n",
      "17/17 [==============================] - 0s 19ms/step - loss: 8.8106 - accuracy: 0.3185 - val_loss: 9.9089 - val_accuracy: 0.3000\n",
      "Epoch 46/100\n",
      "17/17 [==============================] - 0s 25ms/step - loss: 8.6045 - accuracy: 0.3000 - val_loss: 9.8541 - val_accuracy: 0.3000\n",
      "Epoch 47/100\n",
      "17/17 [==============================] - 0s 15ms/step - loss: 8.8038 - accuracy: 0.3185 - val_loss: 9.9179 - val_accuracy: 0.2944\n",
      "Epoch 48/100\n",
      "17/17 [==============================] - 0s 16ms/step - loss: 8.6564 - accuracy: 0.3093 - val_loss: 9.7891 - val_accuracy: 0.2889\n",
      "Epoch 49/100\n",
      "17/17 [==============================] - 0s 15ms/step - loss: 8.3777 - accuracy: 0.3167 - val_loss: 9.8185 - val_accuracy: 0.2667\n",
      "Epoch 50/100\n",
      "17/17 [==============================] - 0s 16ms/step - loss: 8.7197 - accuracy: 0.3019 - val_loss: 9.8180 - val_accuracy: 0.2667\n",
      "Epoch 51/100\n",
      "17/17 [==============================] - 0s 16ms/step - loss: 8.8783 - accuracy: 0.2870 - val_loss: 9.8813 - val_accuracy: 0.2611\n",
      "Epoch 52/100\n",
      "17/17 [==============================] - 0s 20ms/step - loss: 8.4122 - accuracy: 0.2833 - val_loss: 9.9306 - val_accuracy: 0.2667\n",
      "Epoch 53/100\n",
      "17/17 [==============================] - 0s 19ms/step - loss: 8.6035 - accuracy: 0.2981 - val_loss: 9.8544 - val_accuracy: 0.2667\n",
      "Epoch 54/100\n",
      "17/17 [==============================] - 0s 16ms/step - loss: 8.4990 - accuracy: 0.3148 - val_loss: 9.8475 - val_accuracy: 0.2667\n",
      "Epoch 55/100\n",
      "17/17 [==============================] - 0s 13ms/step - loss: 8.5603 - accuracy: 0.3000 - val_loss: 9.8496 - val_accuracy: 0.2667\n",
      "Epoch 56/100\n",
      "17/17 [==============================] - 0s 15ms/step - loss: 8.5941 - accuracy: 0.2815 - val_loss: 9.7995 - val_accuracy: 0.2722\n",
      "Epoch 57/100\n",
      "17/17 [==============================] - 0s 22ms/step - loss: 8.3941 - accuracy: 0.2926 - val_loss: 9.8452 - val_accuracy: 0.2722\n",
      "Epoch 58/100\n",
      "17/17 [==============================] - 0s 16ms/step - loss: 8.2492 - accuracy: 0.3074 - val_loss: 9.8394 - val_accuracy: 0.2722\n",
      "Epoch 59/100\n",
      "17/17 [==============================] - 0s 14ms/step - loss: 8.1960 - accuracy: 0.2963 - val_loss: 9.8363 - val_accuracy: 0.2778\n",
      "Epoch 60/100\n",
      "17/17 [==============================] - 0s 14ms/step - loss: 8.3089 - accuracy: 0.2833 - val_loss: 9.7653 - val_accuracy: 0.2833\n",
      "Epoch 61/100\n",
      "17/17 [==============================] - 0s 15ms/step - loss: 8.5649 - accuracy: 0.2963 - val_loss: 9.7347 - val_accuracy: 0.2833\n",
      "Epoch 62/100\n",
      "17/17 [==============================] - 0s 15ms/step - loss: 8.2770 - accuracy: 0.2963 - val_loss: 9.5862 - val_accuracy: 0.2889\n",
      "Epoch 63/100\n",
      "17/17 [==============================] - 0s 14ms/step - loss: 8.2786 - accuracy: 0.3019 - val_loss: 9.5839 - val_accuracy: 0.2889\n",
      "Epoch 64/100\n",
      "17/17 [==============================] - 0s 14ms/step - loss: 8.1792 - accuracy: 0.3037 - val_loss: 9.6362 - val_accuracy: 0.2944\n",
      "Epoch 65/100\n",
      "17/17 [==============================] - 1s 41ms/step - loss: 8.2106 - accuracy: 0.2963 - val_loss: 9.5157 - val_accuracy: 0.2944\n",
      "Epoch 66/100\n",
      "17/17 [==============================] - 0s 18ms/step - loss: 8.4587 - accuracy: 0.2963 - val_loss: 9.5022 - val_accuracy: 0.2944\n",
      "Epoch 67/100\n",
      "17/17 [==============================] - 0s 15ms/step - loss: 8.1423 - accuracy: 0.3093 - val_loss: 9.5814 - val_accuracy: 0.2944\n",
      "Epoch 68/100\n",
      "17/17 [==============================] - 0s 15ms/step - loss: 8.2717 - accuracy: 0.2981 - val_loss: 9.4893 - val_accuracy: 0.2944\n",
      "Epoch 69/100\n",
      "17/17 [==============================] - 0s 14ms/step - loss: 7.8594 - accuracy: 0.3204 - val_loss: 9.4869 - val_accuracy: 0.2944\n",
      "Epoch 70/100\n",
      "17/17 [==============================] - 0s 15ms/step - loss: 8.1667 - accuracy: 0.3185 - val_loss: 9.5575 - val_accuracy: 0.2889\n",
      "Epoch 71/100\n",
      "17/17 [==============================] - 0s 15ms/step - loss: 8.1041 - accuracy: 0.2944 - val_loss: 9.5663 - val_accuracy: 0.2889\n",
      "Epoch 72/100\n",
      "17/17 [==============================] - 0s 14ms/step - loss: 8.1579 - accuracy: 0.3074 - val_loss: 9.5573 - val_accuracy: 0.2944\n",
      "Epoch 73/100\n",
      "17/17 [==============================] - 0s 14ms/step - loss: 7.8619 - accuracy: 0.3074 - val_loss: 9.5452 - val_accuracy: 0.2833\n",
      "Epoch 74/100\n",
      "17/17 [==============================] - 0s 15ms/step - loss: 7.9378 - accuracy: 0.3074 - val_loss: 9.5388 - val_accuracy: 0.2833\n",
      "Epoch 75/100\n",
      "17/17 [==============================] - 0s 17ms/step - loss: 8.1982 - accuracy: 0.3148 - val_loss: 9.5367 - val_accuracy: 0.2833\n",
      "Epoch 76/100\n",
      "17/17 [==============================] - 0s 17ms/step - loss: 8.2410 - accuracy: 0.3074 - val_loss: 9.5505 - val_accuracy: 0.2833\n",
      "Epoch 77/100\n",
      "17/17 [==============================] - 0s 17ms/step - loss: 8.0607 - accuracy: 0.3074 - val_loss: 9.5421 - val_accuracy: 0.2833\n",
      "Epoch 78/100\n",
      "17/17 [==============================] - 0s 18ms/step - loss: 8.1663 - accuracy: 0.3111 - val_loss: 9.5361 - val_accuracy: 0.2833\n",
      "Epoch 79/100\n",
      "17/17 [==============================] - 0s 16ms/step - loss: 8.2664 - accuracy: 0.3037 - val_loss: 9.4824 - val_accuracy: 0.2833\n",
      "Epoch 80/100\n",
      "17/17 [==============================] - 0s 20ms/step - loss: 8.0536 - accuracy: 0.3259 - val_loss: 9.4421 - val_accuracy: 0.2778\n",
      "Epoch 81/100\n",
      "17/17 [==============================] - 0s 22ms/step - loss: 7.6263 - accuracy: 0.3000 - val_loss: 9.5245 - val_accuracy: 0.2778\n",
      "Epoch 82/100\n",
      "17/17 [==============================] - 0s 19ms/step - loss: 7.9363 - accuracy: 0.3019 - val_loss: 9.5200 - val_accuracy: 0.2778\n",
      "Epoch 83/100\n",
      "17/17 [==============================] - 0s 20ms/step - loss: 7.9856 - accuracy: 0.3241 - val_loss: 9.5147 - val_accuracy: 0.2833\n",
      "Epoch 84/100\n",
      "17/17 [==============================] - 0s 15ms/step - loss: 8.0614 - accuracy: 0.3167 - val_loss: 9.5943 - val_accuracy: 0.2833\n",
      "Epoch 85/100\n",
      "17/17 [==============================] - 0s 20ms/step - loss: 8.0342 - accuracy: 0.3130 - val_loss: 9.5892 - val_accuracy: 0.2833\n",
      "Epoch 86/100\n",
      "17/17 [==============================] - 0s 17ms/step - loss: 8.0133 - accuracy: 0.3056 - val_loss: 9.5977 - val_accuracy: 0.2889\n",
      "Epoch 87/100\n",
      "17/17 [==============================] - 0s 22ms/step - loss: 7.8620 - accuracy: 0.3056 - val_loss: 9.6537 - val_accuracy: 0.2889\n",
      "Epoch 88/100\n",
      "17/17 [==============================] - 0s 23ms/step - loss: 7.8794 - accuracy: 0.2926 - val_loss: 9.4957 - val_accuracy: 0.2833\n",
      "Epoch 89/100\n",
      "17/17 [==============================] - 0s 16ms/step - loss: 7.8482 - accuracy: 0.3241 - val_loss: 9.6402 - val_accuracy: 0.2833\n",
      "Epoch 90/100\n",
      "17/17 [==============================] - 0s 20ms/step - loss: 7.9215 - accuracy: 0.3037 - val_loss: 9.6346 - val_accuracy: 0.2889\n",
      "Epoch 91/100\n",
      "17/17 [==============================] - 0s 23ms/step - loss: 7.5082 - accuracy: 0.3130 - val_loss: 9.4787 - val_accuracy: 0.2889\n",
      "Epoch 92/100\n",
      "17/17 [==============================] - 0s 23ms/step - loss: 7.8536 - accuracy: 0.3222 - val_loss: 9.4172 - val_accuracy: 0.2944\n",
      "Epoch 93/100\n",
      "17/17 [==============================] - 1s 33ms/step - loss: 7.8657 - accuracy: 0.3037 - val_loss: 9.4117 - val_accuracy: 0.2944\n",
      "Epoch 94/100\n",
      "17/17 [==============================] - 0s 26ms/step - loss: 7.9952 - accuracy: 0.3111 - val_loss: 9.4096 - val_accuracy: 0.3000\n",
      "Epoch 95/100\n",
      "17/17 [==============================] - 0s 25ms/step - loss: 7.4533 - accuracy: 0.3352 - val_loss: 9.4173 - val_accuracy: 0.2889\n",
      "Epoch 96/100\n",
      "17/17 [==============================] - 0s 26ms/step - loss: 7.7028 - accuracy: 0.3241 - val_loss: 9.4726 - val_accuracy: 0.3000\n",
      "Epoch 97/100\n",
      "17/17 [==============================] - 0s 24ms/step - loss: 7.5354 - accuracy: 0.3185 - val_loss: 9.5314 - val_accuracy: 0.3000\n",
      "Epoch 98/100\n",
      "17/17 [==============================] - 0s 25ms/step - loss: 7.9346 - accuracy: 0.3148 - val_loss: 9.5584 - val_accuracy: 0.2889\n",
      "Epoch 99/100\n",
      "17/17 [==============================] - 0s 26ms/step - loss: 8.0519 - accuracy: 0.3111 - val_loss: 9.6385 - val_accuracy: 0.2889\n",
      "Epoch 100/100\n",
      "17/17 [==============================] - 0s 21ms/step - loss: 7.4504 - accuracy: 0.3093 - val_loss: 9.6286 - val_accuracy: 0.2889\n"
     ]
    }
   ],
   "source": [
    "history = dnn_model.fit(X_train_norm, Y_train, epochs=100, validation_data=(X_valid_norm, Y_valid))"
   ]
  },
  {
   "cell_type": "code",
   "execution_count": 15,
   "id": "bcb1f230",
   "metadata": {},
   "outputs": [
    {
     "name": "stderr",
     "output_type": "stream",
     "text": [
      "E:\\Anaconda3\\lib\\site-packages\\pandas\\core\\frame.py:5039: SettingWithCopyWarning: \n",
      "A value is trying to be set on a copy of a slice from a DataFrame\n",
      "\n",
      "See the caveats in the documentation: https://pandas.pydata.org/pandas-docs/stable/user_guide/indexing.html#returning-a-view-versus-a-copy\n",
      "  return super().rename(\n"
     ]
    },
    {
     "data": {
      "text/plain": [
       "[Text(0.5, 0, 'Epoch'), Text(0, 0.5, 'Accuracy')]"
      ]
     },
     "execution_count": 15,
     "metadata": {},
     "output_type": "execute_result"
    },
    {
     "data": {
      "image/png": "[encoded data removed]",
      "text/plain": [
       "<Figure size 432x288 with 1 Axes>"
      ]
     },
     "metadata": {
      "needs_background": "light"
     },
     "output_type": "display_data"
    },
    {
     "data": {
      "image/png": "[encoded data removed]",
      "text/plain": [
       "<Figure size 432x288 with 1 Axes>"
      ]
     },
     "metadata": {
      "needs_background": "light"
     },
     "output_type": "display_data"
    }
   ],
   "source": [
    "df_loss_acc = pd.DataFrame(history.history)\n",
    "df_loss= df_loss_acc[['loss','val_loss']]\n",
    "df_loss.rename(columns={'loss':'train','val_loss':'validation'},inplace=True)\n",
    "df_acc= df_loss_acc[['accuracy','val_accuracy']]\n",
    "df_acc.rename(columns={'accuracy':'train','val_accuracy':'validation'},inplace=True)\n",
    "df_loss.plot(title='Model loss',figsize=(6,4)).set(xlabel='Epoch',ylabel='Loss')\n",
    "df_acc.plot(title='Model Accuracy',figsize=(6,4)).set(xlabel='Epoch',ylabel='Accuracy')"
   ]
  },
  {
   "cell_type": "code",
   "execution_count": 16,
   "id": "57cec72b",
   "metadata": {},
   "outputs": [
    {
     "name": "stdout",
     "output_type": "stream",
     "text": [
      "6/6 [==============================] - 0s 5ms/step\n"
     ]
    },
    {
     "data": {
      "text/plain": [
       "[Text(0.5, 15.0, 'prediction'), Text(33.0, 0.5, 'actual')]"
      ]
     },
     "execution_count": 16,
     "metadata": {},
     "output_type": "execute_result"
    },
    {
     "data": {
      "image/png": "[encoded data removed]",
      "text/plain": [
       "<Figure size 432x288 with 2 Axes>"
      ]
     },
     "metadata": {
      "needs_background": "light"
     },
     "output_type": "display_data"
    }
   ],
   "source": [
    "Y_pred = dnn_model.predict(X_test_norm)\n",
    "Y_test_numpy = Y_test.numpy()\n",
    "emotion_pred = []\n",
    "emotion_test = []\n",
    "for i in range(len(Y_pred)):\n",
    "    if (Y_pred[i][0] > 0.5):\n",
    "        emotion_pred.append(0) # angry\n",
    "    elif (Y_pred[i][1] > 0.5):\n",
    "        emotion_pred.append(1) # happy\n",
    "    elif (Y_pred[i][2] > 0.5):\n",
    "        emotion_pred.append(2) # normal\n",
    "    else:\n",
    "        emotion_pred.append(3) # not decided\n",
    "\n",
    "    if (Y_test_numpy[i][0] > 0.5):\n",
    "        emotion_test.append(0)\n",
    "    elif (Y_test_numpy[i][1] > 0.5):\n",
    "        emotion_test.append(1)\n",
    "    elif (Y_test_numpy[i][2] > 0.5):\n",
    "        emotion_test.append(2)\n",
    "\n",
    "emotion_test = tf.convert_to_tensor(emotion_test)\n",
    "emotion_pred = tf.convert_to_tensor(emotion_pred)\n",
    "\n",
    "confusion = tf.math.confusion_matrix(emotion_test, emotion_pred, num_classes = 4)\n",
    "\n",
    "df=pd.DataFrame(confusion.numpy(),index=['angry', 'happy', 'normal', 'not sure'],columns=['angry', 'happy', 'normal', 'not sure'])\n",
    "confusiton_map = sn.heatmap(df,annot=True, cmap='crest')\n",
    "confusiton_map.set(xlabel=\"prediction\", ylabel=\"actual\")"
   ]
  },
  {
   "cell_type": "code",
   "execution_count": null,
   "id": "631a83f2",
   "metadata": {},
   "outputs": [],
   "source": []
  }
 ],
 "metadata": {
  "kernelspec": {
   "display_name": "Python 3 (ipykernel)",
   "language": "python",
   "name": "python3"
  },
  "language_info": {
   "codemirror_mode": {
    "name": "ipython",
    "version": 3
   },
   "file_extension": ".py",
   "mimetype": "text/x-python",
   "name": "python",
   "nbconvert_exporter": "python",
   "pygments_lexer": "ipython3",
   "version": "3.9.7"
  }
 },
 "nbformat": 4,
 "nbformat_minor": 5
}
