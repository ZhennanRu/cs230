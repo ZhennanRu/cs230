{
 "cells": [
  {
   "cell_type": "code",
   "execution_count": 1,
   "id": "bfc4a234",
   "metadata": {},
   "outputs": [],
   "source": [
    "import numpy as np\n",
    "import pandas as pd\n",
    "import os\n",
    "from matplotlib import pyplot as plt\n",
    "import random\n",
    "import tensorflow as tf\n",
    "from tensorflow import keras\n",
    "import keras.layers as tfl\n",
    "from keras.models import Sequential\n",
    "from tensorflow import keras\n",
    "import seaborn as sn"
   ]
  },
  {
   "cell_type": "code",
   "execution_count": 2,
   "id": "45ee0a1a",
   "metadata": {},
   "outputs": [],
   "source": [
    "# All mfcc data are contained in numpy_datas, which is a list. \n",
    "# The each entry of the list is another list consistes of [mfccs, file name]\n",
    "MFCCs_DATA = \"MFCCsData2\"\n",
    "numpy_datas = []\n",
    "\n",
    "dirlist = os.listdir(MFCCs_DATA)\n",
    "for d in dirlist:\n",
    "    d = os.path.join(MFCCs_DATA, d)\n",
    "    datalist = os.listdir(d)\n",
    "    datalist = [[np.load(os.path.join(d,x)), os.path.join(d,x)] for x in datalist]\n",
    "    numpy_datas.extend(datalist)"
   ]
  },
  {
   "cell_type": "code",
   "execution_count": 3,
   "id": "75cdeba6",
   "metadata": {},
   "outputs": [
    {
     "data": {
      "text/plain": [
       "1841"
      ]
     },
     "execution_count": 3,
     "metadata": {},
     "output_type": "execute_result"
    }
   ],
   "source": [
    "# find the max size of mfcc and use it to reshape all mfccs into the same shape\n",
    "mfcc_size = []\n",
    "for i in range(len(numpy_datas)):\n",
    "    mfcc_size.append(numpy_datas[i][0].shape[1])\n",
    "max(mfcc_size)"
   ]
  },
  {
   "cell_type": "code",
   "execution_count": 4,
   "id": "cd92db82",
   "metadata": {},
   "outputs": [],
   "source": [
    "# resize into (19,1841) and flatten into (19*1841,1)\n",
    "for i in range(len(numpy_datas)):\n",
    "    numpy_datas[i][0] = np.resize(np.resize(numpy_datas[i][0], (19,1841)), (19*1841,1))"
   ]
  },
  {
   "cell_type": "code",
   "execution_count": 5,
   "id": "29acc793",
   "metadata": {},
   "outputs": [
    {
     "data": {
      "text/plain": [
       "(34979, 1)"
      ]
     },
     "execution_count": 5,
     "metadata": {},
     "output_type": "execute_result"
    }
   ],
   "source": [
    "numpy_datas[i][0].shape"
   ]
  },
  {
   "cell_type": "code",
   "execution_count": 6,
   "id": "1154914e",
   "metadata": {},
   "outputs": [],
   "source": [
    "# change file name to correct label\n",
    "angry = []\n",
    "happy = []\n",
    "normal = []\n",
    "\n",
    "for i in range(len(numpy_datas)):\n",
    "    file_name = numpy_datas[i][1]\n",
    "    if \"angry\" in file_name:\n",
    "        numpy_datas[i][1] = np.array([1,0,0])\n",
    "        angry.append(numpy_datas[i])\n",
    "    elif \"happy\" in file_name:\n",
    "        numpy_datas[i][1] = np.array([0,1,0])\n",
    "        happy.append(numpy_datas[i])\n",
    "    else:\n",
    "        numpy_datas[i][1] = np.array([0,0,1])\n",
    "        normal.append(numpy_datas[i])"
   ]
  },
  {
   "cell_type": "code",
   "execution_count": 7,
   "id": "19ce2f3e",
   "metadata": {},
   "outputs": [],
   "source": [
    "# first shuffle the list of each emotion\n",
    "random.shuffle(angry)\n",
    "random.shuffle(happy)\n",
    "random.shuffle(normal)"
   ]
  },
  {
   "cell_type": "code",
   "execution_count": 8,
   "id": "7f2570b5",
   "metadata": {},
   "outputs": [],
   "source": [
    "# then select the first 180 in each emotion as train data, first 60 in each emotion as valid data, and first 60 in each emotion as test data\n",
    "train_data = angry[:int(len(angry)*0.6)] + happy[:int(len(happy)*0.6)] + normal[:int(len(normal)*0.6)]\n",
    "valid_data = angry[int(len(angry)*0.6):int(len(angry)*(0.6+0.2))] + happy[int(len(happy)*0.6):int(len(happy)*(0.6+0.2))] + normal[int(len(normal)*0.6):int(len(normal)*(0.6+0.2))]\n",
    "test_data = angry[int(len(angry)*(0.6+0.2)):] + happy[int(len(happy)*(0.6+0.2)):] + normal[int(len(normal)*(0.6+0.2)):]\n",
    "random.shuffle(train_data)\n",
    "random.shuffle(valid_data)\n",
    "random.shuffle(test_data)"
   ]
  },
  {
   "cell_type": "code",
   "execution_count": 9,
   "id": "11d53a19",
   "metadata": {},
   "outputs": [],
   "source": [
    "# train, valid, test data are all in list consistes of [mfccs, file name]\n",
    "# want to change the list to two outputs:\n",
    "# X: vector of mfccs\n",
    "# Y: vector of labels\n",
    "def data2vector(data):\n",
    "    X = []\n",
    "    Y = []\n",
    "    for i in range(len(data)):\n",
    "        X.append(data[i][0])\n",
    "        Y.append(data[i][1])\n",
    "    X = np.array(X)\n",
    "    Y = np.array(Y)\n",
    "    return X,Y"
   ]
  },
  {
   "cell_type": "code",
   "execution_count": 10,
   "id": "0af35c31",
   "metadata": {},
   "outputs": [],
   "source": [
    "X_train, Y_train = data2vector(train_data)\n",
    "X_valid, Y_valid = data2vector(valid_data)\n",
    "X_test, Y_test = data2vector(test_data)\n",
    "\n",
    "# calcualte mean and standard deviation\n",
    "X_train_miu = np.average(X_train, axis=0)\n",
    "X_train_std = np.std(X_train, axis=0)\n",
    "\n",
    "# normalization\n",
    "X_train_norm = (X_train - X_train_miu)/X_train_std\n",
    "X_valid_norm = (X_valid - X_train_miu)/X_train_std\n",
    "X_test_norm = (X_test - X_train_miu)/X_train_std"
   ]
  },
  {
   "cell_type": "code",
   "execution_count": 11,
   "id": "65604023",
   "metadata": {},
   "outputs": [],
   "source": [
    "# convert array to tensor\n",
    "X_train_norm = tf.convert_to_tensor(X_train_norm)\n",
    "X_valid_norm = tf.convert_to_tensor(X_valid_norm)\n",
    "X_test_norm = tf.convert_to_tensor(X_test_norm)\n",
    "Y_train = tf.convert_to_tensor(Y_train)\n",
    "Y_valid = tf.convert_to_tensor(Y_valid)\n",
    "Y_test = tf.convert_to_tensor(Y_test)"
   ]
  },
  {
   "cell_type": "markdown",
   "id": "e02d7b2f",
   "metadata": {},
   "source": [
    "Now we build a 3 layer neuronetwork: linear -> relu -> linear -> relu -> linear -> softmax"
   ]
  },
  {
   "cell_type": "code",
   "execution_count": 12,
   "id": "5843650f",
   "metadata": {},
   "outputs": [],
   "source": [
    "dnn_model = Sequential()\n",
    "dnn_model.add(tfl.Dense(16, input_shape=(1841*19,), activation='sigmoid',\n",
    "                        kernel_initializer='glorot_normal', bias_initializer='zeros', \n",
    "                        activity_regularizer=tf.keras.regularizers.L2(0.4)\n",
    "                       )\n",
    "             )\n",
    "dnn_model.add(tfl.ReLU())\n",
    "dnn_model.add(tfl.BatchNormalization())\n",
    "dnn_model.add(tfl.Dense(8, activation='sigmoid',\n",
    "                        kernel_initializer='glorot_normal', bias_initializer='zeros', \n",
    "                        activity_regularizer=tf.keras.regularizers.L2(0.4)\n",
    "                       )\n",
    "             )\n",
    "dnn_model.add(tfl.ReLU())\n",
    "dnn_model.add(tfl.BatchNormalization())\n",
    "dnn_model.add(tfl.Dense(3,\n",
    "                        kernel_initializer='glorot_normal', bias_initializer='zeros',\n",
    "                        activity_regularizer=tf.keras.regularizers.L2(0.4)\n",
    "                       )\n",
    "             )"
   ]
  },
  {
   "cell_type": "code",
   "execution_count": 13,
   "id": "3a2bacbf",
   "metadata": {},
   "outputs": [
    {
     "name": "stdout",
     "output_type": "stream",
     "text": [
      "Model: \"sequential\"\n",
      "_________________________________________________________________\n",
      " Layer (type)                Output Shape              Param #   \n",
      "=================================================================\n",
      " dense (Dense)               (None, 16)                559680    \n",
      "                                                                 \n",
      " re_lu (ReLU)                (None, 16)                0         \n",
      "                                                                 \n",
      " batch_normalization (BatchN  (None, 16)               64        \n",
      " ormalization)                                                   \n",
      "                                                                 \n",
      " dense_1 (Dense)             (None, 8)                 136       \n",
      "                                                                 \n",
      " re_lu_1 (ReLU)              (None, 8)                 0         \n",
      "                                                                 \n",
      " batch_normalization_1 (Batc  (None, 8)                32        \n",
      " hNormalization)                                                 \n",
      "                                                                 \n",
      " dense_2 (Dense)             (None, 3)                 27        \n",
      "                                                                 \n",
      "=================================================================\n",
      "Total params: 559,939\n",
      "Trainable params: 559,891\n",
      "Non-trainable params: 48\n",
      "_________________________________________________________________\n"
     ]
    }
   ],
   "source": [
    "opt = keras.optimizers.Adam(learning_rate=0.00001)\n",
    "dnn_model.compile(optimizer=opt,\n",
    "                  loss='categorical_crossentropy',\n",
    "                  metrics=['accuracy'])\n",
    "dnn_model.summary()"
   ]
  },
  {
   "cell_type": "code",
   "execution_count": 14,
   "id": "08aab98e",
   "metadata": {},
   "outputs": [
    {
     "name": "stdout",
     "output_type": "stream",
     "text": [
      "Epoch 1/100\n",
      "17/17 [==============================] - 9s 46ms/step - loss: 10.7511 - accuracy: 0.3704 - val_loss: 6.0891 - val_accuracy: 0.3778\n",
      "Epoch 2/100\n",
      "17/17 [==============================] - 0s 18ms/step - loss: 10.2096 - accuracy: 0.3500 - val_loss: 7.3812 - val_accuracy: 0.3778\n",
      "Epoch 3/100\n",
      "17/17 [==============================] - 0s 18ms/step - loss: 9.8343 - accuracy: 0.3315 - val_loss: 8.7864 - val_accuracy: 0.3611\n",
      "Epoch 4/100\n",
      "17/17 [==============================] - 0s 18ms/step - loss: 9.5338 - accuracy: 0.3315 - val_loss: 8.4152 - val_accuracy: 0.3611\n",
      "Epoch 5/100\n",
      "17/17 [==============================] - 0s 21ms/step - loss: 9.6423 - accuracy: 0.3407 - val_loss: 8.7072 - val_accuracy: 0.3389\n",
      "Epoch 6/100\n",
      "17/17 [==============================] - 0s 19ms/step - loss: 9.0519 - accuracy: 0.3370 - val_loss: 8.7748 - val_accuracy: 0.3444\n",
      "Epoch 7/100\n",
      "17/17 [==============================] - 0s 17ms/step - loss: 9.0011 - accuracy: 0.3593 - val_loss: 9.2823 - val_accuracy: 0.3444\n",
      "Epoch 8/100\n",
      "17/17 [==============================] - 0s 18ms/step - loss: 8.8421 - accuracy: 0.3296 - val_loss: 9.1835 - val_accuracy: 0.3222\n",
      "Epoch 9/100\n",
      "17/17 [==============================] - 0s 18ms/step - loss: 8.8237 - accuracy: 0.3148 - val_loss: 9.3709 - val_accuracy: 0.3333\n",
      "Epoch 10/100\n",
      "17/17 [==============================] - 0s 18ms/step - loss: 9.0120 - accuracy: 0.3204 - val_loss: 9.0004 - val_accuracy: 0.3389\n",
      "Epoch 11/100\n",
      "17/17 [==============================] - 0s 19ms/step - loss: 8.4916 - accuracy: 0.3296 - val_loss: 8.7444 - val_accuracy: 0.3500\n",
      "Epoch 12/100\n",
      "17/17 [==============================] - 0s 18ms/step - loss: 8.4810 - accuracy: 0.3352 - val_loss: 8.9790 - val_accuracy: 0.3444\n",
      "Epoch 13/100\n",
      "17/17 [==============================] - 0s 18ms/step - loss: 8.7750 - accuracy: 0.3241 - val_loss: 9.0568 - val_accuracy: 0.3278\n",
      "Epoch 14/100\n",
      "17/17 [==============================] - 0s 18ms/step - loss: 8.0566 - accuracy: 0.3241 - val_loss: 9.0581 - val_accuracy: 0.3389\n",
      "Epoch 15/100\n",
      "17/17 [==============================] - 0s 20ms/step - loss: 8.2431 - accuracy: 0.3370 - val_loss: 9.1407 - val_accuracy: 0.3222\n",
      "Epoch 16/100\n",
      "17/17 [==============================] - 0s 21ms/step - loss: 8.3198 - accuracy: 0.3111 - val_loss: 8.8792 - val_accuracy: 0.3278\n",
      "Epoch 17/100\n",
      "17/17 [==============================] - 0s 20ms/step - loss: 7.9560 - accuracy: 0.3278 - val_loss: 8.9508 - val_accuracy: 0.3278\n",
      "Epoch 18/100\n",
      "17/17 [==============================] - 0s 22ms/step - loss: 8.0370 - accuracy: 0.3111 - val_loss: 8.4630 - val_accuracy: 0.3278\n",
      "Epoch 19/100\n",
      "17/17 [==============================] - 0s 24ms/step - loss: 8.1253 - accuracy: 0.2944 - val_loss: 8.4301 - val_accuracy: 0.3167\n",
      "Epoch 20/100\n",
      "17/17 [==============================] - 0s 24ms/step - loss: 7.9545 - accuracy: 0.3037 - val_loss: 8.4753 - val_accuracy: 0.3167\n",
      "Epoch 21/100\n",
      "17/17 [==============================] - 0s 24ms/step - loss: 7.5361 - accuracy: 0.2963 - val_loss: 8.5132 - val_accuracy: 0.3333\n",
      "Epoch 22/100\n",
      "17/17 [==============================] - 0s 21ms/step - loss: 7.6087 - accuracy: 0.3222 - val_loss: 8.6294 - val_accuracy: 0.3278\n",
      "Epoch 23/100\n",
      "17/17 [==============================] - 1s 46ms/step - loss: 8.0746 - accuracy: 0.3296 - val_loss: 8.6892 - val_accuracy: 0.3222\n",
      "Epoch 24/100\n",
      "17/17 [==============================] - 0s 28ms/step - loss: 7.9212 - accuracy: 0.3278 - val_loss: 8.6385 - val_accuracy: 0.3167\n",
      "Epoch 25/100\n",
      "17/17 [==============================] - 0s 23ms/step - loss: 7.5354 - accuracy: 0.3259 - val_loss: 8.6853 - val_accuracy: 0.3167\n",
      "Epoch 26/100\n",
      "17/17 [==============================] - 0s 24ms/step - loss: 7.5917 - accuracy: 0.3333 - val_loss: 8.6743 - val_accuracy: 0.3333\n",
      "Epoch 27/100\n",
      "17/17 [==============================] - 0s 23ms/step - loss: 7.7334 - accuracy: 0.3426 - val_loss: 8.9797 - val_accuracy: 0.3056\n",
      "Epoch 28/100\n",
      "17/17 [==============================] - 0s 21ms/step - loss: 7.3994 - accuracy: 0.3426 - val_loss: 8.9257 - val_accuracy: 0.3333\n",
      "Epoch 29/100\n",
      "17/17 [==============================] - 0s 22ms/step - loss: 7.3870 - accuracy: 0.3389 - val_loss: 8.9889 - val_accuracy: 0.3167\n",
      "Epoch 30/100\n",
      "17/17 [==============================] - 0s 23ms/step - loss: 7.7954 - accuracy: 0.3241 - val_loss: 9.1934 - val_accuracy: 0.3222\n",
      "Epoch 31/100\n",
      "17/17 [==============================] - 0s 20ms/step - loss: 7.7700 - accuracy: 0.3185 - val_loss: 9.1942 - val_accuracy: 0.3278\n",
      "Epoch 32/100\n",
      "17/17 [==============================] - 0s 20ms/step - loss: 7.2489 - accuracy: 0.3519 - val_loss: 9.2939 - val_accuracy: 0.3222\n",
      "Epoch 33/100\n",
      "17/17 [==============================] - 0s 19ms/step - loss: 7.1943 - accuracy: 0.3259 - val_loss: 9.4669 - val_accuracy: 0.3556\n",
      "Epoch 34/100\n",
      "17/17 [==============================] - 0s 20ms/step - loss: 7.2863 - accuracy: 0.3259 - val_loss: 9.1899 - val_accuracy: 0.3611\n",
      "Epoch 35/100\n",
      "17/17 [==============================] - 0s 20ms/step - loss: 7.3899 - accuracy: 0.3074 - val_loss: 9.4371 - val_accuracy: 0.3667\n",
      "Epoch 36/100\n",
      "17/17 [==============================] - 0s 19ms/step - loss: 6.9106 - accuracy: 0.3167 - val_loss: 9.4379 - val_accuracy: 0.3556\n",
      "Epoch 37/100\n",
      "17/17 [==============================] - 0s 23ms/step - loss: 7.5402 - accuracy: 0.3444 - val_loss: 9.5619 - val_accuracy: 0.3556\n",
      "Epoch 38/100\n",
      "17/17 [==============================] - 0s 24ms/step - loss: 7.3996 - accuracy: 0.3315 - val_loss: 9.4619 - val_accuracy: 0.3500\n",
      "Epoch 39/100\n",
      "17/17 [==============================] - 0s 21ms/step - loss: 7.3911 - accuracy: 0.3407 - val_loss: 9.7786 - val_accuracy: 0.3556\n",
      "Epoch 40/100\n",
      "17/17 [==============================] - 0s 21ms/step - loss: 6.8725 - accuracy: 0.3463 - val_loss: 9.9719 - val_accuracy: 0.3389\n",
      "Epoch 41/100\n",
      "17/17 [==============================] - 0s 19ms/step - loss: 7.1414 - accuracy: 0.3463 - val_loss: 9.9543 - val_accuracy: 0.3278\n",
      "Epoch 42/100\n",
      "17/17 [==============================] - 0s 18ms/step - loss: 7.0362 - accuracy: 0.3463 - val_loss: 9.8543 - val_accuracy: 0.3333\n",
      "Epoch 43/100\n",
      "17/17 [==============================] - 0s 20ms/step - loss: 6.8022 - accuracy: 0.3278 - val_loss: 9.8477 - val_accuracy: 0.3222\n",
      "Epoch 44/100\n",
      "17/17 [==============================] - 0s 20ms/step - loss: 6.7630 - accuracy: 0.3574 - val_loss: 9.6543 - val_accuracy: 0.3278\n",
      "Epoch 45/100\n",
      "17/17 [==============================] - 0s 19ms/step - loss: 6.9379 - accuracy: 0.3611 - val_loss: 9.5719 - val_accuracy: 0.3389\n",
      "Epoch 46/100\n",
      "17/17 [==============================] - 0s 21ms/step - loss: 7.1109 - accuracy: 0.3519 - val_loss: 9.9144 - val_accuracy: 0.3111\n",
      "Epoch 47/100\n",
      "17/17 [==============================] - 0s 22ms/step - loss: 6.8204 - accuracy: 0.3574 - val_loss: 9.7644 - val_accuracy: 0.3167\n",
      "Epoch 48/100\n",
      "17/17 [==============================] - 0s 20ms/step - loss: 6.7134 - accuracy: 0.3574 - val_loss: 9.8677 - val_accuracy: 0.3111\n",
      "Epoch 49/100\n",
      "17/17 [==============================] - 0s 20ms/step - loss: 7.1872 - accuracy: 0.3593 - val_loss: 9.8123 - val_accuracy: 0.3222\n",
      "Epoch 50/100\n",
      "17/17 [==============================] - 0s 21ms/step - loss: 7.0050 - accuracy: 0.3519 - val_loss: 9.9681 - val_accuracy: 0.3333\n",
      "Epoch 51/100\n",
      "17/17 [==============================] - 0s 21ms/step - loss: 7.0683 - accuracy: 0.3537 - val_loss: 9.4427 - val_accuracy: 0.3500\n",
      "Epoch 52/100\n",
      "17/17 [==============================] - 0s 19ms/step - loss: 7.0172 - accuracy: 0.3778 - val_loss: 9.7150 - val_accuracy: 0.3667\n",
      "Epoch 53/100\n",
      "17/17 [==============================] - 0s 22ms/step - loss: 6.8539 - accuracy: 0.3667 - val_loss: 9.7171 - val_accuracy: 0.3611\n",
      "Epoch 54/100\n",
      "17/17 [==============================] - 0s 19ms/step - loss: 7.4711 - accuracy: 0.3667 - val_loss: 9.6464 - val_accuracy: 0.3611\n",
      "Epoch 55/100\n",
      "17/17 [==============================] - 0s 21ms/step - loss: 6.6379 - accuracy: 0.3648 - val_loss: 9.8297 - val_accuracy: 0.3611\n",
      "Epoch 56/100\n",
      "17/17 [==============================] - 0s 20ms/step - loss: 6.5298 - accuracy: 0.3630 - val_loss: 9.8954 - val_accuracy: 0.3722\n",
      "Epoch 57/100\n",
      "17/17 [==============================] - 0s 20ms/step - loss: 6.8787 - accuracy: 0.3741 - val_loss: 9.5067 - val_accuracy: 0.3667\n",
      "Epoch 58/100\n",
      "17/17 [==============================] - 0s 23ms/step - loss: 7.6611 - accuracy: 0.3519 - val_loss: 9.6292 - val_accuracy: 0.3778\n",
      "Epoch 59/100\n",
      "17/17 [==============================] - 0s 21ms/step - loss: 7.8041 - accuracy: 0.3370 - val_loss: 9.6260 - val_accuracy: 0.3778\n",
      "Epoch 60/100\n",
      "17/17 [==============================] - 0s 20ms/step - loss: 7.4820 - accuracy: 0.3481 - val_loss: 9.5574 - val_accuracy: 0.3889\n",
      "Epoch 61/100\n",
      "17/17 [==============================] - 0s 19ms/step - loss: 7.3757 - accuracy: 0.3204 - val_loss: 9.5040 - val_accuracy: 0.3889\n",
      "Epoch 62/100\n",
      "17/17 [==============================] - 0s 20ms/step - loss: 7.2249 - accuracy: 0.3611 - val_loss: 9.3225 - val_accuracy: 0.3889\n",
      "Epoch 63/100\n",
      "17/17 [==============================] - 0s 23ms/step - loss: 7.2559 - accuracy: 0.3444 - val_loss: 9.2339 - val_accuracy: 0.3833\n",
      "Epoch 64/100\n",
      "17/17 [==============================] - 0s 19ms/step - loss: 7.0934 - accuracy: 0.3426 - val_loss: 9.3630 - val_accuracy: 0.3889\n",
      "Epoch 65/100\n",
      "17/17 [==============================] - 0s 19ms/step - loss: 7.2233 - accuracy: 0.3333 - val_loss: 9.3450 - val_accuracy: 0.3833\n",
      "Epoch 66/100\n",
      "17/17 [==============================] - 0s 17ms/step - loss: 7.0436 - accuracy: 0.3241 - val_loss: 9.3784 - val_accuracy: 0.3667\n",
      "Epoch 67/100\n",
      "17/17 [==============================] - 0s 17ms/step - loss: 7.2732 - accuracy: 0.3333 - val_loss: 9.7413 - val_accuracy: 0.3667\n",
      "Epoch 68/100\n",
      "17/17 [==============================] - 0s 18ms/step - loss: 7.3220 - accuracy: 0.3444 - val_loss: 9.7356 - val_accuracy: 0.3556\n",
      "Epoch 69/100\n",
      "17/17 [==============================] - 0s 17ms/step - loss: 7.6328 - accuracy: 0.3333 - val_loss: 9.6366 - val_accuracy: 0.3556\n",
      "Epoch 70/100\n",
      "17/17 [==============================] - 0s 18ms/step - loss: 7.4633 - accuracy: 0.3278 - val_loss: 9.4848 - val_accuracy: 0.3611\n",
      "Epoch 71/100\n",
      "17/17 [==============================] - 0s 18ms/step - loss: 7.2501 - accuracy: 0.3481 - val_loss: 9.5616 - val_accuracy: 0.3500\n",
      "Epoch 72/100\n",
      "17/17 [==============================] - 0s 19ms/step - loss: 7.2975 - accuracy: 0.3352 - val_loss: 9.4742 - val_accuracy: 0.3500\n",
      "Epoch 73/100\n",
      "17/17 [==============================] - 0s 18ms/step - loss: 6.8226 - accuracy: 0.3667 - val_loss: 9.2613 - val_accuracy: 0.3556\n",
      "Epoch 74/100\n",
      "17/17 [==============================] - 0s 17ms/step - loss: 7.0393 - accuracy: 0.3370 - val_loss: 9.3076 - val_accuracy: 0.3556\n",
      "Epoch 75/100\n",
      "17/17 [==============================] - 0s 18ms/step - loss: 7.0590 - accuracy: 0.3500 - val_loss: 9.3318 - val_accuracy: 0.3722\n",
      "Epoch 76/100\n",
      "17/17 [==============================] - 0s 17ms/step - loss: 6.8166 - accuracy: 0.3667 - val_loss: 9.2792 - val_accuracy: 0.3722\n",
      "Epoch 77/100\n",
      "17/17 [==============================] - 0s 17ms/step - loss: 7.0125 - accuracy: 0.3685 - val_loss: 8.9557 - val_accuracy: 0.3778\n",
      "Epoch 78/100\n",
      "17/17 [==============================] - 0s 17ms/step - loss: 7.1088 - accuracy: 0.3481 - val_loss: 9.0903 - val_accuracy: 0.3778\n",
      "Epoch 79/100\n",
      "17/17 [==============================] - 0s 18ms/step - loss: 6.6976 - accuracy: 0.3722 - val_loss: 9.0869 - val_accuracy: 0.3833\n",
      "Epoch 80/100\n",
      "17/17 [==============================] - 0s 18ms/step - loss: 6.9094 - accuracy: 0.3778 - val_loss: 9.2673 - val_accuracy: 0.3889\n",
      "Epoch 81/100\n",
      "17/17 [==============================] - 0s 18ms/step - loss: 6.6644 - accuracy: 0.3593 - val_loss: 9.2429 - val_accuracy: 0.3833\n",
      "Epoch 82/100\n",
      "17/17 [==============================] - 0s 17ms/step - loss: 6.7558 - accuracy: 0.3870 - val_loss: 9.1276 - val_accuracy: 0.3944\n",
      "Epoch 83/100\n",
      "17/17 [==============================] - 0s 18ms/step - loss: 6.8787 - accuracy: 0.3796 - val_loss: 9.1797 - val_accuracy: 0.3833\n",
      "Epoch 84/100\n",
      "17/17 [==============================] - 0s 18ms/step - loss: 6.5010 - accuracy: 0.3759 - val_loss: 9.1621 - val_accuracy: 0.3778\n",
      "Epoch 85/100\n",
      "17/17 [==============================] - 0s 18ms/step - loss: 6.8271 - accuracy: 0.3778 - val_loss: 9.1590 - val_accuracy: 0.3778\n",
      "Epoch 86/100\n",
      "17/17 [==============================] - 0s 18ms/step - loss: 6.9491 - accuracy: 0.3815 - val_loss: 9.2517 - val_accuracy: 0.3778\n",
      "Epoch 87/100\n",
      "17/17 [==============================] - 0s 18ms/step - loss: 6.6003 - accuracy: 0.3944 - val_loss: 9.1771 - val_accuracy: 0.3722\n",
      "Epoch 88/100\n",
      "17/17 [==============================] - 0s 18ms/step - loss: 6.9155 - accuracy: 0.3907 - val_loss: 9.3299 - val_accuracy: 0.3722\n",
      "Epoch 89/100\n",
      "17/17 [==============================] - 0s 17ms/step - loss: 6.4354 - accuracy: 0.3722 - val_loss: 9.2127 - val_accuracy: 0.3833\n",
      "Epoch 90/100\n",
      "17/17 [==============================] - 0s 17ms/step - loss: 6.6710 - accuracy: 0.3778 - val_loss: 9.0402 - val_accuracy: 0.4000\n",
      "Epoch 91/100\n",
      "17/17 [==============================] - 0s 17ms/step - loss: 6.3802 - accuracy: 0.3981 - val_loss: 8.5123 - val_accuracy: 0.3778\n",
      "Epoch 92/100\n",
      "17/17 [==============================] - 0s 18ms/step - loss: 6.5655 - accuracy: 0.3926 - val_loss: 8.4863 - val_accuracy: 0.3611\n",
      "Epoch 93/100\n",
      "17/17 [==============================] - 0s 17ms/step - loss: 6.9033 - accuracy: 0.3667 - val_loss: 8.4327 - val_accuracy: 0.3611\n",
      "Epoch 94/100\n",
      "17/17 [==============================] - 0s 18ms/step - loss: 6.5696 - accuracy: 0.3926 - val_loss: 8.5776 - val_accuracy: 0.3667\n",
      "Epoch 95/100\n",
      "17/17 [==============================] - 0s 18ms/step - loss: 6.7794 - accuracy: 0.3796 - val_loss: 8.4917 - val_accuracy: 0.3722\n",
      "Epoch 96/100\n",
      "17/17 [==============================] - 0s 18ms/step - loss: 6.9162 - accuracy: 0.3815 - val_loss: 8.4941 - val_accuracy: 0.3722\n",
      "Epoch 97/100\n",
      "17/17 [==============================] - 0s 18ms/step - loss: 6.8467 - accuracy: 0.3778 - val_loss: 8.3484 - val_accuracy: 0.3667\n",
      "Epoch 98/100\n",
      "17/17 [==============================] - 0s 18ms/step - loss: 6.4253 - accuracy: 0.3981 - val_loss: 8.5069 - val_accuracy: 0.3889\n",
      "Epoch 99/100\n",
      "17/17 [==============================] - 0s 19ms/step - loss: 6.7229 - accuracy: 0.4056 - val_loss: 8.6922 - val_accuracy: 0.3889\n",
      "Epoch 100/100\n",
      "17/17 [==============================] - 0s 18ms/step - loss: 6.4442 - accuracy: 0.3778 - val_loss: 8.6331 - val_accuracy: 0.3833\n"
     ]
    }
   ],
   "source": [
    "history = dnn_model.fit(X_train_norm, Y_train, epochs=100, validation_data=(X_valid_norm, Y_valid))"
   ]
  },
  {
   "cell_type": "code",
   "execution_count": 15,
   "id": "bcb1f230",
   "metadata": {},
   "outputs": [
    {
     "name": "stderr",
     "output_type": "stream",
     "text": [
      "E:\\Anaconda3\\lib\\site-packages\\pandas\\core\\frame.py:5039: SettingWithCopyWarning: \n",
      "A value is trying to be set on a copy of a slice from a DataFrame\n",
      "\n",
      "See the caveats in the documentation: https://pandas.pydata.org/pandas-docs/stable/user_guide/indexing.html#returning-a-view-versus-a-copy\n",
      "  return super().rename(\n"
     ]
    },
    {
     "data": {
      "text/plain": [
       "[Text(0.5, 0, 'Epoch'), Text(0, 0.5, 'Accuracy')]"
      ]
     },
     "execution_count": 15,
     "metadata": {},
     "output_type": "execute_result"
    },
    {
     "data": {
      "image/png": "[encoded data removed]",
      "text/plain": [
       "<Figure size 432x288 with 1 Axes>"
      ]
     },
     "metadata": {
      "needs_background": "light"
     },
     "output_type": "display_data"
    },
    {
     "data": {
      "image/png": "[encoded data removed]",
      "text/plain": [
       "<Figure size 432x288 with 1 Axes>"
      ]
     },
     "metadata": {
      "needs_background": "light"
     },
     "output_type": "display_data"
    }
   ],
   "source": [
    "df_loss_acc = pd.DataFrame(history.history)\n",
    "df_loss= df_loss_acc[['loss','val_loss']]\n",
    "df_loss.rename(columns={'loss':'train','val_loss':'validation'},inplace=True)\n",
    "df_acc= df_loss_acc[['accuracy','val_accuracy']]\n",
    "df_acc.rename(columns={'accuracy':'train','val_accuracy':'validation'},inplace=True)\n",
    "df_loss.plot(title='Model loss',figsize=(6,4)).set(xlabel='Epoch',ylabel='Loss')\n",
    "df_acc.plot(title='Model Accuracy',figsize=(6,4)).set(xlabel='Epoch',ylabel='Accuracy')"
   ]
  },
  {
   "cell_type": "code",
   "execution_count": 16,
   "id": "57cec72b",
   "metadata": {},
   "outputs": [
    {
     "name": "stdout",
     "output_type": "stream",
     "text": [
      "6/6 [==============================] - 1s 4ms/step\n"
     ]
    },
    {
     "data": {
      "text/plain": [
       "[Text(0.5, 15.0, 'prediction'), Text(33.0, 0.5, 'actual')]"
      ]
     },
     "execution_count": 16,
     "metadata": {},
     "output_type": "execute_result"
    },
    {
     "data": {
      "image/png": "[encoded data removed]",
      "text/plain": [
       "<Figure size 432x288 with 2 Axes>"
      ]
     },
     "metadata": {
      "needs_background": "light"
     },
     "output_type": "display_data"
    }
   ],
   "source": [
    "Y_pred = dnn_model.predict(X_test)\n",
    "Y_test_numpy = Y_test.numpy()\n",
    "emotion_pred = []\n",
    "emotion_test = []\n",
    "for i in range(len(Y_pred)):\n",
    "    if (Y_pred[i][0] > 0.5):\n",
    "        emotion_pred.append(0) # angry\n",
    "    elif (Y_pred[i][1] > 0.5):\n",
    "        emotion_pred.append(1) # happy\n",
    "    elif (Y_pred[i][2] > 0.5):\n",
    "        emotion_pred.append(2) # normal\n",
    "    else:\n",
    "        emotion_pred.append(3) # not decided\n",
    "\n",
    "    if (Y_test_numpy[i][0] > 0.5):\n",
    "        emotion_test.append(0)\n",
    "    elif (Y_test_numpy[i][1] > 0.5):\n",
    "        emotion_test.append(1)\n",
    "    elif (Y_test_numpy[i][2] > 0.5):\n",
    "        emotion_test.append(2)\n",
    "\n",
    "emotion_test = tf.convert_to_tensor(emotion_test)\n",
    "emotion_pred = tf.convert_to_tensor(emotion_pred)\n",
    "\n",
    "confusion = tf.math.confusion_matrix(emotion_test, emotion_pred, num_classes = 4)\n",
    "\n",
    "df=pd.DataFrame(confusion.numpy(),index=['angry', 'happy', 'normal', 'not sure'],columns=['angry', 'happy', 'normal', 'not sure'])\n",
    "confusiton_map = sn.heatmap(df,annot=True, cmap='crest')\n",
    "confusiton_map.set(xlabel=\"prediction\", ylabel=\"actual\")"
   ]
  },
  {
   "cell_type": "code",
   "execution_count": null,
   "id": "631a83f2",
   "metadata": {},
   "outputs": [],
   "source": []
  }
 ],
 "metadata": {
  "kernelspec": {
   "display_name": "Python 3 (ipykernel)",
   "language": "python",
   "name": "python3"
  },
  "language_info": {
   "codemirror_mode": {
    "name": "ipython",
    "version": 3
   },
   "file_extension": ".py",
   "mimetype": "text/x-python",
   "name": "python",
   "nbconvert_exporter": "python",
   "pygments_lexer": "ipython3",
   "version": "3.9.7"
  }
 },
 "nbformat": 4,
 "nbformat_minor": 5
}
