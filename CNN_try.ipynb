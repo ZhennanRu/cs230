{
 "cells": [
  {
   "cell_type": "code",
   "execution_count": 1,
   "id": "0e866cc9",
   "metadata": {},
   "outputs": [],
   "source": [
    "import numpy as np\n",
    "import pandas as pd\n",
    "import os\n",
    "from matplotlib import pyplot as plt\n",
    "import random\n",
    "import tensorflow as tf\n",
    "import tensorflow.keras.layers as tfl"
   ]
  },
  {
   "cell_type": "code",
   "execution_count": 2,
   "id": "371fd5d8",
   "metadata": {},
   "outputs": [],
   "source": [
    "# All mfcc data are contained in numpy_datas, which is a list. \n",
    "# The each entry of the list is another list consistes of [mfccs, file name]\n",
    "MFCCs_DATA = \"MFCCsData\"\n",
    "numpy_datas = []\n",
    "\n",
    "dirlist = os.listdir(MFCCs_DATA)\n",
    "for d in dirlist:\n",
    "    d = os.path.join(MFCCs_DATA, d)\n",
    "    datalist = os.listdir(d)\n",
    "    datalist = [[np.load(os.path.join(d,x)), os.path.join(d,x)] for x in datalist]\n",
    "    numpy_datas.extend(datalist)"
   ]
  },
  {
   "cell_type": "code",
   "execution_count": null,
   "id": "66b100ac",
   "metadata": {},
   "outputs": [],
   "source": [
    "numpy_datas[200][0].shape"
   ]
  },
  {
   "cell_type": "code",
   "execution_count": null,
   "id": "17a73c53",
   "metadata": {},
   "outputs": [],
   "source": [
    "numpy_datas[100][0].shape"
   ]
  },
  {
   "cell_type": "markdown",
   "id": "b65d00ac",
   "metadata": {},
   "source": [
    "Notice that the size of mfccs for each emotion file is different, need to resize the data into the same size"
   ]
  },
  {
   "cell_type": "code",
   "execution_count": 3,
   "id": "79082488",
   "metadata": {},
   "outputs": [],
   "source": [
    "# resize into (19,512) then transpose to (512,19) for CNN\n",
    "for i in range(len(numpy_datas)):\n",
    "    numpy_datas[i][0] = np.transpose(np.resize(numpy_datas[i][0], (19,512)))"
   ]
  },
  {
   "cell_type": "code",
   "execution_count": null,
   "id": "772682a1",
   "metadata": {},
   "outputs": [],
   "source": [
    "numpy_datas[200][0].shape"
   ]
  },
  {
   "cell_type": "code",
   "execution_count": null,
   "id": "31decb4e",
   "metadata": {},
   "outputs": [],
   "source": [
    "numpy_datas[100][0].shape"
   ]
  },
  {
   "cell_type": "markdown",
   "id": "e7c75f50",
   "metadata": {},
   "source": [
    "So now all data has the same shape"
   ]
  },
  {
   "cell_type": "markdown",
   "id": "bceeac46",
   "metadata": {},
   "source": [
    "Separate the data list according to the label. Change file name to correct label. [1,0,0] is angry, [0,1,0] is happy, [0,0,1] is normal."
   ]
  },
  {
   "cell_type": "code",
   "execution_count": 4,
   "id": "baeffd7a",
   "metadata": {},
   "outputs": [],
   "source": [
    "# change file name to correct label\n",
    "angry = []\n",
    "happy = []\n",
    "normal = []\n",
    "\n",
    "for i in range(len(numpy_datas)):\n",
    "    file_name = numpy_datas[i][1]\n",
    "    if \"angry\" in file_name:\n",
    "        numpy_datas[i][1] = np.array([1,0,0])\n",
    "        angry.append(numpy_datas[i])\n",
    "    elif \"happy\" in file_name:\n",
    "        numpy_datas[i][1] = np.array([0,1,0])\n",
    "        happy.append(numpy_datas[i])\n",
    "    else:\n",
    "        numpy_datas[i][1] = np.array([0,0,1])\n",
    "        normal.append(numpy_datas[i])"
   ]
  },
  {
   "cell_type": "markdown",
   "id": "3326e093",
   "metadata": {},
   "source": [
    "Now split the Train-Valid-Test data with a ratio of 60%-20%-20%"
   ]
  },
  {
   "cell_type": "code",
   "execution_count": 5,
   "id": "d93804f9",
   "metadata": {},
   "outputs": [],
   "source": [
    "# first shuffle the list of each emotion\n",
    "random.shuffle(angry)\n",
    "random.shuffle(happy)\n",
    "random.shuffle(normal)"
   ]
  },
  {
   "cell_type": "code",
   "execution_count": 6,
   "id": "75d05444",
   "metadata": {},
   "outputs": [],
   "source": [
    "# then select the first 180 in each emotion as train data, first 60 in each emotion as valid data, and first 60 in each emotion as test data\n",
    "train_data = angry[:int(len(angry)*0.6)] + happy[:int(len(happy)*0.6)] + normal[:int(len(normal)*0.6)]\n",
    "valid_data = angry[int(len(angry)*0.6):int(len(angry)*(0.6+0.2))] + happy[int(len(happy)*0.6):int(len(happy)*(0.6+0.2))] + normal[int(len(normal)*0.6):int(len(normal)*(0.6+0.2))]\n",
    "test_data = angry[int(len(angry)*(0.6+0.2)):] + happy[int(len(happy)*(0.6+0.2)):] + normal[int(len(normal)*(0.6+0.2)):]\n",
    "random.shuffle(train_data)\n",
    "random.shuffle(valid_data)\n",
    "random.shuffle(test_data)"
   ]
  },
  {
   "cell_type": "code",
   "execution_count": 7,
   "id": "cc77c7e6",
   "metadata": {},
   "outputs": [],
   "source": [
    "# train, valid, test data are all in list consistes of [mfccs, file name]\n",
    "# want to change the list to two outputs:\n",
    "# X: vector of mfccs\n",
    "# Y: vector of labels\n",
    "def data2vector(data):\n",
    "    X = []\n",
    "    Y = []\n",
    "    for i in range(len(data)):\n",
    "        X.append(data[i][0])\n",
    "        Y.append(data[i][1])\n",
    "    X = np.array(X)\n",
    "    Y = np.array(Y)\n",
    "    return X,Y"
   ]
  },
  {
   "cell_type": "code",
   "execution_count": 8,
   "id": "c123ad9e",
   "metadata": {},
   "outputs": [],
   "source": [
    "X_train, Y_train = data2vector(train_data)"
   ]
  },
  {
   "cell_type": "code",
   "execution_count": null,
   "id": "bb03b792",
   "metadata": {},
   "outputs": [],
   "source": [
    "print(X_train.shape)\n",
    "print(Y_train.shape)"
   ]
  },
  {
   "cell_type": "code",
   "execution_count": 9,
   "id": "e439ec98",
   "metadata": {},
   "outputs": [],
   "source": [
    "X_valid, Y_valid = data2vector(valid_data)\n",
    "X_test, Y_test = data2vector(test_data)"
   ]
  },
  {
   "cell_type": "markdown",
   "id": "6c3bf5e3",
   "metadata": {},
   "source": [
    "Now let's do normalization, by the value of train data"
   ]
  },
  {
   "cell_type": "code",
   "execution_count": 10,
   "id": "8fadd600",
   "metadata": {},
   "outputs": [],
   "source": [
    "X_train_miu = np.average(X_train, axis=0)\n",
    "X_train_std = np.std(X_train, axis=0)"
   ]
  },
  {
   "cell_type": "code",
   "execution_count": null,
   "id": "741e79fb",
   "metadata": {},
   "outputs": [],
   "source": [
    "print(X_train_miu.shape)\n",
    "print(X_train_std.shape)"
   ]
  },
  {
   "cell_type": "code",
   "execution_count": null,
   "id": "cafeff88",
   "metadata": {},
   "outputs": [],
   "source": [
    "print(np.average(X_train, axis=0).shape)"
   ]
  },
  {
   "cell_type": "code",
   "execution_count": 11,
   "id": "0bc3e707",
   "metadata": {},
   "outputs": [],
   "source": [
    "X_train_norm = (X_train - X_train_miu)/X_train_std\n",
    "X_valid_norm = (X_valid - X_train_miu)/X_train_std\n",
    "X_test_norm = (X_test - X_train_miu)/X_train_std"
   ]
  },
  {
   "cell_type": "code",
   "execution_count": 12,
   "id": "200a9022",
   "metadata": {},
   "outputs": [],
   "source": [
    "# convert array to tensor\n",
    "X_train_norm = tf.convert_to_tensor(X_train_norm)\n",
    "X_valid_norm = tf.convert_to_tensor(X_valid_norm)\n",
    "X_test_norm = tf.convert_to_tensor(X_test_norm)\n",
    "Y_train = tf.convert_to_tensor(Y_train)\n",
    "Y_valid = tf.convert_to_tensor(Y_valid)\n",
    "Y_test = tf.convert_to_tensor(Y_test)"
   ]
  },
  {
   "cell_type": "code",
   "execution_count": null,
   "id": "1c3f6d18",
   "metadata": {},
   "outputs": [],
   "source": [
    "print(X_train_norm.shape)"
   ]
  },
  {
   "cell_type": "code",
   "execution_count": null,
   "id": "1ec83fbd",
   "metadata": {},
   "outputs": [],
   "source": [
    "# flatten the shape\n",
    "#X_train_norm_flat = tf.reshape(X_train_norm, [540, -1])\n",
    "#X_valid_norm_flat = tf.reshape(X_valid_norm, [180, -1])\n",
    "#X_test_norm_flat = tf.reshape(X_test_norm, [180, -1])"
   ]
  },
  {
   "cell_type": "code",
   "execution_count": 39,
   "id": "809898c3",
   "metadata": {},
   "outputs": [],
   "source": [
    "def convolutional_model(input_shape):\n",
    "    \"\"\"\n",
    "    Implements the forward propagation for the model:\n",
    "    CONV2D -> RELU -> MAXPOOL -> CONV2D -> RELU -> MAXPOOL -> FLATTEN -> DENSE\n",
    "    \n",
    "    Arguments:\n",
    "    input_mfcc -- input dataset, of shape (input_shape)\n",
    "\n",
    "    Returns:\n",
    "    model -- TF Keras model (object containing the information for the entire training process) \n",
    "    \"\"\"\n",
    "\n",
    "    input_mfcc = tf.keras.Input(shape=input_shape)\n",
    "    ## CONV1D: 4 filters 8, stride of 1, padding 'SAME'\n",
    "    Z1 = tfl.Conv1D(filters = 4, kernel_size = 8, strides = 2, padding='same', kernel_initializer = 'he_normal')(input_mfcc)\n",
    "    ## RELU\n",
    "    A1 = tfl.ReLU()(Z1)\n",
    "    ## MAXPOOL: window 8, stride 4, padding 'SAME'\n",
    "    P1 = tfl.MaxPool1D(pool_size = 8, strides = 4, padding='same')(A1)\n",
    "    \n",
    "    ## CONV1D: 2 filters 4, stride 1, padding 'SAME'\n",
    "    Z2 = tfl.Conv1D(filters = 2, kernel_size = 4, strides = 2, padding='same', kernel_initializer = 'he_normal')(P1)\n",
    "    ## RELU\n",
    "    A2 = tfl.ReLU()(Z2)\n",
    "    ## MAXPOOL: window 4, stride 2, padding 'SAME'\n",
    "    P2 = tfl.MaxPool1D(pool_size = 4, strides = 2, padding='same')(A2)\n",
    "    ## FLATTEN\n",
    "    F = tfl.Flatten()(P2)\n",
    "    ## Dense layer\n",
    "    ## 6 neurons in output layer. Hint: one of the arguments should be \"activation='softmax'\" \n",
    "    outputs = tfl.Dense(3, activation='softmax')(F)\n",
    "    \n",
    "    model = tf.keras.Model(inputs=input_mfcc, outputs=outputs)\n",
    "    return model"
   ]
  },
  {
   "cell_type": "code",
   "execution_count": 40,
   "id": "4104090c",
   "metadata": {},
   "outputs": [
    {
     "name": "stdout",
     "output_type": "stream",
     "text": [
      "Model: \"model_11\"\n",
      "_________________________________________________________________\n",
      " Layer (type)                Output Shape              Param #   \n",
      "=================================================================\n",
      " input_12 (InputLayer)       [(None, 512, 19)]         0         \n",
      "                                                                 \n",
      " conv1d_22 (Conv1D)          (None, 256, 4)            612       \n",
      "                                                                 \n",
      " re_lu_22 (ReLU)             (None, 256, 4)            0         \n",
      "                                                                 \n",
      " max_pooling1d_22 (MaxPoolin  (None, 64, 4)            0         \n",
      " g1D)                                                            \n",
      "                                                                 \n",
      " conv1d_23 (Conv1D)          (None, 32, 2)             34        \n",
      "                                                                 \n",
      " re_lu_23 (ReLU)             (None, 32, 2)             0         \n",
      "                                                                 \n",
      " max_pooling1d_23 (MaxPoolin  (None, 16, 2)            0         \n",
      " g1D)                                                            \n",
      "                                                                 \n",
      " flatten_11 (Flatten)        (None, 32)                0         \n",
      "                                                                 \n",
      " dense_11 (Dense)            (None, 3)                 99        \n",
      "                                                                 \n",
      "=================================================================\n",
      "Total params: 745\n",
      "Trainable params: 745\n",
      "Non-trainable params: 0\n",
      "_________________________________________________________________\n"
     ]
    }
   ],
   "source": [
    "conv_model = convolutional_model((512, 19))\n",
    "conv_model.compile(optimizer='adam',\n",
    "                  loss='categorical_crossentropy',\n",
    "                  metrics=['accuracy'])\n",
    "conv_model.summary()"
   ]
  },
  {
   "cell_type": "code",
   "execution_count": 41,
   "id": "acd088d5",
   "metadata": {},
   "outputs": [
    {
     "name": "stdout",
     "output_type": "stream",
     "text": [
      "Epoch 1/100\n",
      "17/17 [==============================] - 1s 40ms/step - loss: 3.5405 - accuracy: 0.2852 - val_loss: 2.8121 - val_accuracy: 0.2833\n",
      "Epoch 2/100\n",
      "17/17 [==============================] - 1s 38ms/step - loss: 2.2367 - accuracy: 0.3130 - val_loss: 1.8800 - val_accuracy: 0.3056\n",
      "Epoch 3/100\n",
      "17/17 [==============================] - 1s 32ms/step - loss: 1.5514 - accuracy: 0.3481 - val_loss: 1.4300 - val_accuracy: 0.3222\n",
      "Epoch 4/100\n",
      "17/17 [==============================] - 0s 25ms/step - loss: 1.2458 - accuracy: 0.3815 - val_loss: 1.2400 - val_accuracy: 0.3333\n",
      "Epoch 5/100\n",
      "17/17 [==============================] - 0s 22ms/step - loss: 1.1168 - accuracy: 0.4222 - val_loss: 1.1703 - val_accuracy: 0.3611\n",
      "Epoch 6/100\n",
      "17/17 [==============================] - 1s 33ms/step - loss: 1.0576 - accuracy: 0.4519 - val_loss: 1.1396 - val_accuracy: 0.3556\n",
      "Epoch 7/100\n",
      "17/17 [==============================] - 0s 23ms/step - loss: 1.0251 - accuracy: 0.4815 - val_loss: 1.1252 - val_accuracy: 0.3444\n",
      "Epoch 8/100\n",
      "17/17 [==============================] - 0s 23ms/step - loss: 0.9996 - accuracy: 0.5000 - val_loss: 1.1153 - val_accuracy: 0.3500\n",
      "Epoch 9/100\n",
      "17/17 [==============================] - 0s 29ms/step - loss: 0.9814 - accuracy: 0.5222 - val_loss: 1.1046 - val_accuracy: 0.3611\n",
      "Epoch 10/100\n",
      "17/17 [==============================] - 0s 16ms/step - loss: 0.9679 - accuracy: 0.5333 - val_loss: 1.0964 - val_accuracy: 0.3722\n",
      "Epoch 11/100\n",
      "17/17 [==============================] - 0s 29ms/step - loss: 0.9492 - accuracy: 0.5481 - val_loss: 1.0840 - val_accuracy: 0.3889\n",
      "Epoch 12/100\n",
      "17/17 [==============================] - 0s 25ms/step - loss: 0.9349 - accuracy: 0.5593 - val_loss: 1.0751 - val_accuracy: 0.4333\n",
      "Epoch 13/100\n",
      "17/17 [==============================] - 0s 21ms/step - loss: 0.9210 - accuracy: 0.5630 - val_loss: 1.0657 - val_accuracy: 0.4278\n",
      "Epoch 14/100\n",
      "17/17 [==============================] - 0s 19ms/step - loss: 0.9049 - accuracy: 0.5685 - val_loss: 1.0575 - val_accuracy: 0.4278\n",
      "Epoch 15/100\n",
      "17/17 [==============================] - 0s 14ms/step - loss: 0.8889 - accuracy: 0.5778 - val_loss: 1.0461 - val_accuracy: 0.4333\n",
      "Epoch 16/100\n",
      "17/17 [==============================] - 0s 26ms/step - loss: 0.8774 - accuracy: 0.5796 - val_loss: 1.0410 - val_accuracy: 0.4278\n",
      "Epoch 17/100\n",
      "17/17 [==============================] - 0s 23ms/step - loss: 0.8626 - accuracy: 0.5870 - val_loss: 1.0312 - val_accuracy: 0.4500\n",
      "Epoch 18/100\n",
      "17/17 [==============================] - 0s 19ms/step - loss: 0.8496 - accuracy: 0.6056 - val_loss: 1.0255 - val_accuracy: 0.4556\n",
      "Epoch 19/100\n",
      "17/17 [==============================] - 0s 23ms/step - loss: 0.8365 - accuracy: 0.6185 - val_loss: 1.0181 - val_accuracy: 0.4611\n",
      "Epoch 20/100\n",
      "17/17 [==============================] - 0s 20ms/step - loss: 0.8235 - accuracy: 0.6389 - val_loss: 1.0099 - val_accuracy: 0.4611\n",
      "Epoch 21/100\n",
      "17/17 [==============================] - 0s 20ms/step - loss: 0.8110 - accuracy: 0.6500 - val_loss: 1.0055 - val_accuracy: 0.4722\n",
      "Epoch 22/100\n",
      "17/17 [==============================] - 0s 11ms/step - loss: 0.7980 - accuracy: 0.6630 - val_loss: 0.9957 - val_accuracy: 0.4722\n",
      "Epoch 23/100\n",
      "17/17 [==============================] - 0s 15ms/step - loss: 0.7861 - accuracy: 0.6704 - val_loss: 0.9917 - val_accuracy: 0.4833\n",
      "Epoch 24/100\n",
      "17/17 [==============================] - 1s 31ms/step - loss: 0.7739 - accuracy: 0.6704 - val_loss: 0.9847 - val_accuracy: 0.5000\n",
      "Epoch 25/100\n",
      "17/17 [==============================] - 0s 19ms/step - loss: 0.7595 - accuracy: 0.6815 - val_loss: 0.9802 - val_accuracy: 0.4833\n",
      "Epoch 26/100\n",
      "17/17 [==============================] - 0s 21ms/step - loss: 0.7482 - accuracy: 0.6963 - val_loss: 0.9721 - val_accuracy: 0.4944\n",
      "Epoch 27/100\n",
      "17/17 [==============================] - 0s 23ms/step - loss: 0.7334 - accuracy: 0.7019 - val_loss: 0.9586 - val_accuracy: 0.5111\n",
      "Epoch 28/100\n",
      "17/17 [==============================] - 0s 12ms/step - loss: 0.7186 - accuracy: 0.6981 - val_loss: 0.9519 - val_accuracy: 0.5333\n",
      "Epoch 29/100\n",
      "17/17 [==============================] - 0s 21ms/step - loss: 0.7054 - accuracy: 0.7037 - val_loss: 0.9399 - val_accuracy: 0.5500\n",
      "Epoch 30/100\n",
      "17/17 [==============================] - 0s 23ms/step - loss: 0.6862 - accuracy: 0.7148 - val_loss: 0.9304 - val_accuracy: 0.5500\n",
      "Epoch 31/100\n",
      "17/17 [==============================] - 0s 13ms/step - loss: 0.6687 - accuracy: 0.7148 - val_loss: 0.9154 - val_accuracy: 0.5556\n",
      "Epoch 32/100\n",
      "17/17 [==============================] - 0s 25ms/step - loss: 0.6447 - accuracy: 0.7278 - val_loss: 0.8960 - val_accuracy: 0.5556\n",
      "Epoch 33/100\n",
      "17/17 [==============================] - 0s 29ms/step - loss: 0.6200 - accuracy: 0.7352 - val_loss: 0.8761 - val_accuracy: 0.5556\n",
      "Epoch 34/100\n",
      "17/17 [==============================] - 0s 25ms/step - loss: 0.5944 - accuracy: 0.7426 - val_loss: 0.8609 - val_accuracy: 0.5556\n",
      "Epoch 35/100\n",
      "17/17 [==============================] - 0s 17ms/step - loss: 0.5672 - accuracy: 0.7611 - val_loss: 0.8399 - val_accuracy: 0.5722\n",
      "Epoch 36/100\n",
      "17/17 [==============================] - 0s 19ms/step - loss: 0.5480 - accuracy: 0.7593 - val_loss: 0.8212 - val_accuracy: 0.5778\n",
      "Epoch 37/100\n",
      "17/17 [==============================] - 0s 23ms/step - loss: 0.5257 - accuracy: 0.7796 - val_loss: 0.8138 - val_accuracy: 0.5722\n",
      "Epoch 38/100\n",
      "17/17 [==============================] - 0s 19ms/step - loss: 0.5096 - accuracy: 0.7815 - val_loss: 0.7981 - val_accuracy: 0.5944\n",
      "Epoch 39/100\n",
      "17/17 [==============================] - 0s 17ms/step - loss: 0.4904 - accuracy: 0.7963 - val_loss: 0.7833 - val_accuracy: 0.5889\n",
      "Epoch 40/100\n",
      "17/17 [==============================] - 0s 19ms/step - loss: 0.4766 - accuracy: 0.7944 - val_loss: 0.7752 - val_accuracy: 0.5889\n",
      "Epoch 41/100\n",
      "17/17 [==============================] - 0s 21ms/step - loss: 0.4629 - accuracy: 0.7963 - val_loss: 0.7744 - val_accuracy: 0.5944\n",
      "Epoch 42/100\n",
      "17/17 [==============================] - 0s 18ms/step - loss: 0.4523 - accuracy: 0.8037 - val_loss: 0.7706 - val_accuracy: 0.5944\n",
      "Epoch 43/100\n",
      "17/17 [==============================] - 0s 13ms/step - loss: 0.4386 - accuracy: 0.8037 - val_loss: 0.7640 - val_accuracy: 0.6000\n",
      "Epoch 44/100\n",
      "17/17 [==============================] - 0s 14ms/step - loss: 0.4311 - accuracy: 0.8111 - val_loss: 0.7682 - val_accuracy: 0.6167\n",
      "Epoch 45/100\n",
      "17/17 [==============================] - 0s 26ms/step - loss: 0.4213 - accuracy: 0.8111 - val_loss: 0.7690 - val_accuracy: 0.6111\n",
      "Epoch 46/100\n",
      "17/17 [==============================] - 1s 32ms/step - loss: 0.4125 - accuracy: 0.8241 - val_loss: 0.7711 - val_accuracy: 0.6111\n",
      "Epoch 47/100\n",
      "17/17 [==============================] - 0s 22ms/step - loss: 0.4041 - accuracy: 0.8278 - val_loss: 0.7557 - val_accuracy: 0.6278\n",
      "Epoch 48/100\n",
      "17/17 [==============================] - 0s 21ms/step - loss: 0.3976 - accuracy: 0.8296 - val_loss: 0.7662 - val_accuracy: 0.6167\n",
      "Epoch 49/100\n",
      "17/17 [==============================] - 0s 19ms/step - loss: 0.3931 - accuracy: 0.8278 - val_loss: 0.7653 - val_accuracy: 0.6333\n",
      "Epoch 50/100\n",
      "17/17 [==============================] - 0s 23ms/step - loss: 0.3842 - accuracy: 0.8296 - val_loss: 0.7533 - val_accuracy: 0.6333\n",
      "Epoch 51/100\n",
      "17/17 [==============================] - 0s 16ms/step - loss: 0.3794 - accuracy: 0.8370 - val_loss: 0.7529 - val_accuracy: 0.6333\n",
      "Epoch 52/100\n",
      "17/17 [==============================] - 0s 15ms/step - loss: 0.3727 - accuracy: 0.8370 - val_loss: 0.7606 - val_accuracy: 0.6389\n",
      "Epoch 53/100\n",
      "17/17 [==============================] - 0s 13ms/step - loss: 0.3693 - accuracy: 0.8352 - val_loss: 0.7548 - val_accuracy: 0.6500\n",
      "Epoch 54/100\n",
      "17/17 [==============================] - 0s 22ms/step - loss: 0.3653 - accuracy: 0.8352 - val_loss: 0.7631 - val_accuracy: 0.6278\n",
      "Epoch 55/100\n",
      "17/17 [==============================] - 0s 16ms/step - loss: 0.3580 - accuracy: 0.8481 - val_loss: 0.7558 - val_accuracy: 0.6444\n",
      "Epoch 56/100\n",
      "17/17 [==============================] - 0s 19ms/step - loss: 0.3552 - accuracy: 0.8426 - val_loss: 0.7615 - val_accuracy: 0.6333\n",
      "Epoch 57/100\n",
      "17/17 [==============================] - 0s 21ms/step - loss: 0.3494 - accuracy: 0.8611 - val_loss: 0.7589 - val_accuracy: 0.6278\n",
      "Epoch 58/100\n"
     ]
    },
    {
     "name": "stdout",
     "output_type": "stream",
     "text": [
      "17/17 [==============================] - 0s 21ms/step - loss: 0.3467 - accuracy: 0.8537 - val_loss: 0.7485 - val_accuracy: 0.6500\n",
      "Epoch 59/100\n",
      "17/17 [==============================] - 0s 22ms/step - loss: 0.3431 - accuracy: 0.8519 - val_loss: 0.7650 - val_accuracy: 0.6278\n",
      "Epoch 60/100\n",
      "17/17 [==============================] - 0s 25ms/step - loss: 0.3368 - accuracy: 0.8537 - val_loss: 0.7607 - val_accuracy: 0.6222\n",
      "Epoch 61/100\n",
      "17/17 [==============================] - 0s 21ms/step - loss: 0.3322 - accuracy: 0.8519 - val_loss: 0.7582 - val_accuracy: 0.6444\n",
      "Epoch 62/100\n",
      "17/17 [==============================] - 0s 20ms/step - loss: 0.3300 - accuracy: 0.8574 - val_loss: 0.7744 - val_accuracy: 0.6278\n",
      "Epoch 63/100\n",
      "17/17 [==============================] - 0s 21ms/step - loss: 0.3274 - accuracy: 0.8593 - val_loss: 0.7424 - val_accuracy: 0.6444\n",
      "Epoch 64/100\n",
      "17/17 [==============================] - 0s 17ms/step - loss: 0.3217 - accuracy: 0.8685 - val_loss: 0.7605 - val_accuracy: 0.6389\n",
      "Epoch 65/100\n",
      "17/17 [==============================] - 0s 19ms/step - loss: 0.3183 - accuracy: 0.8630 - val_loss: 0.7561 - val_accuracy: 0.6278\n",
      "Epoch 66/100\n",
      "17/17 [==============================] - 0s 21ms/step - loss: 0.3153 - accuracy: 0.8741 - val_loss: 0.7595 - val_accuracy: 0.6389\n",
      "Epoch 67/100\n",
      "17/17 [==============================] - 0s 18ms/step - loss: 0.3113 - accuracy: 0.8704 - val_loss: 0.7543 - val_accuracy: 0.6500\n",
      "Epoch 68/100\n",
      "17/17 [==============================] - 0s 17ms/step - loss: 0.3075 - accuracy: 0.8722 - val_loss: 0.7456 - val_accuracy: 0.6278\n",
      "Epoch 69/100\n",
      "17/17 [==============================] - 0s 17ms/step - loss: 0.3063 - accuracy: 0.8685 - val_loss: 0.7642 - val_accuracy: 0.6278\n",
      "Epoch 70/100\n",
      "17/17 [==============================] - 0s 17ms/step - loss: 0.3013 - accuracy: 0.8778 - val_loss: 0.7660 - val_accuracy: 0.6278\n",
      "Epoch 71/100\n",
      "17/17 [==============================] - 0s 19ms/step - loss: 0.2971 - accuracy: 0.8778 - val_loss: 0.7509 - val_accuracy: 0.6556\n",
      "Epoch 72/100\n",
      "17/17 [==============================] - 0s 19ms/step - loss: 0.2927 - accuracy: 0.8796 - val_loss: 0.7682 - val_accuracy: 0.6389\n",
      "Epoch 73/100\n",
      "17/17 [==============================] - 0s 23ms/step - loss: 0.2913 - accuracy: 0.8852 - val_loss: 0.7398 - val_accuracy: 0.6500\n",
      "Epoch 74/100\n",
      "17/17 [==============================] - 0s 17ms/step - loss: 0.2874 - accuracy: 0.8944 - val_loss: 0.7564 - val_accuracy: 0.6389\n",
      "Epoch 75/100\n",
      "17/17 [==============================] - 0s 22ms/step - loss: 0.2828 - accuracy: 0.8870 - val_loss: 0.7411 - val_accuracy: 0.6611\n",
      "Epoch 76/100\n",
      "17/17 [==============================] - 0s 21ms/step - loss: 0.2802 - accuracy: 0.8944 - val_loss: 0.7773 - val_accuracy: 0.6444\n",
      "Epoch 77/100\n",
      "17/17 [==============================] - 0s 17ms/step - loss: 0.2786 - accuracy: 0.8926 - val_loss: 0.7501 - val_accuracy: 0.6556\n",
      "Epoch 78/100\n",
      "17/17 [==============================] - 1s 31ms/step - loss: 0.2730 - accuracy: 0.8870 - val_loss: 0.7681 - val_accuracy: 0.6500\n",
      "Epoch 79/100\n",
      "17/17 [==============================] - 0s 11ms/step - loss: 0.2676 - accuracy: 0.8926 - val_loss: 0.7643 - val_accuracy: 0.6667\n",
      "Epoch 80/100\n",
      "17/17 [==============================] - 0s 15ms/step - loss: 0.2639 - accuracy: 0.8963 - val_loss: 0.7635 - val_accuracy: 0.6667\n",
      "Epoch 81/100\n",
      "17/17 [==============================] - 0s 13ms/step - loss: 0.2590 - accuracy: 0.9037 - val_loss: 0.7677 - val_accuracy: 0.6611\n",
      "Epoch 82/100\n",
      "17/17 [==============================] - 0s 24ms/step - loss: 0.2574 - accuracy: 0.9000 - val_loss: 0.7563 - val_accuracy: 0.6778\n",
      "Epoch 83/100\n",
      "17/17 [==============================] - 0s 26ms/step - loss: 0.2574 - accuracy: 0.9056 - val_loss: 0.7833 - val_accuracy: 0.6667\n",
      "Epoch 84/100\n",
      "17/17 [==============================] - 0s 14ms/step - loss: 0.2517 - accuracy: 0.9056 - val_loss: 0.7591 - val_accuracy: 0.6667\n",
      "Epoch 85/100\n",
      "17/17 [==============================] - 0s 12ms/step - loss: 0.2468 - accuracy: 0.9167 - val_loss: 0.8016 - val_accuracy: 0.6611\n",
      "Epoch 86/100\n",
      "17/17 [==============================] - 0s 19ms/step - loss: 0.2465 - accuracy: 0.9111 - val_loss: 0.7670 - val_accuracy: 0.6722\n",
      "Epoch 87/100\n",
      "17/17 [==============================] - 0s 19ms/step - loss: 0.2444 - accuracy: 0.9130 - val_loss: 0.7993 - val_accuracy: 0.6667\n",
      "Epoch 88/100\n",
      "17/17 [==============================] - 0s 18ms/step - loss: 0.2381 - accuracy: 0.9167 - val_loss: 0.7662 - val_accuracy: 0.6722\n",
      "Epoch 89/100\n",
      "17/17 [==============================] - 0s 19ms/step - loss: 0.2369 - accuracy: 0.9167 - val_loss: 0.8147 - val_accuracy: 0.6556\n",
      "Epoch 90/100\n",
      "17/17 [==============================] - 0s 18ms/step - loss: 0.2355 - accuracy: 0.9148 - val_loss: 0.8048 - val_accuracy: 0.6556\n",
      "Epoch 91/100\n",
      "17/17 [==============================] - 0s 21ms/step - loss: 0.2300 - accuracy: 0.9185 - val_loss: 0.8058 - val_accuracy: 0.6556\n",
      "Epoch 92/100\n",
      "17/17 [==============================] - 0s 15ms/step - loss: 0.2262 - accuracy: 0.9222 - val_loss: 0.8079 - val_accuracy: 0.6556\n",
      "Epoch 93/100\n",
      "17/17 [==============================] - 0s 28ms/step - loss: 0.2257 - accuracy: 0.9204 - val_loss: 0.8160 - val_accuracy: 0.6667\n",
      "Epoch 94/100\n",
      "17/17 [==============================] - 1s 33ms/step - loss: 0.2219 - accuracy: 0.9259 - val_loss: 0.8129 - val_accuracy: 0.6556\n",
      "Epoch 95/100\n",
      "17/17 [==============================] - 0s 11ms/step - loss: 0.2198 - accuracy: 0.9259 - val_loss: 0.8241 - val_accuracy: 0.6667\n",
      "Epoch 96/100\n",
      "17/17 [==============================] - 0s 15ms/step - loss: 0.2192 - accuracy: 0.9278 - val_loss: 0.8101 - val_accuracy: 0.6556\n",
      "Epoch 97/100\n",
      "17/17 [==============================] - 1s 29ms/step - loss: 0.2139 - accuracy: 0.9333 - val_loss: 0.8208 - val_accuracy: 0.6667\n",
      "Epoch 98/100\n",
      "17/17 [==============================] - 0s 14ms/step - loss: 0.2146 - accuracy: 0.9315 - val_loss: 0.8494 - val_accuracy: 0.6444\n",
      "Epoch 99/100\n",
      "17/17 [==============================] - 0s 23ms/step - loss: 0.2097 - accuracy: 0.9296 - val_loss: 0.8300 - val_accuracy: 0.6667\n",
      "Epoch 100/100\n",
      "17/17 [==============================] - 0s 17ms/step - loss: 0.2076 - accuracy: 0.9315 - val_loss: 0.8356 - val_accuracy: 0.6500\n"
     ]
    }
   ],
   "source": [
    "history = conv_model.fit(X_train_norm, Y_train, epochs=100, validation_data=(X_valid_norm, Y_valid))"
   ]
  },
  {
   "cell_type": "code",
   "execution_count": 42,
   "id": "c2a4bb06",
   "metadata": {},
   "outputs": [
    {
     "name": "stderr",
     "output_type": "stream",
     "text": [
      "C:\\Users\\zhuq6\\AppData\\Local\\Temp\\ipykernel_10424\\903421272.py:3: SettingWithCopyWarning: \n",
      "A value is trying to be set on a copy of a slice from a DataFrame\n",
      "\n",
      "See the caveats in the documentation: https://pandas.pydata.org/pandas-docs/stable/user_guide/indexing.html#returning-a-view-versus-a-copy\n",
      "  df_loss.rename(columns={'loss':'train','val_loss':'validation'},inplace=True)\n",
      "C:\\Users\\zhuq6\\AppData\\Local\\Temp\\ipykernel_10424\\903421272.py:5: SettingWithCopyWarning: \n",
      "A value is trying to be set on a copy of a slice from a DataFrame\n",
      "\n",
      "See the caveats in the documentation: https://pandas.pydata.org/pandas-docs/stable/user_guide/indexing.html#returning-a-view-versus-a-copy\n",
      "  df_acc.rename(columns={'accuracy':'train','val_accuracy':'validation'},inplace=True)\n"
     ]
    },
    {
     "data": {
      "text/plain": [
       "[Text(0.5, 0, 'Epoch'), Text(0, 0.5, 'Accuracy')]"
      ]
     },
     "execution_count": 42,
     "metadata": {},
     "output_type": "execute_result"
    },
    {
     "data": {
      "image/png": "[encoded data removed]",
      "text/plain": [
       "<Figure size 600x400 with 1 Axes>"
      ]
     },
     "metadata": {},
     "output_type": "display_data"
    },
    {
     "data": {
      "image/png": "[encoded data removed]",
      "text/plain": [
       "<Figure size 600x400 with 1 Axes>"
      ]
     },
     "metadata": {},
     "output_type": "display_data"
    }
   ],
   "source": [
    "df_loss_acc = pd.DataFrame(history.history)\n",
    "df_loss= df_loss_acc[['loss','val_loss']]\n",
    "df_loss.rename(columns={'loss':'train','val_loss':'validation'},inplace=True)\n",
    "df_acc= df_loss_acc[['accuracy','val_accuracy']]\n",
    "df_acc.rename(columns={'accuracy':'train','val_accuracy':'validation'},inplace=True)\n",
    "df_loss.plot(title='Model loss',figsize=(6,4)).set(xlabel='Epoch',ylabel='Loss')\n",
    "df_acc.plot(title='Model Accuracy',figsize=(6,4)).set(xlabel='Epoch',ylabel='Accuracy')"
   ]
  },
  {
   "cell_type": "code",
   "execution_count": null,
   "id": "c4b3a454",
   "metadata": {},
   "outputs": [],
   "source": []
  }
 ],
 "metadata": {
  "kernelspec": {
   "display_name": "Python 3 (ipykernel)",
   "language": "python",
   "name": "python3"
  },
  "language_info": {
   "codemirror_mode": {
    "name": "ipython",
    "version": 3
   },
   "file_extension": ".py",
   "mimetype": "text/x-python",
   "name": "python",
   "nbconvert_exporter": "python",
   "pygments_lexer": "ipython3",
   "version": "3.10.6"
  }
 },
 "nbformat": 4,
 "nbformat_minor": 5
}
