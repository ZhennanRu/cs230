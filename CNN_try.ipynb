{
 "cells": [
  {
   "cell_type": "code",
   "execution_count": 41,
   "id": "0e866cc9",
   "metadata": {},
   "outputs": [],
   "source": [
    "import os\n",
    "import numpy as np\n",
    "import pandas as pd\n",
    "from matplotlib import pyplot as plt\n",
    "import random\n",
    "import tensorflow as tf\n",
    "from tensorflow import keras\n",
    "import keras.layers as tfl\n",
    "import seaborn as sn\n",
    "import dataset"
   ]
  },
  {
   "cell_type": "code",
   "execution_count": 19,
   "id": "371fd5d8",
   "metadata": {},
   "outputs": [],
   "source": [
    "# All mfcc data are contained in numpy_datas, which is a list. \n",
    "# The each entry of the list is another list consistes of [mfccs, file name]\n",
    "MFCCs_DATA = \"MFCCsData\"\n",
    "numpy_datas = []\n",
    "\n",
    "dirlist = os.listdir(MFCCs_DATA)\n",
    "for d in dirlist:\n",
    "    d = os.path.join(MFCCs_DATA, d)\n",
    "    datalist = os.listdir(d)\n",
    "    datalist = [[np.load(os.path.join(d,x)), os.path.join(d,x)] for x in datalist]\n",
    "    numpy_datas.extend(datalist)"
   ]
  },
  {
   "cell_type": "code",
   "execution_count": 20,
   "id": "66b100ac",
   "metadata": {},
   "outputs": [
    {
     "data": {
      "text/plain": [
       "(19, 612)"
      ]
     },
     "execution_count": 20,
     "metadata": {},
     "output_type": "execute_result"
    }
   ],
   "source": [
    "numpy_datas[200][0].shape"
   ]
  },
  {
   "cell_type": "code",
   "execution_count": 21,
   "id": "17a73c53",
   "metadata": {},
   "outputs": [
    {
     "data": {
      "text/plain": [
       "(19, 492)"
      ]
     },
     "execution_count": 21,
     "metadata": {},
     "output_type": "execute_result"
    }
   ],
   "source": [
    "numpy_datas[100][0].shape"
   ]
  },
  {
   "cell_type": "markdown",
   "id": "b65d00ac",
   "metadata": {},
   "source": [
    "Notice that the size of mfccs for each emotion file is different, need to resize the data into the same size"
   ]
  },
  {
   "cell_type": "code",
   "execution_count": 22,
   "id": "79082488",
   "metadata": {},
   "outputs": [],
   "source": [
    "# resize into (19,512) then transpose to (512,19) for CNN\n",
    "for i in range(len(numpy_datas)):\n",
    "    numpy_datas[i][0] = np.transpose(np.resize(numpy_datas[i][0], (19,512)))"
   ]
  },
  {
   "cell_type": "code",
   "execution_count": 23,
   "id": "772682a1",
   "metadata": {},
   "outputs": [
    {
     "data": {
      "text/plain": [
       "(512, 19)"
      ]
     },
     "execution_count": 23,
     "metadata": {},
     "output_type": "execute_result"
    }
   ],
   "source": [
    "numpy_datas[200][0].shape"
   ]
  },
  {
   "cell_type": "code",
   "execution_count": 24,
   "id": "31decb4e",
   "metadata": {},
   "outputs": [
    {
     "data": {
      "text/plain": [
       "(512, 19)"
      ]
     },
     "execution_count": 24,
     "metadata": {},
     "output_type": "execute_result"
    }
   ],
   "source": [
    "numpy_datas[100][0].shape"
   ]
  },
  {
   "cell_type": "markdown",
   "id": "e7c75f50",
   "metadata": {},
   "source": [
    "So now all data has the same shape"
   ]
  },
  {
   "cell_type": "markdown",
   "id": "bceeac46",
   "metadata": {},
   "source": [
    "Separate the data list according to the label. Change file name to correct label. [1,0,0] is angry, [0,1,0] is happy, [0,0,1] is normal."
   ]
  },
  {
   "cell_type": "code",
   "execution_count": 25,
   "id": "baeffd7a",
   "metadata": {},
   "outputs": [],
   "source": [
    "# change file name to correct label\n",
    "angry = []\n",
    "happy = []\n",
    "normal = []\n",
    "\n",
    "for i in range(len(numpy_datas)):\n",
    "    file_name = numpy_datas[i][1]\n",
    "    if \"angry\" in file_name:\n",
    "        numpy_datas[i][1] = np.array([1,0,0])\n",
    "        angry.append(numpy_datas[i])\n",
    "    elif \"happy\" in file_name:\n",
    "        numpy_datas[i][1] = np.array([0,1,0])\n",
    "        happy.append(numpy_datas[i])\n",
    "    else:\n",
    "        numpy_datas[i][1] = np.array([0,0,1])\n",
    "        normal.append(numpy_datas[i])"
   ]
  },
  {
   "cell_type": "markdown",
   "id": "3326e093",
   "metadata": {},
   "source": [
    "Now split the Train-Valid-Test data with a ratio of 60%-20%-20%"
   ]
  },
  {
   "cell_type": "code",
   "execution_count": 26,
   "id": "d93804f9",
   "metadata": {},
   "outputs": [],
   "source": [
    "# first shuffle the list of each emotion\n",
    "random.shuffle(angry)\n",
    "random.shuffle(happy)\n",
    "random.shuffle(normal)"
   ]
  },
  {
   "cell_type": "code",
   "execution_count": 27,
   "id": "75d05444",
   "metadata": {},
   "outputs": [],
   "source": [
    "# then select the first 180 in each emotion as train data, first 60 in each emotion as valid data, and first 60 in each emotion as test data\n",
    "train_data = angry[:int(len(angry)*0.6)] + happy[:int(len(happy)*0.6)] + normal[:int(len(normal)*0.6)]\n",
    "valid_data = angry[int(len(angry)*0.6):int(len(angry)*(0.6+0.2))] + happy[int(len(happy)*0.6):int(len(happy)*(0.6+0.2))] + normal[int(len(normal)*0.6):int(len(normal)*(0.6+0.2))]\n",
    "test_data = angry[int(len(angry)*(0.6+0.2)):] + happy[int(len(happy)*(0.6+0.2)):] + normal[int(len(normal)*(0.6+0.2)):]\n",
    "random.shuffle(train_data)\n",
    "random.shuffle(valid_data)\n",
    "random.shuffle(test_data)"
   ]
  },
  {
   "cell_type": "code",
   "execution_count": 28,
   "id": "cc77c7e6",
   "metadata": {},
   "outputs": [],
   "source": [
    "# train, valid, test data are all in list consistes of [mfccs, file name]\n",
    "# want to change the list to two outputs:\n",
    "# X: vector of mfccs\n",
    "# Y: vector of labels\n",
    "def data2vector(data):\n",
    "    X = []\n",
    "    Y = []\n",
    "    for i in range(len(data)):\n",
    "        X.append(data[i][0])\n",
    "        Y.append(data[i][1])\n",
    "    X = np.array(X)\n",
    "    Y = np.array(Y)\n",
    "    return X,Y"
   ]
  },
  {
   "cell_type": "code",
   "execution_count": 29,
   "id": "c123ad9e",
   "metadata": {},
   "outputs": [],
   "source": [
    "X_train, Y_train = data2vector(train_data)"
   ]
  },
  {
   "cell_type": "code",
   "execution_count": 30,
   "id": "bb03b792",
   "metadata": {},
   "outputs": [
    {
     "name": "stdout",
     "output_type": "stream",
     "text": [
      "(540, 512, 19)\n",
      "(540, 3)\n"
     ]
    }
   ],
   "source": [
    "print(X_train.shape)\n",
    "print(Y_train.shape)"
   ]
  },
  {
   "cell_type": "code",
   "execution_count": 31,
   "id": "e439ec98",
   "metadata": {},
   "outputs": [],
   "source": [
    "X_valid, Y_valid = data2vector(valid_data)\n",
    "X_test, Y_test = data2vector(test_data)"
   ]
  },
  {
   "cell_type": "markdown",
   "id": "6c3bf5e3",
   "metadata": {},
   "source": [
    "Now let's do normalization, by the value of train data"
   ]
  },
  {
   "cell_type": "code",
   "execution_count": 137,
   "id": "8fadd600",
   "metadata": {},
   "outputs": [],
   "source": [
    "X_train_miu = np.average(X_train, axis=0)\n",
    "X_train_std = np.std(X_train, axis=0)"
   ]
  },
  {
   "cell_type": "code",
   "execution_count": 77,
   "id": "741e79fb",
   "metadata": {},
   "outputs": [
    {
     "name": "stdout",
     "output_type": "stream",
     "text": [
      "(512, 19)\n",
      "(512, 19)\n"
     ]
    }
   ],
   "source": [
    "print(X_train_miu.shape)\n",
    "print(X_train_std.shape)"
   ]
  },
  {
   "cell_type": "code",
   "execution_count": 66,
   "id": "cafeff88",
   "metadata": {},
   "outputs": [
    {
     "name": "stdout",
     "output_type": "stream",
     "text": [
      "(512, 19)\n"
     ]
    }
   ],
   "source": [
    "print(np.average(X_train, axis=0).shape)"
   ]
  },
  {
   "cell_type": "code",
   "execution_count": 111,
   "id": "0bc3e707",
   "metadata": {},
   "outputs": [],
   "source": [
    "X_train_norm = (X_train - X_train_miu)/X_train_std\n",
    "X_valid_norm = (X_valid - X_train_miu)/X_train_std\n",
    "X_test_norm = (X_test - X_train_miu)/X_train_std"
   ]
  },
  {
   "cell_type": "markdown",
   "id": "43ef85e4",
   "metadata": {},
   "source": [
    "Integrated part for dataset preprocessing and splitting"
   ]
  },
  {
   "cell_type": "code",
   "execution_count": 7,
   "id": "01e6b2a2",
   "metadata": {},
   "outputs": [],
   "source": [
    "# interfacce function to get splited dataset\n",
    "dataset_collection = dataset.getMFCCDataset(train_size = 0.6, valid_size = 0.2, test_size = 0.2)\n",
    "\n",
    "X_train = dataset_collection['X_train']\n",
    "Y_train = dataset_collection['Y_train']\n",
    "X_valid = dataset_collection['X_valid']\n",
    "Y_valid = dataset_collection['Y_valid']\n",
    "X_test = dataset_collection['X_test']\n",
    "Y_test = dataset_collection['Y_test']\n",
    "\n",
    "X_train_norm = dataset_collection['X_train_norm']\n",
    "X_valid_norm = dataset_collection['X_valid_norm']\n",
    "X_test_norm = dataset_collection['X_test_norm']"
   ]
  },
  {
   "cell_type": "code",
   "execution_count": 8,
   "id": "200a9022",
   "metadata": {},
   "outputs": [],
   "source": [
    "# convert array to tensor\n",
    "X_train_norm = tf.convert_to_tensor(X_train_norm)\n",
    "X_valid_norm = tf.convert_to_tensor(X_valid_norm)\n",
    "X_test_norm = tf.convert_to_tensor(X_test_norm)\n",
    "Y_train = tf.convert_to_tensor(Y_train)\n",
    "Y_valid = tf.convert_to_tensor(Y_valid)\n",
    "Y_test = tf.convert_to_tensor(Y_test)\n",
    "\n",
    "X_train = tf.convert_to_tensor(X_train)\n",
    "X_valid = tf.convert_to_tensor(X_valid)\n",
    "X_test = tf.convert_to_tensor(X_test)"
   ]
  },
  {
   "cell_type": "code",
   "execution_count": 60,
   "id": "1c3f6d18",
   "metadata": {},
   "outputs": [
    {
     "name": "stdout",
     "output_type": "stream",
     "text": [
      "(540, 512, 19)\n"
     ]
    }
   ],
   "source": [
    "print(X_train_norm.shape)"
   ]
  },
  {
   "cell_type": "code",
   "execution_count": 38,
   "id": "1ec83fbd",
   "metadata": {},
   "outputs": [],
   "source": [
    "# flatten the shape\n",
    "#X_train_norm_flat = tf.reshape(X_train_norm, [540, -1])\n",
    "#X_valid_norm_flat = tf.reshape(X_valid_norm, [180, -1])\n",
    "#X_test_norm_flat = tf.reshape(X_test_norm, [180, -1])"
   ]
  },
  {
   "cell_type": "code",
   "execution_count": 9,
   "id": "809898c3",
   "metadata": {},
   "outputs": [],
   "source": [
    "def convolutional_model(input_shape):\n",
    "    \"\"\"\n",
    "    Implements the forward propagation for the model:\n",
    "    CONV2D -> RELU -> MAXPOOL -> CONV2D -> Softmax -> MAXPOOL -> FLATTEN -> DENSE\n",
    "    \n",
    "    Arguments:\n",
    "    input_mfcc -- input dataset, of shape (input_shape)\n",
    "\n",
    "    Returns:\n",
    "    model -- TF Keras model (object containing the information for the entire training process) \n",
    "    \"\"\"\n",
    "\n",
    "    input_mfcc = tf.keras.Input(shape=input_shape)\n",
    "    ## CONV1D: 4 filters 8, stride of 1, padding 'SAME'\n",
    "    Z1 = tfl.Conv1D(filters = 4, kernel_size = 8, strides = 2, padding='same', kernel_initializer = 'he_normal', kernel_regularizer = 'L1')(input_mfcc)\n",
    "    ## RELU\n",
    "    A1 = tfl.ReLU()(Z1)\n",
    "    ## MAXPOOL: window 8, stride 4, padding 'SAME'\n",
    "    P1 = tfl.MaxPool1D(pool_size = 8, strides = 4, padding='same')(A1)\n",
    "    \n",
    "    ## CONV1D: 2 filters 4, stride 1, padding 'SAME'\n",
    "    Z2 = tfl.Conv1D(filters = 4, kernel_size = 4, strides = 2, padding='same', kernel_initializer = 'he_normal', kernel_regularizer = 'L1')(P1)\n",
    "    ## RELU\n",
    "    A2 = tfl.Softmax()(Z2)\n",
    "    ## MAXPOOL: window 4, stride 2, padding 'SAME'\n",
    "    P2 = tfl.MaxPool1D(pool_size = 4, strides = 2, padding='same')(A2)\n",
    "    ## FLATTEN\n",
    "    F = tfl.Flatten()(P2)\n",
    "    ## Dense layer\n",
    "    ## 6 neurons in output layer. Hint: one of the arguments should be \"activation='softmax'\" \n",
    "    outputs = tfl.Dense(3, activation='softmax')(F)\n",
    "    \n",
    "    model = tf.keras.Model(inputs=input_mfcc, outputs=outputs)\n",
    "    return model"
   ]
  },
  {
   "cell_type": "code",
   "execution_count": 10,
   "id": "4104090c",
   "metadata": {},
   "outputs": [
    {
     "name": "stdout",
     "output_type": "stream",
     "text": [
      "Model: \"model\"\n",
      "_________________________________________________________________\n",
      " Layer (type)                Output Shape              Param #   \n",
      "=================================================================\n",
      " input_1 (InputLayer)        [(None, 512, 19)]         0         \n",
      "                                                                 \n",
      " conv1d (Conv1D)             (None, 256, 4)            612       \n",
      "                                                                 \n",
      " re_lu (ReLU)                (None, 256, 4)            0         \n",
      "                                                                 \n",
      " max_pooling1d (MaxPooling1D  (None, 64, 4)            0         \n",
      " )                                                               \n",
      "                                                                 \n",
      " conv1d_1 (Conv1D)           (None, 32, 4)             68        \n",
      "                                                                 \n",
      " softmax (Softmax)           (None, 32, 4)             0         \n",
      "                                                                 \n",
      " max_pooling1d_1 (MaxPooling  (None, 16, 4)            0         \n",
      " 1D)                                                             \n",
      "                                                                 \n",
      " flatten (Flatten)           (None, 64)                0         \n",
      "                                                                 \n",
      " dense (Dense)               (None, 3)                 195       \n",
      "                                                                 \n",
      "=================================================================\n",
      "Total params: 875\n",
      "Trainable params: 875\n",
      "Non-trainable params: 0\n",
      "_________________________________________________________________\n"
     ]
    }
   ],
   "source": [
    "conv_model = convolutional_model((512, 19))\n",
    "conv_model.compile(optimizer='adam',\n",
    "                  loss='categorical_crossentropy',\n",
    "                  metrics=['accuracy'])\n",
    "conv_model.summary()"
   ]
  },
  {
   "cell_type": "code",
   "execution_count": 11,
   "id": "acd088d5",
   "metadata": {},
   "outputs": [
    {
     "name": "stdout",
     "output_type": "stream",
     "text": [
      "Epoch 1/200\n",
      "17/17 [==============================] - 3s 56ms/step - loss: 1.9441 - accuracy: 0.3148 - val_loss: 1.8402 - val_accuracy: 0.4111\n",
      "Epoch 2/200\n",
      "17/17 [==============================] - 0s 24ms/step - loss: 1.8212 - accuracy: 0.3481 - val_loss: 1.7742 - val_accuracy: 0.3722\n",
      "Epoch 3/200\n",
      "17/17 [==============================] - 0s 27ms/step - loss: 1.7590 - accuracy: 0.3630 - val_loss: 1.7283 - val_accuracy: 0.4167\n",
      "Epoch 4/200\n",
      "17/17 [==============================] - 0s 21ms/step - loss: 1.7092 - accuracy: 0.3889 - val_loss: 1.6835 - val_accuracy: 0.4056\n",
      "Epoch 5/200\n",
      "17/17 [==============================] - 0s 23ms/step - loss: 1.6615 - accuracy: 0.4185 - val_loss: 1.6386 - val_accuracy: 0.4333\n",
      "Epoch 6/200\n",
      "17/17 [==============================] - 1s 30ms/step - loss: 1.6118 - accuracy: 0.4481 - val_loss: 1.5903 - val_accuracy: 0.4667\n",
      "Epoch 7/200\n",
      "17/17 [==============================] - 0s 22ms/step - loss: 1.5559 - accuracy: 0.5037 - val_loss: 1.5292 - val_accuracy: 0.5111\n",
      "Epoch 8/200\n",
      "17/17 [==============================] - 0s 24ms/step - loss: 1.4871 - accuracy: 0.5500 - val_loss: 1.4437 - val_accuracy: 0.5722\n",
      "Epoch 9/200\n",
      "17/17 [==============================] - 0s 24ms/step - loss: 1.3885 - accuracy: 0.6204 - val_loss: 1.3226 - val_accuracy: 0.6278\n",
      "Epoch 10/200\n",
      "17/17 [==============================] - 0s 23ms/step - loss: 1.2586 - accuracy: 0.6630 - val_loss: 1.1936 - val_accuracy: 0.6667\n",
      "Epoch 11/200\n",
      "17/17 [==============================] - 0s 23ms/step - loss: 1.1454 - accuracy: 0.7111 - val_loss: 1.1004 - val_accuracy: 0.6778\n",
      "Epoch 12/200\n",
      "17/17 [==============================] - 0s 27ms/step - loss: 1.0650 - accuracy: 0.7278 - val_loss: 1.0376 - val_accuracy: 0.6889\n",
      "Epoch 13/200\n",
      "17/17 [==============================] - 0s 24ms/step - loss: 1.0062 - accuracy: 0.7444 - val_loss: 0.9860 - val_accuracy: 0.7111\n",
      "Epoch 14/200\n",
      "17/17 [==============================] - 0s 24ms/step - loss: 0.9584 - accuracy: 0.7667 - val_loss: 0.9451 - val_accuracy: 0.7167\n",
      "Epoch 15/200\n",
      "17/17 [==============================] - 0s 26ms/step - loss: 0.9170 - accuracy: 0.7759 - val_loss: 0.9089 - val_accuracy: 0.7167\n",
      "Epoch 16/200\n",
      "17/17 [==============================] - 0s 21ms/step - loss: 0.8815 - accuracy: 0.7889 - val_loss: 0.8777 - val_accuracy: 0.7500\n",
      "Epoch 17/200\n",
      "17/17 [==============================] - 0s 30ms/step - loss: 0.8531 - accuracy: 0.7870 - val_loss: 0.8521 - val_accuracy: 0.7278\n",
      "Epoch 18/200\n",
      "17/17 [==============================] - 0s 24ms/step - loss: 0.8246 - accuracy: 0.7944 - val_loss: 0.8319 - val_accuracy: 0.7611\n",
      "Epoch 19/200\n",
      "17/17 [==============================] - 0s 23ms/step - loss: 0.7994 - accuracy: 0.8037 - val_loss: 0.8100 - val_accuracy: 0.7556\n",
      "Epoch 20/200\n",
      "17/17 [==============================] - 0s 26ms/step - loss: 0.7780 - accuracy: 0.8167 - val_loss: 0.7925 - val_accuracy: 0.7722\n",
      "Epoch 21/200\n",
      "17/17 [==============================] - 0s 24ms/step - loss: 0.7595 - accuracy: 0.8148 - val_loss: 0.7795 - val_accuracy: 0.7611\n",
      "Epoch 22/200\n",
      "17/17 [==============================] - 0s 22ms/step - loss: 0.7410 - accuracy: 0.8278 - val_loss: 0.7646 - val_accuracy: 0.7611\n",
      "Epoch 23/200\n",
      "17/17 [==============================] - 0s 22ms/step - loss: 0.7251 - accuracy: 0.8352 - val_loss: 0.7516 - val_accuracy: 0.7611\n",
      "Epoch 24/200\n",
      "17/17 [==============================] - 0s 22ms/step - loss: 0.7111 - accuracy: 0.8333 - val_loss: 0.7394 - val_accuracy: 0.7667\n",
      "Epoch 25/200\n",
      "17/17 [==============================] - 0s 22ms/step - loss: 0.6980 - accuracy: 0.8333 - val_loss: 0.7315 - val_accuracy: 0.7611\n",
      "Epoch 26/200\n",
      "17/17 [==============================] - 0s 25ms/step - loss: 0.6848 - accuracy: 0.8370 - val_loss: 0.7187 - val_accuracy: 0.7778\n",
      "Epoch 27/200\n",
      "17/17 [==============================] - 0s 24ms/step - loss: 0.6750 - accuracy: 0.8296 - val_loss: 0.7123 - val_accuracy: 0.7667\n",
      "Epoch 28/200\n",
      "17/17 [==============================] - 0s 24ms/step - loss: 0.6662 - accuracy: 0.8389 - val_loss: 0.7027 - val_accuracy: 0.7889\n",
      "Epoch 29/200\n",
      "17/17 [==============================] - 0s 28ms/step - loss: 0.6577 - accuracy: 0.8389 - val_loss: 0.6978 - val_accuracy: 0.7778\n",
      "Epoch 30/200\n",
      "17/17 [==============================] - 0s 24ms/step - loss: 0.6483 - accuracy: 0.8315 - val_loss: 0.6907 - val_accuracy: 0.8056\n",
      "Epoch 31/200\n",
      "17/17 [==============================] - 0s 23ms/step - loss: 0.6403 - accuracy: 0.8333 - val_loss: 0.6863 - val_accuracy: 0.8000\n",
      "Epoch 32/200\n",
      "17/17 [==============================] - 0s 23ms/step - loss: 0.6329 - accuracy: 0.8315 - val_loss: 0.6785 - val_accuracy: 0.8111\n",
      "Epoch 33/200\n",
      "17/17 [==============================] - 0s 22ms/step - loss: 0.6268 - accuracy: 0.8333 - val_loss: 0.6743 - val_accuracy: 0.8000\n",
      "Epoch 34/200\n",
      "17/17 [==============================] - 0s 24ms/step - loss: 0.6203 - accuracy: 0.8315 - val_loss: 0.6708 - val_accuracy: 0.8111\n",
      "Epoch 35/200\n",
      "17/17 [==============================] - 0s 23ms/step - loss: 0.6138 - accuracy: 0.8333 - val_loss: 0.6649 - val_accuracy: 0.8000\n",
      "Epoch 36/200\n",
      "17/17 [==============================] - 0s 23ms/step - loss: 0.6081 - accuracy: 0.8370 - val_loss: 0.6614 - val_accuracy: 0.8000\n",
      "Epoch 37/200\n",
      "17/17 [==============================] - 0s 22ms/step - loss: 0.6035 - accuracy: 0.8352 - val_loss: 0.6579 - val_accuracy: 0.8000\n",
      "Epoch 38/200\n",
      "17/17 [==============================] - 0s 25ms/step - loss: 0.5984 - accuracy: 0.8444 - val_loss: 0.6526 - val_accuracy: 0.8056\n",
      "Epoch 39/200\n",
      "17/17 [==============================] - 0s 21ms/step - loss: 0.5934 - accuracy: 0.8370 - val_loss: 0.6505 - val_accuracy: 0.8056\n",
      "Epoch 40/200\n",
      "17/17 [==============================] - 0s 23ms/step - loss: 0.5911 - accuracy: 0.8333 - val_loss: 0.6476 - val_accuracy: 0.7944\n",
      "Epoch 41/200\n",
      "17/17 [==============================] - 0s 24ms/step - loss: 0.5836 - accuracy: 0.8389 - val_loss: 0.6404 - val_accuracy: 0.8000\n",
      "Epoch 42/200\n",
      "17/17 [==============================] - 0s 24ms/step - loss: 0.5794 - accuracy: 0.8407 - val_loss: 0.6388 - val_accuracy: 0.8000\n",
      "Epoch 43/200\n",
      "17/17 [==============================] - 0s 24ms/step - loss: 0.5757 - accuracy: 0.8352 - val_loss: 0.6340 - val_accuracy: 0.8056\n",
      "Epoch 44/200\n",
      "17/17 [==============================] - 0s 27ms/step - loss: 0.5721 - accuracy: 0.8407 - val_loss: 0.6332 - val_accuracy: 0.7944\n",
      "Epoch 45/200\n",
      "17/17 [==============================] - 0s 24ms/step - loss: 0.5687 - accuracy: 0.8426 - val_loss: 0.6289 - val_accuracy: 0.8056\n",
      "Epoch 46/200\n",
      "17/17 [==============================] - 0s 27ms/step - loss: 0.5645 - accuracy: 0.8444 - val_loss: 0.6256 - val_accuracy: 0.8056\n",
      "Epoch 47/200\n",
      "17/17 [==============================] - 0s 23ms/step - loss: 0.5596 - accuracy: 0.8463 - val_loss: 0.6271 - val_accuracy: 0.8056\n",
      "Epoch 48/200\n",
      "17/17 [==============================] - 0s 28ms/step - loss: 0.5569 - accuracy: 0.8352 - val_loss: 0.6215 - val_accuracy: 0.8000\n",
      "Epoch 49/200\n",
      "17/17 [==============================] - 0s 27ms/step - loss: 0.5550 - accuracy: 0.8426 - val_loss: 0.6227 - val_accuracy: 0.8000\n",
      "Epoch 50/200\n",
      "17/17 [==============================] - 0s 26ms/step - loss: 0.5505 - accuracy: 0.8463 - val_loss: 0.6146 - val_accuracy: 0.8056\n",
      "Epoch 51/200\n",
      "17/17 [==============================] - 0s 24ms/step - loss: 0.5468 - accuracy: 0.8519 - val_loss: 0.6167 - val_accuracy: 0.8000\n",
      "Epoch 52/200\n",
      "17/17 [==============================] - 0s 22ms/step - loss: 0.5463 - accuracy: 0.8426 - val_loss: 0.6139 - val_accuracy: 0.8000\n",
      "Epoch 53/200\n",
      "17/17 [==============================] - 0s 24ms/step - loss: 0.5415 - accuracy: 0.8426 - val_loss: 0.6105 - val_accuracy: 0.7944\n",
      "Epoch 54/200\n",
      "17/17 [==============================] - 0s 27ms/step - loss: 0.5382 - accuracy: 0.8426 - val_loss: 0.6076 - val_accuracy: 0.8056\n",
      "Epoch 55/200\n",
      "17/17 [==============================] - 0s 24ms/step - loss: 0.5358 - accuracy: 0.8481 - val_loss: 0.6082 - val_accuracy: 0.8056\n",
      "Epoch 56/200\n",
      "17/17 [==============================] - 0s 26ms/step - loss: 0.5341 - accuracy: 0.8389 - val_loss: 0.6072 - val_accuracy: 0.7944\n",
      "Epoch 57/200\n",
      "17/17 [==============================] - 0s 27ms/step - loss: 0.5317 - accuracy: 0.8481 - val_loss: 0.6037 - val_accuracy: 0.7944\n",
      "Epoch 58/200\n",
      "17/17 [==============================] - 0s 24ms/step - loss: 0.5280 - accuracy: 0.8407 - val_loss: 0.6028 - val_accuracy: 0.7944\n",
      "Epoch 59/200\n",
      "17/17 [==============================] - 0s 25ms/step - loss: 0.5276 - accuracy: 0.8463 - val_loss: 0.6001 - val_accuracy: 0.7944\n",
      "Epoch 60/200\n",
      "17/17 [==============================] - 0s 24ms/step - loss: 0.5223 - accuracy: 0.8426 - val_loss: 0.5987 - val_accuracy: 0.7833\n",
      "Epoch 61/200\n",
      "17/17 [==============================] - 0s 24ms/step - loss: 0.5190 - accuracy: 0.8519 - val_loss: 0.5945 - val_accuracy: 0.8056\n",
      "Epoch 62/200\n",
      "17/17 [==============================] - 0s 27ms/step - loss: 0.5169 - accuracy: 0.8463 - val_loss: 0.5951 - val_accuracy: 0.8000\n",
      "Epoch 63/200\n",
      "17/17 [==============================] - 0s 22ms/step - loss: 0.5155 - accuracy: 0.8481 - val_loss: 0.5937 - val_accuracy: 0.8000\n",
      "Epoch 64/200\n",
      "17/17 [==============================] - 0s 26ms/step - loss: 0.5111 - accuracy: 0.8463 - val_loss: 0.5905 - val_accuracy: 0.7889\n",
      "Epoch 65/200\n",
      "17/17 [==============================] - 0s 28ms/step - loss: 0.5085 - accuracy: 0.8481 - val_loss: 0.5886 - val_accuracy: 0.7944\n",
      "Epoch 66/200\n",
      "17/17 [==============================] - 0s 25ms/step - loss: 0.5061 - accuracy: 0.8463 - val_loss: 0.5896 - val_accuracy: 0.7889\n",
      "Epoch 67/200\n",
      "17/17 [==============================] - 0s 25ms/step - loss: 0.5065 - accuracy: 0.8481 - val_loss: 0.5901 - val_accuracy: 0.7833\n",
      "Epoch 68/200\n",
      "17/17 [==============================] - 0s 26ms/step - loss: 0.5027 - accuracy: 0.8519 - val_loss: 0.5852 - val_accuracy: 0.7889\n",
      "Epoch 69/200\n",
      "17/17 [==============================] - 0s 24ms/step - loss: 0.5006 - accuracy: 0.8537 - val_loss: 0.5830 - val_accuracy: 0.7889\n",
      "Epoch 70/200\n",
      "17/17 [==============================] - 0s 25ms/step - loss: 0.4988 - accuracy: 0.8500 - val_loss: 0.5844 - val_accuracy: 0.7833\n",
      "Epoch 71/200\n",
      "17/17 [==============================] - 0s 29ms/step - loss: 0.4964 - accuracy: 0.8463 - val_loss: 0.5788 - val_accuracy: 0.7889\n",
      "Epoch 72/200\n",
      "17/17 [==============================] - 0s 27ms/step - loss: 0.4932 - accuracy: 0.8537 - val_loss: 0.5815 - val_accuracy: 0.7889\n",
      "Epoch 73/200\n",
      "17/17 [==============================] - 0s 23ms/step - loss: 0.4913 - accuracy: 0.8537 - val_loss: 0.5797 - val_accuracy: 0.7889\n",
      "Epoch 74/200\n",
      "17/17 [==============================] - 0s 22ms/step - loss: 0.4924 - accuracy: 0.8556 - val_loss: 0.5818 - val_accuracy: 0.7722\n",
      "Epoch 75/200\n",
      "17/17 [==============================] - 0s 20ms/step - loss: 0.4923 - accuracy: 0.8519 - val_loss: 0.5768 - val_accuracy: 0.7889\n",
      "Epoch 76/200\n",
      "17/17 [==============================] - 0s 25ms/step - loss: 0.4886 - accuracy: 0.8519 - val_loss: 0.5733 - val_accuracy: 0.7944\n",
      "Epoch 77/200\n",
      "17/17 [==============================] - 0s 20ms/step - loss: 0.4858 - accuracy: 0.8537 - val_loss: 0.5764 - val_accuracy: 0.7778\n",
      "Epoch 78/200\n",
      "17/17 [==============================] - 0s 23ms/step - loss: 0.4838 - accuracy: 0.8556 - val_loss: 0.5717 - val_accuracy: 0.8000\n",
      "Epoch 79/200\n",
      "17/17 [==============================] - 1s 32ms/step - loss: 0.4832 - accuracy: 0.8500 - val_loss: 0.5736 - val_accuracy: 0.7944\n",
      "Epoch 80/200\n",
      "17/17 [==============================] - 0s 23ms/step - loss: 0.4817 - accuracy: 0.8481 - val_loss: 0.5730 - val_accuracy: 0.7889\n",
      "Epoch 81/200\n",
      "17/17 [==============================] - 0s 27ms/step - loss: 0.4790 - accuracy: 0.8500 - val_loss: 0.5696 - val_accuracy: 0.7944\n",
      "Epoch 82/200\n",
      "17/17 [==============================] - 0s 20ms/step - loss: 0.4805 - accuracy: 0.8556 - val_loss: 0.5736 - val_accuracy: 0.7778\n",
      "Epoch 83/200\n",
      "17/17 [==============================] - 0s 20ms/step - loss: 0.4780 - accuracy: 0.8481 - val_loss: 0.5714 - val_accuracy: 0.7944\n",
      "Epoch 84/200\n",
      "17/17 [==============================] - 0s 22ms/step - loss: 0.4766 - accuracy: 0.8500 - val_loss: 0.5686 - val_accuracy: 0.7833\n",
      "Epoch 85/200\n",
      "17/17 [==============================] - 0s 22ms/step - loss: 0.4761 - accuracy: 0.8556 - val_loss: 0.5670 - val_accuracy: 0.8000\n",
      "Epoch 86/200\n",
      "17/17 [==============================] - 0s 22ms/step - loss: 0.4725 - accuracy: 0.8556 - val_loss: 0.5692 - val_accuracy: 0.7833\n",
      "Epoch 87/200\n",
      "17/17 [==============================] - 0s 22ms/step - loss: 0.4718 - accuracy: 0.8519 - val_loss: 0.5704 - val_accuracy: 0.7889\n",
      "Epoch 88/200\n",
      "17/17 [==============================] - 0s 21ms/step - loss: 0.4718 - accuracy: 0.8537 - val_loss: 0.5667 - val_accuracy: 0.7889\n",
      "Epoch 89/200\n",
      "17/17 [==============================] - 0s 30ms/step - loss: 0.4719 - accuracy: 0.8537 - val_loss: 0.5673 - val_accuracy: 0.7889\n",
      "Epoch 90/200\n",
      "17/17 [==============================] - 0s 27ms/step - loss: 0.4705 - accuracy: 0.8537 - val_loss: 0.5651 - val_accuracy: 0.7944\n",
      "Epoch 91/200\n",
      "17/17 [==============================] - 0s 24ms/step - loss: 0.4711 - accuracy: 0.8519 - val_loss: 0.5687 - val_accuracy: 0.7778\n",
      "Epoch 92/200\n",
      "17/17 [==============================] - 0s 24ms/step - loss: 0.4711 - accuracy: 0.8500 - val_loss: 0.5684 - val_accuracy: 0.7889\n",
      "Epoch 93/200\n",
      "17/17 [==============================] - 0s 22ms/step - loss: 0.4687 - accuracy: 0.8537 - val_loss: 0.5667 - val_accuracy: 0.7944\n",
      "Epoch 94/200\n",
      "17/17 [==============================] - 0s 22ms/step - loss: 0.4695 - accuracy: 0.8537 - val_loss: 0.5657 - val_accuracy: 0.7833\n",
      "Epoch 95/200\n",
      "17/17 [==============================] - 0s 22ms/step - loss: 0.4684 - accuracy: 0.8519 - val_loss: 0.5647 - val_accuracy: 0.7722\n",
      "Epoch 96/200\n",
      "17/17 [==============================] - 0s 23ms/step - loss: 0.4668 - accuracy: 0.8556 - val_loss: 0.5671 - val_accuracy: 0.7944\n",
      "Epoch 97/200\n",
      "17/17 [==============================] - 0s 21ms/step - loss: 0.4661 - accuracy: 0.8519 - val_loss: 0.5665 - val_accuracy: 0.7889\n",
      "Epoch 98/200\n",
      "17/17 [==============================] - 0s 22ms/step - loss: 0.4668 - accuracy: 0.8537 - val_loss: 0.5664 - val_accuracy: 0.7833\n",
      "Epoch 99/200\n",
      "17/17 [==============================] - 0s 23ms/step - loss: 0.4655 - accuracy: 0.8556 - val_loss: 0.5630 - val_accuracy: 0.8056\n",
      "Epoch 100/200\n",
      "17/17 [==============================] - 0s 22ms/step - loss: 0.4631 - accuracy: 0.8537 - val_loss: 0.5665 - val_accuracy: 0.7778\n",
      "Epoch 101/200\n",
      "17/17 [==============================] - 0s 22ms/step - loss: 0.4632 - accuracy: 0.8500 - val_loss: 0.5638 - val_accuracy: 0.7889\n",
      "Epoch 102/200\n",
      "17/17 [==============================] - 0s 22ms/step - loss: 0.4632 - accuracy: 0.8537 - val_loss: 0.5666 - val_accuracy: 0.7833\n",
      "Epoch 103/200\n",
      "17/17 [==============================] - 0s 23ms/step - loss: 0.4613 - accuracy: 0.8556 - val_loss: 0.5637 - val_accuracy: 0.7833\n",
      "Epoch 104/200\n",
      "17/17 [==============================] - 0s 21ms/step - loss: 0.4608 - accuracy: 0.8519 - val_loss: 0.5615 - val_accuracy: 0.8000\n",
      "Epoch 105/200\n",
      "17/17 [==============================] - 0s 22ms/step - loss: 0.4598 - accuracy: 0.8519 - val_loss: 0.5636 - val_accuracy: 0.7833\n",
      "Epoch 106/200\n",
      "17/17 [==============================] - 0s 22ms/step - loss: 0.4615 - accuracy: 0.8519 - val_loss: 0.5599 - val_accuracy: 0.7833\n",
      "Epoch 107/200\n",
      "17/17 [==============================] - 0s 22ms/step - loss: 0.4630 - accuracy: 0.8537 - val_loss: 0.5694 - val_accuracy: 0.7722\n",
      "Epoch 108/200\n",
      "17/17 [==============================] - 0s 22ms/step - loss: 0.4606 - accuracy: 0.8537 - val_loss: 0.5602 - val_accuracy: 0.7889\n",
      "Epoch 109/200\n",
      "17/17 [==============================] - 0s 22ms/step - loss: 0.4575 - accuracy: 0.8537 - val_loss: 0.5616 - val_accuracy: 0.7722\n",
      "Epoch 110/200\n",
      "17/17 [==============================] - 0s 23ms/step - loss: 0.4570 - accuracy: 0.8574 - val_loss: 0.5618 - val_accuracy: 0.7833\n",
      "Epoch 111/200\n",
      "17/17 [==============================] - 0s 21ms/step - loss: 0.4566 - accuracy: 0.8537 - val_loss: 0.5609 - val_accuracy: 0.7778\n",
      "Epoch 112/200\n",
      "17/17 [==============================] - 0s 21ms/step - loss: 0.4545 - accuracy: 0.8519 - val_loss: 0.5642 - val_accuracy: 0.7833\n",
      "Epoch 113/200\n",
      "17/17 [==============================] - 0s 23ms/step - loss: 0.4543 - accuracy: 0.8500 - val_loss: 0.5594 - val_accuracy: 0.7833\n",
      "Epoch 114/200\n",
      "17/17 [==============================] - 0s 22ms/step - loss: 0.4544 - accuracy: 0.8556 - val_loss: 0.5611 - val_accuracy: 0.7833\n",
      "Epoch 115/200\n",
      "17/17 [==============================] - 0s 23ms/step - loss: 0.4552 - accuracy: 0.8556 - val_loss: 0.5606 - val_accuracy: 0.7889\n",
      "Epoch 116/200\n",
      "17/17 [==============================] - 0s 22ms/step - loss: 0.4532 - accuracy: 0.8611 - val_loss: 0.5615 - val_accuracy: 0.7778\n",
      "Epoch 117/200\n",
      "17/17 [==============================] - 0s 22ms/step - loss: 0.4515 - accuracy: 0.8463 - val_loss: 0.5592 - val_accuracy: 0.7944\n",
      "Epoch 118/200\n",
      "17/17 [==============================] - 0s 24ms/step - loss: 0.4536 - accuracy: 0.8593 - val_loss: 0.5616 - val_accuracy: 0.7778\n",
      "Epoch 119/200\n",
      "17/17 [==============================] - 0s 24ms/step - loss: 0.4513 - accuracy: 0.8574 - val_loss: 0.5588 - val_accuracy: 0.7833\n",
      "Epoch 120/200\n",
      "17/17 [==============================] - 0s 27ms/step - loss: 0.4530 - accuracy: 0.8537 - val_loss: 0.5642 - val_accuracy: 0.7778\n",
      "Epoch 121/200\n",
      "17/17 [==============================] - 0s 21ms/step - loss: 0.4487 - accuracy: 0.8574 - val_loss: 0.5583 - val_accuracy: 0.7833\n",
      "Epoch 122/200\n",
      "17/17 [==============================] - 1s 49ms/step - loss: 0.4511 - accuracy: 0.8481 - val_loss: 0.5604 - val_accuracy: 0.7833\n",
      "Epoch 123/200\n",
      "17/17 [==============================] - 1s 43ms/step - loss: 0.4491 - accuracy: 0.8537 - val_loss: 0.5608 - val_accuracy: 0.7778\n",
      "Epoch 124/200\n",
      "17/17 [==============================] - 1s 31ms/step - loss: 0.4487 - accuracy: 0.8556 - val_loss: 0.5575 - val_accuracy: 0.7889\n",
      "Epoch 125/200\n",
      "17/17 [==============================] - 1s 29ms/step - loss: 0.4480 - accuracy: 0.8556 - val_loss: 0.5598 - val_accuracy: 0.7778\n",
      "Epoch 126/200\n",
      "17/17 [==============================] - 1s 29ms/step - loss: 0.4462 - accuracy: 0.8519 - val_loss: 0.5598 - val_accuracy: 0.7778\n",
      "Epoch 127/200\n",
      "17/17 [==============================] - 0s 28ms/step - loss: 0.4462 - accuracy: 0.8574 - val_loss: 0.5581 - val_accuracy: 0.7833\n",
      "Epoch 128/200\n",
      "17/17 [==============================] - 0s 27ms/step - loss: 0.4461 - accuracy: 0.8574 - val_loss: 0.5605 - val_accuracy: 0.7722\n",
      "Epoch 129/200\n",
      "17/17 [==============================] - 0s 27ms/step - loss: 0.4465 - accuracy: 0.8574 - val_loss: 0.5593 - val_accuracy: 0.7889\n",
      "Epoch 130/200\n",
      "17/17 [==============================] - 0s 25ms/step - loss: 0.4459 - accuracy: 0.8648 - val_loss: 0.5596 - val_accuracy: 0.7889\n",
      "Epoch 131/200\n",
      "17/17 [==============================] - 0s 29ms/step - loss: 0.4475 - accuracy: 0.8556 - val_loss: 0.5591 - val_accuracy: 0.7778\n",
      "Epoch 132/200\n",
      "17/17 [==============================] - 0s 27ms/step - loss: 0.4443 - accuracy: 0.8537 - val_loss: 0.5573 - val_accuracy: 0.7889\n",
      "Epoch 133/200\n",
      "17/17 [==============================] - 0s 22ms/step - loss: 0.4424 - accuracy: 0.8556 - val_loss: 0.5570 - val_accuracy: 0.7833\n",
      "Epoch 134/200\n",
      "17/17 [==============================] - 0s 25ms/step - loss: 0.4447 - accuracy: 0.8519 - val_loss: 0.5567 - val_accuracy: 0.7944\n",
      "Epoch 135/200\n",
      "17/17 [==============================] - 0s 22ms/step - loss: 0.4461 - accuracy: 0.8556 - val_loss: 0.5578 - val_accuracy: 0.7944\n",
      "Epoch 136/200\n",
      "17/17 [==============================] - 0s 20ms/step - loss: 0.4420 - accuracy: 0.8593 - val_loss: 0.5565 - val_accuracy: 0.7722\n",
      "Epoch 137/200\n",
      "17/17 [==============================] - 0s 22ms/step - loss: 0.4418 - accuracy: 0.8537 - val_loss: 0.5581 - val_accuracy: 0.7722\n",
      "Epoch 138/200\n",
      "17/17 [==============================] - 0s 21ms/step - loss: 0.4435 - accuracy: 0.8463 - val_loss: 0.5575 - val_accuracy: 0.7667\n",
      "Epoch 139/200\n",
      "17/17 [==============================] - 0s 19ms/step - loss: 0.4424 - accuracy: 0.8611 - val_loss: 0.5600 - val_accuracy: 0.7722\n",
      "Epoch 140/200\n",
      "17/17 [==============================] - 0s 17ms/step - loss: 0.4412 - accuracy: 0.8593 - val_loss: 0.5560 - val_accuracy: 0.7889\n",
      "Epoch 141/200\n",
      "17/17 [==============================] - 0s 21ms/step - loss: 0.4385 - accuracy: 0.8630 - val_loss: 0.5564 - val_accuracy: 0.7833\n",
      "Epoch 142/200\n",
      "17/17 [==============================] - 0s 21ms/step - loss: 0.4402 - accuracy: 0.8593 - val_loss: 0.5574 - val_accuracy: 0.7778\n",
      "Epoch 143/200\n",
      "17/17 [==============================] - 0s 24ms/step - loss: 0.4374 - accuracy: 0.8630 - val_loss: 0.5559 - val_accuracy: 0.7889\n",
      "Epoch 144/200\n",
      "17/17 [==============================] - 0s 20ms/step - loss: 0.4383 - accuracy: 0.8556 - val_loss: 0.5589 - val_accuracy: 0.7611\n",
      "Epoch 145/200\n",
      "17/17 [==============================] - 0s 19ms/step - loss: 0.4387 - accuracy: 0.8611 - val_loss: 0.5551 - val_accuracy: 0.7889\n",
      "Epoch 146/200\n",
      "17/17 [==============================] - 0s 17ms/step - loss: 0.4356 - accuracy: 0.8611 - val_loss: 0.5591 - val_accuracy: 0.7722\n",
      "Epoch 147/200\n",
      "17/17 [==============================] - 0s 17ms/step - loss: 0.4348 - accuracy: 0.8630 - val_loss: 0.5576 - val_accuracy: 0.7667\n",
      "Epoch 148/200\n",
      "17/17 [==============================] - 0s 17ms/step - loss: 0.4343 - accuracy: 0.8667 - val_loss: 0.5583 - val_accuracy: 0.7722\n",
      "Epoch 149/200\n",
      "17/17 [==============================] - 0s 20ms/step - loss: 0.4356 - accuracy: 0.8611 - val_loss: 0.5540 - val_accuracy: 0.7944\n",
      "Epoch 150/200\n",
      "17/17 [==============================] - 0s 20ms/step - loss: 0.4343 - accuracy: 0.8556 - val_loss: 0.5561 - val_accuracy: 0.7778\n",
      "Epoch 151/200\n",
      "17/17 [==============================] - 0s 18ms/step - loss: 0.4334 - accuracy: 0.8648 - val_loss: 0.5564 - val_accuracy: 0.7778\n",
      "Epoch 152/200\n",
      "17/17 [==============================] - 0s 19ms/step - loss: 0.4334 - accuracy: 0.8648 - val_loss: 0.5562 - val_accuracy: 0.7778\n",
      "Epoch 153/200\n",
      "17/17 [==============================] - 0s 20ms/step - loss: 0.4339 - accuracy: 0.8685 - val_loss: 0.5579 - val_accuracy: 0.7778\n",
      "Epoch 154/200\n",
      "17/17 [==============================] - 0s 19ms/step - loss: 0.4328 - accuracy: 0.8556 - val_loss: 0.5581 - val_accuracy: 0.7778\n",
      "Epoch 155/200\n",
      "17/17 [==============================] - 0s 19ms/step - loss: 0.4304 - accuracy: 0.8648 - val_loss: 0.5558 - val_accuracy: 0.7833\n",
      "Epoch 156/200\n",
      "17/17 [==============================] - 0s 22ms/step - loss: 0.4313 - accuracy: 0.8667 - val_loss: 0.5555 - val_accuracy: 0.7833\n",
      "Epoch 157/200\n",
      "17/17 [==============================] - 0s 18ms/step - loss: 0.4296 - accuracy: 0.8648 - val_loss: 0.5561 - val_accuracy: 0.7722\n",
      "Epoch 158/200\n",
      "17/17 [==============================] - 0s 19ms/step - loss: 0.4302 - accuracy: 0.8685 - val_loss: 0.5557 - val_accuracy: 0.7778\n",
      "Epoch 159/200\n",
      "17/17 [==============================] - 0s 20ms/step - loss: 0.4292 - accuracy: 0.8574 - val_loss: 0.5578 - val_accuracy: 0.7778\n",
      "Epoch 160/200\n",
      "17/17 [==============================] - 0s 17ms/step - loss: 0.4287 - accuracy: 0.8667 - val_loss: 0.5566 - val_accuracy: 0.7833\n",
      "Epoch 161/200\n",
      "17/17 [==============================] - 0s 18ms/step - loss: 0.4284 - accuracy: 0.8630 - val_loss: 0.5558 - val_accuracy: 0.7778\n",
      "Epoch 162/200\n",
      "17/17 [==============================] - 0s 19ms/step - loss: 0.4294 - accuracy: 0.8741 - val_loss: 0.5564 - val_accuracy: 0.7833\n",
      "Epoch 163/200\n",
      "17/17 [==============================] - 0s 17ms/step - loss: 0.4294 - accuracy: 0.8704 - val_loss: 0.5561 - val_accuracy: 0.7722\n",
      "Epoch 164/200\n",
      "17/17 [==============================] - 0s 19ms/step - loss: 0.4287 - accuracy: 0.8685 - val_loss: 0.5572 - val_accuracy: 0.7833\n",
      "Epoch 165/200\n",
      "17/17 [==============================] - 0s 18ms/step - loss: 0.4283 - accuracy: 0.8667 - val_loss: 0.5572 - val_accuracy: 0.7611\n",
      "Epoch 166/200\n",
      "17/17 [==============================] - 0s 18ms/step - loss: 0.4259 - accuracy: 0.8667 - val_loss: 0.5562 - val_accuracy: 0.7833\n",
      "Epoch 167/200\n",
      "17/17 [==============================] - 0s 19ms/step - loss: 0.4243 - accuracy: 0.8667 - val_loss: 0.5550 - val_accuracy: 0.7778\n",
      "Epoch 168/200\n",
      "17/17 [==============================] - 0s 18ms/step - loss: 0.4293 - accuracy: 0.8704 - val_loss: 0.5555 - val_accuracy: 0.7778\n",
      "Epoch 169/200\n",
      "17/17 [==============================] - 0s 17ms/step - loss: 0.4248 - accuracy: 0.8722 - val_loss: 0.5570 - val_accuracy: 0.7722\n",
      "Epoch 170/200\n",
      "17/17 [==============================] - 0s 17ms/step - loss: 0.4235 - accuracy: 0.8685 - val_loss: 0.5525 - val_accuracy: 0.7944\n",
      "Epoch 171/200\n",
      "17/17 [==============================] - 0s 18ms/step - loss: 0.4239 - accuracy: 0.8685 - val_loss: 0.5561 - val_accuracy: 0.7778\n",
      "Epoch 172/200\n",
      "17/17 [==============================] - 0s 19ms/step - loss: 0.4244 - accuracy: 0.8685 - val_loss: 0.5556 - val_accuracy: 0.7722\n",
      "Epoch 173/200\n",
      "17/17 [==============================] - 0s 27ms/step - loss: 0.4213 - accuracy: 0.8667 - val_loss: 0.5526 - val_accuracy: 0.7833\n",
      "Epoch 174/200\n",
      "17/17 [==============================] - 0s 20ms/step - loss: 0.4212 - accuracy: 0.8704 - val_loss: 0.5560 - val_accuracy: 0.7889\n",
      "Epoch 175/200\n",
      "17/17 [==============================] - 0s 21ms/step - loss: 0.4227 - accuracy: 0.8667 - val_loss: 0.5531 - val_accuracy: 0.7778\n",
      "Epoch 176/200\n",
      "17/17 [==============================] - 0s 19ms/step - loss: 0.4203 - accuracy: 0.8759 - val_loss: 0.5596 - val_accuracy: 0.7722\n",
      "Epoch 177/200\n",
      "17/17 [==============================] - 0s 18ms/step - loss: 0.4213 - accuracy: 0.8667 - val_loss: 0.5574 - val_accuracy: 0.7778\n",
      "Epoch 178/200\n",
      "17/17 [==============================] - 0s 20ms/step - loss: 0.4222 - accuracy: 0.8685 - val_loss: 0.5527 - val_accuracy: 0.7833\n",
      "Epoch 179/200\n",
      "17/17 [==============================] - 0s 16ms/step - loss: 0.4204 - accuracy: 0.8704 - val_loss: 0.5547 - val_accuracy: 0.7833\n",
      "Epoch 180/200\n",
      "17/17 [==============================] - 0s 17ms/step - loss: 0.4177 - accuracy: 0.8741 - val_loss: 0.5616 - val_accuracy: 0.7778\n",
      "Epoch 181/200\n",
      "17/17 [==============================] - 0s 16ms/step - loss: 0.4210 - accuracy: 0.8722 - val_loss: 0.5529 - val_accuracy: 0.7833\n",
      "Epoch 182/200\n",
      "17/17 [==============================] - 0s 20ms/step - loss: 0.4199 - accuracy: 0.8667 - val_loss: 0.5557 - val_accuracy: 0.7889\n",
      "Epoch 183/200\n",
      "17/17 [==============================] - 0s 24ms/step - loss: 0.4197 - accuracy: 0.8741 - val_loss: 0.5567 - val_accuracy: 0.7833\n",
      "Epoch 184/200\n",
      "17/17 [==============================] - 0s 22ms/step - loss: 0.4165 - accuracy: 0.8741 - val_loss: 0.5561 - val_accuracy: 0.7889\n",
      "Epoch 185/200\n",
      "17/17 [==============================] - 0s 20ms/step - loss: 0.4172 - accuracy: 0.8667 - val_loss: 0.5538 - val_accuracy: 0.7889\n",
      "Epoch 186/200\n",
      "17/17 [==============================] - 0s 19ms/step - loss: 0.4161 - accuracy: 0.8796 - val_loss: 0.5517 - val_accuracy: 0.7833\n",
      "Epoch 187/200\n",
      "17/17 [==============================] - 0s 17ms/step - loss: 0.4151 - accuracy: 0.8685 - val_loss: 0.5554 - val_accuracy: 0.7833\n",
      "Epoch 188/200\n",
      "17/17 [==============================] - 0s 17ms/step - loss: 0.4142 - accuracy: 0.8667 - val_loss: 0.5530 - val_accuracy: 0.7833\n",
      "Epoch 189/200\n",
      "17/17 [==============================] - 0s 17ms/step - loss: 0.4140 - accuracy: 0.8741 - val_loss: 0.5576 - val_accuracy: 0.7833\n",
      "Epoch 190/200\n",
      "17/17 [==============================] - 0s 17ms/step - loss: 0.4148 - accuracy: 0.8648 - val_loss: 0.5559 - val_accuracy: 0.7833\n",
      "Epoch 191/200\n",
      "17/17 [==============================] - 0s 18ms/step - loss: 0.4125 - accuracy: 0.8704 - val_loss: 0.5536 - val_accuracy: 0.7778\n",
      "Epoch 192/200\n",
      "17/17 [==============================] - 0s 17ms/step - loss: 0.4126 - accuracy: 0.8704 - val_loss: 0.5541 - val_accuracy: 0.7833\n",
      "Epoch 193/200\n",
      "17/17 [==============================] - 0s 17ms/step - loss: 0.4127 - accuracy: 0.8759 - val_loss: 0.5547 - val_accuracy: 0.7833\n",
      "Epoch 194/200\n",
      "17/17 [==============================] - 0s 17ms/step - loss: 0.4104 - accuracy: 0.8741 - val_loss: 0.5568 - val_accuracy: 0.7833\n",
      "Epoch 195/200\n",
      "17/17 [==============================] - 0s 16ms/step - loss: 0.4122 - accuracy: 0.8759 - val_loss: 0.5536 - val_accuracy: 0.7778\n",
      "Epoch 196/200\n",
      "17/17 [==============================] - 0s 17ms/step - loss: 0.4147 - accuracy: 0.8648 - val_loss: 0.5578 - val_accuracy: 0.7889\n",
      "Epoch 197/200\n",
      "17/17 [==============================] - 0s 16ms/step - loss: 0.4116 - accuracy: 0.8796 - val_loss: 0.5519 - val_accuracy: 0.7833\n",
      "Epoch 198/200\n",
      "17/17 [==============================] - 0s 17ms/step - loss: 0.4086 - accuracy: 0.8778 - val_loss: 0.5582 - val_accuracy: 0.7833\n",
      "Epoch 199/200\n",
      "17/17 [==============================] - 0s 18ms/step - loss: 0.4085 - accuracy: 0.8796 - val_loss: 0.5545 - val_accuracy: 0.7833\n",
      "Epoch 200/200\n",
      "17/17 [==============================] - 0s 16ms/step - loss: 0.4092 - accuracy: 0.8778 - val_loss: 0.5546 - val_accuracy: 0.7778\n"
     ]
    }
   ],
   "source": [
    "history = conv_model.fit(X_train_norm, Y_train, epochs=200, validation_data=(X_valid_norm, Y_valid))\n",
    "# history2 = conv_model.fit(X_train, Y_train, epochs=100, validation_data=(X_valid, Y_valid))"
   ]
  },
  {
   "cell_type": "code",
   "execution_count": 12,
   "id": "c2a4bb06",
   "metadata": {},
   "outputs": [
    {
     "name": "stderr",
     "output_type": "stream",
     "text": [
      "E:\\Anaconda3\\lib\\site-packages\\pandas\\core\\frame.py:5039: SettingWithCopyWarning: \n",
      "A value is trying to be set on a copy of a slice from a DataFrame\n",
      "\n",
      "See the caveats in the documentation: https://pandas.pydata.org/pandas-docs/stable/user_guide/indexing.html#returning-a-view-versus-a-copy\n",
      "  return super().rename(\n"
     ]
    },
    {
     "data": {
      "text/plain": [
       "[Text(0.5, 0, 'Epoch'), Text(0, 0.5, 'Accuracy')]"
      ]
     },
     "execution_count": 12,
     "metadata": {},
     "output_type": "execute_result"
    },
    {
     "data": {
      "image/png": "[encoded data removed]",
      "text/plain": [
       "<Figure size 432x288 with 1 Axes>"
      ]
     },
     "metadata": {
      "needs_background": "light"
     },
     "output_type": "display_data"
    },
    {
     "data": {
      "image/png": "[encoded data removed]",
      "text/plain": [
       "<Figure size 432x288 with 1 Axes>"
      ]
     },
     "metadata": {
      "needs_background": "light"
     },
     "output_type": "display_data"
    }
   ],
   "source": [
    "df_loss_acc = pd.DataFrame(history.history)\n",
    "df_loss= df_loss_acc[['loss','val_loss']]\n",
    "df_loss.rename(columns={'loss':'train','val_loss':'validation'},inplace=True)\n",
    "df_acc= df_loss_acc[['accuracy','val_accuracy']]\n",
    "df_acc.rename(columns={'accuracy':'train','val_accuracy':'validation'},inplace=True)\n",
    "df_loss.plot(title='Model loss',figsize=(6,4)).set(xlabel='Epoch',ylabel='Loss')\n",
    "df_acc.plot(title='Model Accuracy',figsize=(6,4)).set(xlabel='Epoch',ylabel='Accuracy')"
   ]
  },
  {
   "cell_type": "code",
   "execution_count": 48,
   "id": "f926a8e9",
   "metadata": {},
   "outputs": [
    {
     "name": "stdout",
     "output_type": "stream",
     "text": [
      "6/6 [==============================] - 0s 7ms/step\n"
     ]
    },
    {
     "data": {
      "text/plain": [
       "[Text(0.5, 15.0, 'prediction'), Text(33.0, 0.5, 'actual')]"
      ]
     },
     "execution_count": 48,
     "metadata": {},
     "output_type": "execute_result"
    },
    {
     "data": {
      "image/png": "[encoded data removed]",
      "text/plain": [
       "<Figure size 432x288 with 2 Axes>"
      ]
     },
     "metadata": {
      "needs_background": "light"
     },
     "output_type": "display_data"
    }
   ],
   "source": [
    "Y_pred = conv_model.predict(X_test)\n",
    "Y_test_numpy = Y_test.numpy()\n",
    "emotion_pred = []\n",
    "emotion_test = []\n",
    "for i in range(len(Y_pred)):\n",
    "    if (Y_pred[i][0] > 0.5):\n",
    "        emotion_pred.append(0) # angry\n",
    "    elif (Y_pred[i][1] > 0.5):\n",
    "        emotion_pred.append(1) # happy\n",
    "    elif (Y_pred[i][2] > 0.5):\n",
    "        emotion_pred.append(2) # normal\n",
    "    else:\n",
    "        emotion_pred.append(3) # not decided\n",
    "\n",
    "    if (Y_test_numpy[i][0] > 0.5):\n",
    "        emotion_test.append(0)\n",
    "    elif (Y_test_numpy[i][1] > 0.5):\n",
    "        emotion_test.append(1)\n",
    "    elif (Y_test_numpy[i][2] > 0.5):\n",
    "        emotion_test.append(2)\n",
    "\n",
    "emotion_test = tf.convert_to_tensor(emotion_test)\n",
    "emotion_pred = tf.convert_to_tensor(emotion_pred)\n",
    "\n",
    "confusion = tf.math.confusion_matrix(emotion_test, emotion_pred, num_classes = 4)\n",
    "\n",
    "df=pd.DataFrame(confusion.numpy(),index=['angry', 'happy', 'normal', 'not sure'],columns=['angry', 'happy', 'normal', 'not sure'])\n",
    "confusiton_map = sn.heatmap(df,annot=True, cmap='crest')\n",
    "confusiton_map.set(xlabel=\"prediction\", ylabel=\"actual\")"
   ]
  }
 ],
 "metadata": {
  "kernelspec": {
   "display_name": "Python 3 (ipykernel)",
   "language": "python",
   "name": "python3"
  },
  "language_info": {
   "codemirror_mode": {
    "name": "ipython",
    "version": 3
   },
   "file_extension": ".py",
   "mimetype": "text/x-python",
   "name": "python",
   "nbconvert_exporter": "python",
   "pygments_lexer": "ipython3",
   "version": "3.9.7"
  }
 },
 "nbformat": 4,
 "nbformat_minor": 5
}
