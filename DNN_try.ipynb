{
 "cells": [
  {
   "cell_type": "code",
   "execution_count": 1,
   "id": "bfc4a234",
   "metadata": {},
   "outputs": [],
   "source": [
    "import numpy as np\n",
    "import pandas as pd\n",
    "import os\n",
    "from matplotlib import pyplot as plt\n",
    "import random\n",
    "import tensorflow as tf\n",
    "from tensorflow import keras\n",
    "import keras.layers as tfl\n",
    "from keras.models import Sequential\n",
    "from tensorflow import keras"
   ]
  },
  {
   "cell_type": "code",
   "execution_count": 2,
   "id": "45ee0a1a",
   "metadata": {},
   "outputs": [],
   "source": [
    "# All mfcc data are contained in numpy_datas, which is a list. \n",
    "# The each entry of the list is another list consistes of [mfccs, file name]\n",
    "MFCCs_DATA = \"MFCCsData\"\n",
    "numpy_datas = []\n",
    "\n",
    "dirlist = os.listdir(MFCCs_DATA)\n",
    "for d in dirlist:\n",
    "    d = os.path.join(MFCCs_DATA, d)\n",
    "    datalist = os.listdir(d)\n",
    "    datalist = [[np.load(os.path.join(d,x)), os.path.join(d,x)] for x in datalist]\n",
    "    numpy_datas.extend(datalist)"
   ]
  },
  {
   "cell_type": "code",
   "execution_count": 3,
   "id": "75cdeba6",
   "metadata": {},
   "outputs": [
    {
     "data": {
      "text/plain": [
       "1117"
      ]
     },
     "execution_count": 3,
     "metadata": {},
     "output_type": "execute_result"
    }
   ],
   "source": [
    "# find the max size of mfcc and use it to reshape all mfccs into the same shape\n",
    "mfcc_size = []\n",
    "for i in range(len(numpy_datas)):\n",
    "    mfcc_size.append(numpy_datas[i][0].shape[1])\n",
    "max(mfcc_size)"
   ]
  },
  {
   "cell_type": "code",
   "execution_count": 4,
   "id": "cd92db82",
   "metadata": {},
   "outputs": [],
   "source": [
    "# resize into (19,1117) and flatten into (19*1117,1)\n",
    "for i in range(len(numpy_datas)):\n",
    "    numpy_datas[i][0] = np.resize(np.resize(numpy_datas[i][0], (19,1117)), (19*1117,1))"
   ]
  },
  {
   "cell_type": "code",
   "execution_count": 5,
   "id": "1154914e",
   "metadata": {},
   "outputs": [],
   "source": [
    "# change file name to correct label\n",
    "angry = []\n",
    "happy = []\n",
    "normal = []\n",
    "\n",
    "for i in range(len(numpy_datas)):\n",
    "    file_name = numpy_datas[i][1]\n",
    "    if \"angry\" in file_name:\n",
    "        numpy_datas[i][1] = np.array([1,0,0])\n",
    "        angry.append(numpy_datas[i])\n",
    "    elif \"happy\" in file_name:\n",
    "        numpy_datas[i][1] = np.array([0,1,0])\n",
    "        happy.append(numpy_datas[i])\n",
    "    else:\n",
    "        numpy_datas[i][1] = np.array([0,0,1])\n",
    "        normal.append(numpy_datas[i])"
   ]
  },
  {
   "cell_type": "code",
   "execution_count": 6,
   "id": "19ce2f3e",
   "metadata": {},
   "outputs": [],
   "source": [
    "# first shuffle the list of each emotion\n",
    "random.shuffle(angry)\n",
    "random.shuffle(happy)\n",
    "random.shuffle(normal)"
   ]
  },
  {
   "cell_type": "code",
   "execution_count": 7,
   "id": "7f2570b5",
   "metadata": {},
   "outputs": [],
   "source": [
    "# then select the first 180 in each emotion as train data, first 60 in each emotion as valid data, and first 60 in each emotion as test data\n",
    "train_data = angry[:int(len(angry)*0.6)] + happy[:int(len(happy)*0.6)] + normal[:int(len(normal)*0.6)]\n",
    "valid_data = angry[int(len(angry)*0.6):int(len(angry)*(0.6+0.2))] + happy[int(len(happy)*0.6):int(len(happy)*(0.6+0.2))] + normal[int(len(normal)*0.6):int(len(normal)*(0.6+0.2))]\n",
    "test_data = angry[int(len(angry)*(0.6+0.2)):] + happy[int(len(happy)*(0.6+0.2)):] + normal[int(len(normal)*(0.6+0.2)):]\n",
    "random.shuffle(train_data)\n",
    "random.shuffle(valid_data)\n",
    "random.shuffle(test_data)"
   ]
  },
  {
   "cell_type": "code",
   "execution_count": 8,
   "id": "11d53a19",
   "metadata": {},
   "outputs": [],
   "source": [
    "# train, valid, test data are all in list consistes of [mfccs, file name]\n",
    "# want to change the list to two outputs:\n",
    "# X: vector of mfccs\n",
    "# Y: vector of labels\n",
    "def data2vector(data):\n",
    "    X = []\n",
    "    Y = []\n",
    "    for i in range(len(data)):\n",
    "        X.append(data[i][0])\n",
    "        Y.append(data[i][1])\n",
    "    X = np.array(X)\n",
    "    Y = np.array(Y)\n",
    "    return X,Y"
   ]
  },
  {
   "cell_type": "code",
   "execution_count": 9,
   "id": "0af35c31",
   "metadata": {},
   "outputs": [],
   "source": [
    "X_train, Y_train = data2vector(train_data)\n",
    "X_valid, Y_valid = data2vector(valid_data)\n",
    "X_test, Y_test = data2vector(test_data)\n",
    "\n",
    "# calcualte mean and standard deviation\n",
    "X_train_miu = np.average(X_train, axis=0)\n",
    "X_train_std = np.std(X_train, axis=0)\n",
    "\n",
    "# normalization\n",
    "X_train_norm = (X_train - X_train_miu)/X_train_std\n",
    "X_valid_norm = (X_valid - X_train_miu)/X_train_std\n",
    "X_test_norm = (X_test - X_train_miu)/X_train_std"
   ]
  },
  {
   "cell_type": "code",
   "execution_count": 10,
   "id": "65604023",
   "metadata": {},
   "outputs": [],
   "source": [
    "# convert array to tensor\n",
    "X_train_norm = tf.convert_to_tensor(X_train_norm)\n",
    "X_valid_norm = tf.convert_to_tensor(X_valid_norm)\n",
    "X_test_norm = tf.convert_to_tensor(X_test_norm)\n",
    "Y_train = tf.convert_to_tensor(Y_train)\n",
    "Y_valid = tf.convert_to_tensor(Y_valid)\n",
    "Y_test = tf.convert_to_tensor(Y_test)"
   ]
  },
  {
   "cell_type": "markdown",
   "id": "e02d7b2f",
   "metadata": {},
   "source": [
    "Now we build a 3 layer neuronetwork: linear -> leakyrelu -> linear -> leakyrelu -> linear -> softmax"
   ]
  },
  {
   "cell_type": "code",
   "execution_count": 11,
   "id": "5843650f",
   "metadata": {},
   "outputs": [],
   "source": [
    "dnn_model = Sequential()\n",
    "dnn_model.add(tfl.Dense(16, input_shape=(1117*19,),\n",
    "                        kernel_initializer='he_normal', bias_initializer='zeros', \n",
    "                        activity_regularizer=tf.keras.regularizers.L2(0.2)\n",
    "                       )\n",
    "             )\n",
    "dnn_model.add(tfl.LeakyReLU(alpha=0.05))\n",
    "dnn_model.add(tfl.Dense(8, \n",
    "                        kernel_initializer='he_normal', bias_initializer='zeros', \n",
    "                        activity_regularizer=tf.keras.regularizers.L2(0.2)\n",
    "                       )\n",
    "             )\n",
    "dnn_model.add(tfl.LeakyReLU(alpha=0.05))\n",
    "dnn_model.add(tfl.Dense(3,\n",
    "                        kernel_initializer='glorot_normal', bias_initializer='zeros',\n",
    "                        activity_regularizer=tf.keras.regularizers.L2(0.2)\n",
    "                       )\n",
    "             )"
   ]
  },
  {
   "cell_type": "code",
   "execution_count": 12,
   "id": "3a2bacbf",
   "metadata": {},
   "outputs": [
    {
     "name": "stdout",
     "output_type": "stream",
     "text": [
      "Model: \"sequential\"\n",
      "_________________________________________________________________\n",
      " Layer (type)                Output Shape              Param #   \n",
      "=================================================================\n",
      " dense (Dense)               (None, 16)                339584    \n",
      "                                                                 \n",
      " leaky_re_lu (LeakyReLU)     (None, 16)                0         \n",
      "                                                                 \n",
      " dense_1 (Dense)             (None, 8)                 136       \n",
      "                                                                 \n",
      " leaky_re_lu_1 (LeakyReLU)   (None, 8)                 0         \n",
      "                                                                 \n",
      " dense_2 (Dense)             (None, 3)                 27        \n",
      "                                                                 \n",
      "=================================================================\n",
      "Total params: 339,747\n",
      "Trainable params: 339,747\n",
      "Non-trainable params: 0\n",
      "_________________________________________________________________\n"
     ]
    }
   ],
   "source": [
    "opt = keras.optimizers.Adam(learning_rate=0.0001)\n",
    "dnn_model.compile(optimizer=opt,\n",
    "                  loss='categorical_crossentropy',\n",
    "                  metrics=['accuracy'])\n",
    "dnn_model.summary()"
   ]
  },
  {
   "cell_type": "code",
   "execution_count": 13,
   "id": "08aab98e",
   "metadata": {},
   "outputs": [
    {
     "name": "stdout",
     "output_type": "stream",
     "text": [
      "Epoch 1/100\n",
      "17/17 [==============================] - 2s 39ms/step - loss: 12.3375 - accuracy: 0.3315 - val_loss: 11.9141 - val_accuracy: 0.2722\n",
      "Epoch 2/100\n",
      "17/17 [==============================] - 0s 12ms/step - loss: 9.5730 - accuracy: 0.2056 - val_loss: 11.0605 - val_accuracy: 0.3056\n",
      "Epoch 3/100\n",
      "17/17 [==============================] - 0s 11ms/step - loss: 8.1959 - accuracy: 0.2296 - val_loss: 11.3978 - val_accuracy: 0.2833\n",
      "Epoch 4/100\n",
      "17/17 [==============================] - 0s 12ms/step - loss: 7.9266 - accuracy: 0.1926 - val_loss: 11.0710 - val_accuracy: 0.2556\n",
      "Epoch 5/100\n",
      "17/17 [==============================] - 0s 11ms/step - loss: 8.4341 - accuracy: 0.2074 - val_loss: 11.6412 - val_accuracy: 0.2944\n",
      "Epoch 6/100\n",
      "17/17 [==============================] - 0s 11ms/step - loss: 8.8515 - accuracy: 0.2278 - val_loss: 11.6506 - val_accuracy: 0.2611\n",
      "Epoch 7/100\n",
      "17/17 [==============================] - 0s 11ms/step - loss: 8.1090 - accuracy: 0.1963 - val_loss: 11.0141 - val_accuracy: 0.2889\n",
      "Epoch 8/100\n",
      "17/17 [==============================] - 0s 11ms/step - loss: 8.8120 - accuracy: 0.1333 - val_loss: 12.5981 - val_accuracy: 0.2167\n",
      "Epoch 9/100\n",
      "17/17 [==============================] - 0s 11ms/step - loss: 9.3236 - accuracy: 0.1370 - val_loss: 12.6903 - val_accuracy: 0.2611\n",
      "Epoch 10/100\n",
      "17/17 [==============================] - 0s 11ms/step - loss: 8.9163 - accuracy: 0.2222 - val_loss: 11.1731 - val_accuracy: 0.3333\n",
      "Epoch 11/100\n",
      "17/17 [==============================] - 0s 11ms/step - loss: 8.3509 - accuracy: 0.2333 - val_loss: 10.9955 - val_accuracy: 0.3278\n",
      "Epoch 12/100\n",
      "17/17 [==============================] - 0s 11ms/step - loss: 8.1822 - accuracy: 0.1815 - val_loss: 11.6307 - val_accuracy: 0.2556\n",
      "Epoch 13/100\n",
      "17/17 [==============================] - 0s 11ms/step - loss: 8.2593 - accuracy: 0.1241 - val_loss: 11.5171 - val_accuracy: 0.2556\n",
      "Epoch 14/100\n",
      "17/17 [==============================] - 0s 11ms/step - loss: 9.4785 - accuracy: 0.2037 - val_loss: 14.3011 - val_accuracy: 0.2278\n",
      "Epoch 15/100\n",
      "17/17 [==============================] - 0s 11ms/step - loss: 10.6182 - accuracy: 0.2259 - val_loss: 14.6088 - val_accuracy: 0.2278\n",
      "Epoch 16/100\n",
      "17/17 [==============================] - 0s 11ms/step - loss: 14.4870 - accuracy: 0.1963 - val_loss: 15.4575 - val_accuracy: 0.2722\n",
      "Epoch 17/100\n",
      "17/17 [==============================] - 0s 11ms/step - loss: 11.8690 - accuracy: 0.2056 - val_loss: 12.5067 - val_accuracy: 0.2944\n",
      "Epoch 18/100\n",
      "17/17 [==============================] - 0s 11ms/step - loss: 9.7518 - accuracy: 0.2185 - val_loss: 12.0368 - val_accuracy: 0.2889\n",
      "Epoch 19/100\n",
      "17/17 [==============================] - 0s 11ms/step - loss: 9.4285 - accuracy: 0.1981 - val_loss: 11.6638 - val_accuracy: 0.3000\n",
      "Epoch 20/100\n",
      "17/17 [==============================] - 0s 11ms/step - loss: 8.9180 - accuracy: 0.1667 - val_loss: 12.1552 - val_accuracy: 0.2889\n",
      "Epoch 21/100\n",
      "17/17 [==============================] - 0s 11ms/step - loss: 8.9880 - accuracy: 0.1833 - val_loss: 12.6223 - val_accuracy: 0.3333\n",
      "Epoch 22/100\n",
      "17/17 [==============================] - 0s 11ms/step - loss: 9.7120 - accuracy: 0.1889 - val_loss: 12.6104 - val_accuracy: 0.2444\n",
      "Epoch 23/100\n",
      "17/17 [==============================] - 0s 12ms/step - loss: 9.8605 - accuracy: 0.1648 - val_loss: 11.5580 - val_accuracy: 0.2833\n",
      "Epoch 24/100\n",
      "17/17 [==============================] - 0s 11ms/step - loss: 9.1332 - accuracy: 0.1926 - val_loss: 10.5477 - val_accuracy: 0.3056\n",
      "Epoch 25/100\n",
      "17/17 [==============================] - 0s 11ms/step - loss: 8.2545 - accuracy: 0.2130 - val_loss: 11.4769 - val_accuracy: 0.2722\n",
      "Epoch 26/100\n",
      "17/17 [==============================] - 0s 11ms/step - loss: 9.4105 - accuracy: 0.2037 - val_loss: 11.2167 - val_accuracy: 0.2667\n",
      "Epoch 27/100\n",
      "17/17 [==============================] - 0s 11ms/step - loss: 9.4488 - accuracy: 0.2037 - val_loss: 10.2918 - val_accuracy: 0.2889\n",
      "Epoch 28/100\n",
      "17/17 [==============================] - 0s 11ms/step - loss: 8.6596 - accuracy: 0.2167 - val_loss: 9.9531 - val_accuracy: 0.2889\n",
      "Epoch 29/100\n",
      "17/17 [==============================] - 0s 11ms/step - loss: 7.5036 - accuracy: 0.2222 - val_loss: 10.2223 - val_accuracy: 0.3000\n",
      "Epoch 30/100\n",
      "17/17 [==============================] - 0s 11ms/step - loss: 8.4752 - accuracy: 0.2241 - val_loss: 12.1856 - val_accuracy: 0.2944\n",
      "Epoch 31/100\n",
      "17/17 [==============================] - 0s 11ms/step - loss: 10.4097 - accuracy: 0.2111 - val_loss: 11.9242 - val_accuracy: 0.3000\n",
      "Epoch 32/100\n",
      "17/17 [==============================] - 0s 11ms/step - loss: 9.5554 - accuracy: 0.1759 - val_loss: 11.2861 - val_accuracy: 0.2278\n",
      "Epoch 33/100\n",
      "17/17 [==============================] - 0s 11ms/step - loss: 8.9988 - accuracy: 0.1759 - val_loss: 12.3744 - val_accuracy: 0.3056\n",
      "Epoch 34/100\n",
      "17/17 [==============================] - 0s 11ms/step - loss: 10.6594 - accuracy: 0.2185 - val_loss: 13.4894 - val_accuracy: 0.3111\n",
      "Epoch 35/100\n",
      "17/17 [==============================] - 0s 11ms/step - loss: 9.6818 - accuracy: 0.2019 - val_loss: 12.6469 - val_accuracy: 0.3056\n",
      "Epoch 36/100\n",
      "17/17 [==============================] - 0s 11ms/step - loss: 9.5477 - accuracy: 0.1815 - val_loss: 13.1996 - val_accuracy: 0.2944\n",
      "Epoch 37/100\n",
      "17/17 [==============================] - 0s 12ms/step - loss: 10.3421 - accuracy: 0.2056 - val_loss: 12.4205 - val_accuracy: 0.2944\n",
      "Epoch 38/100\n",
      "17/17 [==============================] - 0s 11ms/step - loss: 10.3642 - accuracy: 0.1611 - val_loss: 16.7132 - val_accuracy: 0.2889\n",
      "Epoch 39/100\n",
      "17/17 [==============================] - 0s 11ms/step - loss: 20.2166 - accuracy: 0.1722 - val_loss: 21.5105 - val_accuracy: 0.2611\n",
      "Epoch 40/100\n",
      "17/17 [==============================] - 0s 11ms/step - loss: 20.2622 - accuracy: 0.1574 - val_loss: 18.8734 - val_accuracy: 0.2556\n",
      "Epoch 41/100\n",
      "17/17 [==============================] - 0s 11ms/step - loss: 18.0731 - accuracy: 0.1593 - val_loss: 16.6009 - val_accuracy: 0.2889\n",
      "Epoch 42/100\n",
      "17/17 [==============================] - 0s 11ms/step - loss: 14.6372 - accuracy: 0.1778 - val_loss: 15.2003 - val_accuracy: 0.3278\n",
      "Epoch 43/100\n",
      "17/17 [==============================] - 0s 11ms/step - loss: 12.9049 - accuracy: 0.1685 - val_loss: 14.0266 - val_accuracy: 0.2944\n",
      "Epoch 44/100\n",
      "17/17 [==============================] - 0s 11ms/step - loss: 11.4936 - accuracy: 0.1537 - val_loss: 13.9074 - val_accuracy: 0.3000\n",
      "Epoch 45/100\n",
      "17/17 [==============================] - 0s 11ms/step - loss: 10.8573 - accuracy: 0.1519 - val_loss: 13.3528 - val_accuracy: 0.2667\n",
      "Epoch 46/100\n",
      "17/17 [==============================] - 0s 11ms/step - loss: 11.4354 - accuracy: 0.1481 - val_loss: 12.7683 - val_accuracy: 0.2722\n",
      "Epoch 47/100\n",
      "17/17 [==============================] - 0s 11ms/step - loss: 10.8425 - accuracy: 0.1593 - val_loss: 12.3654 - val_accuracy: 0.2944\n",
      "Epoch 48/100\n",
      "17/17 [==============================] - 0s 11ms/step - loss: 9.9213 - accuracy: 0.1333 - val_loss: 12.2025 - val_accuracy: 0.2944\n",
      "Epoch 49/100\n",
      "17/17 [==============================] - 0s 11ms/step - loss: 10.3695 - accuracy: 0.1481 - val_loss: 13.5322 - val_accuracy: 0.3111\n",
      "Epoch 50/100\n",
      "17/17 [==============================] - 0s 11ms/step - loss: 9.7220 - accuracy: 0.1630 - val_loss: 11.7627 - val_accuracy: 0.3222\n",
      "Epoch 51/100\n",
      "17/17 [==============================] - 0s 12ms/step - loss: 10.9859 - accuracy: 0.1611 - val_loss: 21.7805 - val_accuracy: 0.2611\n",
      "Epoch 52/100\n",
      "17/17 [==============================] - 0s 11ms/step - loss: 25.6749 - accuracy: 0.2222 - val_loss: 35.0134 - val_accuracy: 0.2444\n",
      "Epoch 53/100\n",
      "17/17 [==============================] - 0s 11ms/step - loss: 39.5276 - accuracy: 0.2185 - val_loss: 38.1862 - val_accuracy: 0.2500\n",
      "Epoch 54/100\n",
      "17/17 [==============================] - 0s 13ms/step - loss: 38.8018 - accuracy: 0.1981 - val_loss: 35.5219 - val_accuracy: 0.2278\n",
      "Epoch 55/100\n",
      "17/17 [==============================] - 0s 11ms/step - loss: 35.7690 - accuracy: 0.2037 - val_loss: 33.1924 - val_accuracy: 0.2111\n",
      "Epoch 56/100\n",
      "17/17 [==============================] - 0s 12ms/step - loss: 32.8287 - accuracy: 0.2019 - val_loss: 30.3607 - val_accuracy: 0.2222\n",
      "Epoch 57/100\n",
      "17/17 [==============================] - 0s 12ms/step - loss: 29.9051 - accuracy: 0.2019 - val_loss: 28.2543 - val_accuracy: 0.2222\n",
      "Epoch 58/100\n",
      "17/17 [==============================] - 0s 12ms/step - loss: 27.6538 - accuracy: 0.1963 - val_loss: 26.4338 - val_accuracy: 0.2278\n",
      "Epoch 59/100\n",
      "17/17 [==============================] - 0s 12ms/step - loss: 26.0784 - accuracy: 0.1833 - val_loss: 26.1470 - val_accuracy: 0.2056\n",
      "Epoch 60/100\n",
      "17/17 [==============================] - 0s 12ms/step - loss: 26.5828 - accuracy: 0.1833 - val_loss: 25.3748 - val_accuracy: 0.2111\n",
      "Epoch 61/100\n",
      "17/17 [==============================] - 0s 11ms/step - loss: 24.9722 - accuracy: 0.1741 - val_loss: 23.5619 - val_accuracy: 0.2444\n",
      "Epoch 62/100\n",
      "17/17 [==============================] - 0s 12ms/step - loss: 23.2177 - accuracy: 0.1537 - val_loss: 22.6636 - val_accuracy: 0.2444\n",
      "Epoch 63/100\n",
      "17/17 [==============================] - 0s 11ms/step - loss: 21.9785 - accuracy: 0.1648 - val_loss: 21.9335 - val_accuracy: 0.2333\n",
      "Epoch 64/100\n",
      "17/17 [==============================] - 0s 11ms/step - loss: 20.9491 - accuracy: 0.1667 - val_loss: 21.3877 - val_accuracy: 0.2278\n",
      "Epoch 65/100\n",
      "17/17 [==============================] - 0s 11ms/step - loss: 19.8622 - accuracy: 0.1611 - val_loss: 20.8975 - val_accuracy: 0.2389\n",
      "Epoch 66/100\n",
      "17/17 [==============================] - 0s 11ms/step - loss: 19.3464 - accuracy: 0.1556 - val_loss: 20.3617 - val_accuracy: 0.2222\n",
      "Epoch 67/100\n",
      "17/17 [==============================] - 0s 11ms/step - loss: 18.6765 - accuracy: 0.1593 - val_loss: 19.9355 - val_accuracy: 0.2222\n",
      "Epoch 68/100\n",
      "17/17 [==============================] - 0s 11ms/step - loss: 18.2954 - accuracy: 0.1593 - val_loss: 19.5921 - val_accuracy: 0.2278\n",
      "Epoch 69/100\n",
      "17/17 [==============================] - 0s 12ms/step - loss: 17.7686 - accuracy: 0.1630 - val_loss: 19.4335 - val_accuracy: 0.2500\n",
      "Epoch 70/100\n",
      "17/17 [==============================] - 0s 13ms/step - loss: 17.6633 - accuracy: 0.1889 - val_loss: 19.1986 - val_accuracy: 0.2667\n",
      "Epoch 71/100\n",
      "17/17 [==============================] - 0s 12ms/step - loss: 17.5808 - accuracy: 0.1852 - val_loss: 19.0536 - val_accuracy: 0.2611\n",
      "Epoch 72/100\n",
      "17/17 [==============================] - 0s 12ms/step - loss: 16.9503 - accuracy: 0.1759 - val_loss: 18.6427 - val_accuracy: 0.2611\n",
      "Epoch 73/100\n",
      "17/17 [==============================] - 0s 12ms/step - loss: 16.7547 - accuracy: 0.1704 - val_loss: 18.4650 - val_accuracy: 0.2611\n",
      "Epoch 74/100\n",
      "17/17 [==============================] - 0s 11ms/step - loss: 16.7968 - accuracy: 0.1741 - val_loss: 18.2559 - val_accuracy: 0.2556\n",
      "Epoch 75/100\n",
      "17/17 [==============================] - 0s 11ms/step - loss: 16.6449 - accuracy: 0.1648 - val_loss: 18.0693 - val_accuracy: 0.2278\n",
      "Epoch 76/100\n",
      "17/17 [==============================] - 0s 11ms/step - loss: 16.6625 - accuracy: 0.1722 - val_loss: 17.9784 - val_accuracy: 0.2500\n",
      "Epoch 77/100\n",
      "17/17 [==============================] - 0s 11ms/step - loss: 16.0512 - accuracy: 0.1778 - val_loss: 17.2652 - val_accuracy: 0.2556\n",
      "Epoch 78/100\n",
      "17/17 [==============================] - 0s 11ms/step - loss: 15.5035 - accuracy: 0.1759 - val_loss: 17.1133 - val_accuracy: 0.2778\n",
      "Epoch 79/100\n",
      "17/17 [==============================] - 0s 11ms/step - loss: 16.5262 - accuracy: 0.1981 - val_loss: 18.2415 - val_accuracy: 0.2667\n",
      "Epoch 80/100\n",
      "17/17 [==============================] - 0s 11ms/step - loss: 16.5665 - accuracy: 0.1926 - val_loss: 17.7803 - val_accuracy: 0.2611\n",
      "Epoch 81/100\n",
      "17/17 [==============================] - 0s 11ms/step - loss: 16.0372 - accuracy: 0.1852 - val_loss: 16.8323 - val_accuracy: 0.2500\n",
      "Epoch 82/100\n",
      "17/17 [==============================] - 0s 11ms/step - loss: 15.6671 - accuracy: 0.1963 - val_loss: 16.7739 - val_accuracy: 0.2444\n",
      "Epoch 83/100\n",
      "17/17 [==============================] - 0s 11ms/step - loss: 16.4545 - accuracy: 0.2037 - val_loss: 18.9830 - val_accuracy: 0.2778\n",
      "Epoch 84/100\n",
      "17/17 [==============================] - 0s 11ms/step - loss: 19.1782 - accuracy: 0.2463 - val_loss: 18.4146 - val_accuracy: 0.2722\n",
      "Epoch 85/100\n",
      "17/17 [==============================] - 0s 11ms/step - loss: 17.9973 - accuracy: 0.2241 - val_loss: 17.4828 - val_accuracy: 0.2389\n",
      "Epoch 86/100\n",
      "17/17 [==============================] - 0s 11ms/step - loss: 16.8149 - accuracy: 0.2019 - val_loss: 16.8232 - val_accuracy: 0.2444\n",
      "Epoch 87/100\n",
      "17/17 [==============================] - 0s 11ms/step - loss: 15.9604 - accuracy: 0.1907 - val_loss: 16.8654 - val_accuracy: 0.2556\n",
      "Epoch 88/100\n",
      "17/17 [==============================] - 0s 11ms/step - loss: 15.8560 - accuracy: 0.1815 - val_loss: 16.3265 - val_accuracy: 0.2722\n",
      "Epoch 89/100\n",
      "17/17 [==============================] - 0s 11ms/step - loss: 15.3262 - accuracy: 0.1759 - val_loss: 16.1253 - val_accuracy: 0.2556\n",
      "Epoch 90/100\n",
      "17/17 [==============================] - 0s 13ms/step - loss: 14.7624 - accuracy: 0.1759 - val_loss: 15.7350 - val_accuracy: 0.2556\n",
      "Epoch 91/100\n",
      "17/17 [==============================] - 0s 11ms/step - loss: 14.5211 - accuracy: 0.1667 - val_loss: 15.4510 - val_accuracy: 0.2778\n",
      "Epoch 92/100\n",
      "17/17 [==============================] - 0s 13ms/step - loss: 14.1202 - accuracy: 0.1667 - val_loss: 15.1249 - val_accuracy: 0.2722\n",
      "Epoch 93/100\n",
      "17/17 [==============================] - 0s 14ms/step - loss: 13.6683 - accuracy: 0.1667 - val_loss: 15.2589 - val_accuracy: 0.2667\n",
      "Epoch 94/100\n",
      "17/17 [==============================] - 0s 17ms/step - loss: 13.5218 - accuracy: 0.1685 - val_loss: 16.1780 - val_accuracy: 0.2944\n",
      "Epoch 95/100\n",
      "17/17 [==============================] - 0s 21ms/step - loss: 15.6847 - accuracy: 0.2500 - val_loss: 18.5771 - val_accuracy: 0.3389\n",
      "Epoch 96/100\n",
      "17/17 [==============================] - 0s 22ms/step - loss: 15.9705 - accuracy: 0.2389 - val_loss: 17.2744 - val_accuracy: 0.3389\n",
      "Epoch 97/100\n",
      "17/17 [==============================] - 0s 18ms/step - loss: 14.8775 - accuracy: 0.2037 - val_loss: 16.2645 - val_accuracy: 0.3111\n",
      "Epoch 98/100\n",
      "17/17 [==============================] - 0s 17ms/step - loss: 14.2314 - accuracy: 0.1593 - val_loss: 15.7795 - val_accuracy: 0.2944\n",
      "Epoch 99/100\n",
      "17/17 [==============================] - 0s 13ms/step - loss: 13.8426 - accuracy: 0.1574 - val_loss: 15.0817 - val_accuracy: 0.2722\n",
      "Epoch 100/100\n",
      "17/17 [==============================] - 0s 17ms/step - loss: 13.6729 - accuracy: 0.1593 - val_loss: 14.8250 - val_accuracy: 0.2611\n"
     ]
    }
   ],
   "source": [
    "history = dnn_model.fit(X_train_norm, Y_train, epochs=100, validation_data=(X_valid_norm, Y_valid))"
   ]
  },
  {
   "cell_type": "code",
   "execution_count": 14,
   "id": "bcb1f230",
   "metadata": {},
   "outputs": [
    {
     "name": "stderr",
     "output_type": "stream",
     "text": [
      "E:\\Anaconda3\\lib\\site-packages\\pandas\\core\\frame.py:5039: SettingWithCopyWarning: \n",
      "A value is trying to be set on a copy of a slice from a DataFrame\n",
      "\n",
      "See the caveats in the documentation: https://pandas.pydata.org/pandas-docs/stable/user_guide/indexing.html#returning-a-view-versus-a-copy\n",
      "  return super().rename(\n"
     ]
    },
    {
     "data": {
      "text/plain": [
       "[Text(0.5, 0, 'Epoch'), Text(0, 0.5, 'Accuracy')]"
      ]
     },
     "execution_count": 14,
     "metadata": {},
     "output_type": "execute_result"
    },
    {
     "data": {
      "image/png": "[encoded data removed]",
      "text/plain": [
       "<Figure size 432x288 with 1 Axes>"
      ]
     },
     "metadata": {
      "needs_background": "light"
     },
     "output_type": "display_data"
    },
    {
     "data": {
      "image/png": "[encoded data removed]",
      "text/plain": [
       "<Figure size 432x288 with 1 Axes>"
      ]
     },
     "metadata": {
      "needs_background": "light"
     },
     "output_type": "display_data"
    }
   ],
   "source": [
    "df_loss_acc = pd.DataFrame(history.history)\n",
    "df_loss= df_loss_acc[['loss','val_loss']]\n",
    "df_loss.rename(columns={'loss':'train','val_loss':'validation'},inplace=True)\n",
    "df_acc= df_loss_acc[['accuracy','val_accuracy']]\n",
    "df_acc.rename(columns={'accuracy':'train','val_accuracy':'validation'},inplace=True)\n",
    "df_loss.plot(title='Model loss',figsize=(6,4)).set(xlabel='Epoch',ylabel='Loss')\n",
    "df_acc.plot(title='Model Accuracy',figsize=(6,4)).set(xlabel='Epoch',ylabel='Accuracy')"
   ]
  },
  {
   "cell_type": "code",
   "execution_count": null,
   "id": "174365de",
   "metadata": {},
   "outputs": [],
   "source": []
  }
 ],
 "metadata": {
  "kernelspec": {
   "display_name": "Python 3 (ipykernel)",
   "language": "python",
   "name": "python3"
  },
  "language_info": {
   "codemirror_mode": {
    "name": "ipython",
    "version": 3
   },
   "file_extension": ".py",
   "mimetype": "text/x-python",
   "name": "python",
   "nbconvert_exporter": "python",
   "pygments_lexer": "ipython3",
   "version": "3.9.7"
  }
 },
 "nbformat": 4,
 "nbformat_minor": 5
}
